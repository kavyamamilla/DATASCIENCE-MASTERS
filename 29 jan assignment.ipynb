{
 "cells": [
  {
   "cell_type": "markdown",
   "id": "295fa98f-dddf-4496-8d75-29e41e922eb2",
   "metadata": {},
   "source": [
    "### Guido van Rossum developed python programming language."
   ]
  },
  {
   "cell_type": "markdown",
   "id": "3f0d894c-b6a7-4c08-8e5d-8f7352768229",
   "metadata": {},
   "source": [
    "### Python is interpreted programming language,which supports object-oriented,structured and functional programming."
   ]
  },
  {
   "cell_type": "markdown",
   "id": "d31aa7ce-1727-422b-b765-d418b2902077",
   "metadata": {},
   "source": [
    "### Yes,python is case-sensitive language i.e.,it treats uppercase and lowercase characters differently.This applies identifiers too."
   ]
  },
  {
   "cell_type": "markdown",
   "id": "a089144d-ddf0-4144-85fa-46780269567b",
   "metadata": {},
   "source": [
    "## .py is the correct extension of python file."
   ]
  },
  {
   "cell_type": "markdown",
   "id": "90b0a163-ccd7-4b41-841a-516ce8063bdd",
   "metadata": {},
   "source": [
    "### Python is both compiled and interpreted language,which means when we run a python code,it is first compiled and then interpreted but the compilation part is hidden from the programmer."
   ]
  },
  {
   "cell_type": "markdown",
   "id": "c9193659-0c73-4fdb-bd86-74f04182f457",
   "metadata": {},
   "source": [
    "### Blocks of code defined by their indentation.A function is a block of code which only runs when it is called."
   ]
  },
  {
   "cell_type": "markdown",
   "id": "69aea62f-f4b1-4143-88c0-24018aaa4138",
   "metadata": {},
   "source": [
    "### Some of the functions are dict(),dir(),eval(),filter(),set(),tuple(),zip(),id(),int(),str(),hash()"
   ]
  },
  {
   "cell_type": "markdown",
   "id": "257fb791-fbc5-4748-8a85-f497f959b70b",
   "metadata": {},
   "source": [
    "### # is used for single-line comments in python."
   ]
  },
  {
   "cell_type": "markdown",
   "id": "067fb947-cbbd-40c1-bded-885aaea045f7",
   "metadata": {},
   "source": [
    "### sys.version can help us to find the version of python that we are currently working on."
   ]
  },
  {
   "cell_type": "markdown",
   "id": "83f0fc9d-62ea-40c5-909f-d4f1a66d78fd",
   "metadata": {},
   "source": [
    "### Python supports to make anonymous functions at runtime using construct called \" lambda \"."
   ]
  },
  {
   "cell_type": "markdown",
   "id": "76f740fb-e6d9-406c-8b24-a080f596ebee",
   "metadata": {},
   "source": [
    "### pip stands for pip install packages is the standard tool for installing python packages and their dependencies in a secure manner."
   ]
  },
  {
   "cell_type": "markdown",
   "id": "5737f617-0ab8-4705-ab12-02832be636d2",
   "metadata": {},
   "source": [
    "### some of the built-in-functions are int(),str(),tuple(),list(),dict(),set()"
   ]
  },
  {
   "cell_type": "markdown",
   "id": "020e53f8-009c-413e-9e86-0ecc58748077",
   "metadata": {},
   "source": [
    "### Maximum possible length of an identifier is 79 characters."
   ]
  },
  {
   "cell_type": "markdown",
   "id": "7910b49e-5932-498d-bb67-cb29dd7db92c",
   "metadata": {},
   "source": [
    "### Easy to read,learn and write , improved productivity,interpreted language,dynamically typed,free and open-source,vast libraries support,portability."
   ]
  },
  {
   "cell_type": "markdown",
   "id": "4319aea7-dc8d-49f7-8a49-78042faa3481",
   "metadata": {},
   "source": [
    "### Memory management in python involves a private heap containing all python objects and datastructures.The management of private heap is done by python manager."
   ]
  },
  {
   "cell_type": "markdown",
   "id": "e8875f77-faf8-4580-b2f3-dce8bef4b2c0",
   "metadata": {},
   "source": [
    "### Install python from the link https://www.python.org/downloads/.After this,install it on pc.Look for the location where python has been installed on yoour pc using the following command on your command prompt: cmd python.Then go to advanced system settings and add new variable and name it as PYTHON_NAME and paste the copied path.Then look for the path variable,select it's value and select edit.Add a semicolon towards the end of the value if it's not present and then type %PYTHON_HOME%"
   ]
  },
  {
   "cell_type": "markdown",
   "id": "002f18d3-0e80-42e5-b723-9a8e112f7463",
   "metadata": {},
   "source": [
    "### Yes,indentation is required in python."
   ]
  },
  {
   "cell_type": "code",
   "execution_count": null,
   "id": "094de294-c140-4c73-ba15-ff94ea79d70d",
   "metadata": {},
   "outputs": [],
   "source": []
  }
 ],
 "metadata": {
  "kernelspec": {
   "display_name": "Python 3 (ipykernel)",
   "language": "python",
   "name": "python3"
  },
  "language_info": {
   "codemirror_mode": {
    "name": "ipython",
    "version": 3
   },
   "file_extension": ".py",
   "mimetype": "text/x-python",
   "name": "python",
   "nbconvert_exporter": "python",
   "pygments_lexer": "ipython3",
   "version": "3.10.8"
  }
 },
 "nbformat": 4,
 "nbformat_minor": 5
}
