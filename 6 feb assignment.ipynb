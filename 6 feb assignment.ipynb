{
 "cells": [
  {
   "cell_type": "code",
   "execution_count": 39,
   "id": "e0a56452-6362-4431-9f33-02b752e62d05",
   "metadata": {},
   "outputs": [],
   "source": [
    "def test1():\n",
    "    flat=[]\n",
    "    l=[1,2,3,4, [44,55,66, True], False, (34,56,78,89,34), {1,2,3,3,2,1}, {1:34, \"key2\": [55, 67, 78, 89], 4: (45,22, 61, 34)}, [56, 'data science'], 'Machine Learning']\n",
    "    for i in l:\n",
    "        if type(i) is list:\n",
    "            for e in i:\n",
    "                flat.append(e)\n",
    "        elif type(i) is tuple:\n",
    "            for a in i:\n",
    "                flat.append(a)\n",
    "        elif type(i) is set:\n",
    "            for b in i:\n",
    "                flat.append(b)\n",
    "        elif type(i) is dict:\n",
    "            for c in i:\n",
    "                flat.append(c)\n",
    "        else:\n",
    "            flat.append(i)\n",
    "    res=1\n",
    "    for x in flat:\n",
    "        if type(x) is int:\n",
    "            res=res*x\n",
    "    return res\n",
    "            "
   ]
  },
  {
   "cell_type": "code",
   "execution_count": 40,
   "id": "4a1985e1-1078-43e9-83d1-e45c7e3a658b",
   "metadata": {},
   "outputs": [
    {
     "data": {
      "text/plain": [
       "2315262738624675840"
      ]
     },
     "execution_count": 40,
     "metadata": {},
     "output_type": "execute_result"
    }
   ],
   "source": [
    "test1()"
   ]
  },
  {
   "cell_type": "code",
   "execution_count": 65,
   "id": "370707f1-179a-427d-b4d6-386864d0bebc",
   "metadata": {},
   "outputs": [
    {
     "name": "stdout",
     "output_type": "stream",
     "text": [
      "r$dzmg$gl$yvxlnv$z$wzgz$hxrvmgrhg\n"
     ]
    }
   ],
   "source": [
    "n=str(\"I want to become a Data Scientist\")\n",
    "new=n.lower()\n",
    "s='$'\n",
    "new=new.replace(' ',s)\n",
    "con1={'a':'z','b':'y','c':'x','d':'w','e':'v','f':'u','g':'t','h':'s','i':'r','j':'q','k':'p','l':'o','m':'n','n':'m','o':'l','p':'k','q':'j','r':'i','s':'h','t':'g','u':'f','v':'e','w':'d','x':'c','y':'b','z':'a'}\n",
    "con2=\"\"\n",
    "for i in range(0,len(new)):\n",
    "    if new[i] in con1.keys():\n",
    "        con2+=con1[new[i]]\n",
    "    else:\n",
    "        con2+=new[i]\n",
    "print(con2)"
   ]
  }
 ],
 "metadata": {
  "kernelspec": {
   "display_name": "Python 3 (ipykernel)",
   "language": "python",
   "name": "python3"
  },
  "language_info": {
   "codemirror_mode": {
    "name": "ipython",
    "version": 3
   },
   "file_extension": ".py",
   "mimetype": "text/x-python",
   "name": "python",
   "nbconvert_exporter": "python",
   "pygments_lexer": "ipython3",
   "version": "3.10.8"
  }
 },
 "nbformat": 4,
 "nbformat_minor": 5
}
