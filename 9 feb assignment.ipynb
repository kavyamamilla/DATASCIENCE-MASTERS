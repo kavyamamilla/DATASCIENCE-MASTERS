{
 "cells": [
  {
   "cell_type": "code",
   "execution_count": 22,
   "id": "299f240f-6b3b-4079-93ec-4dd5d17921c6",
   "metadata": {},
   "outputs": [
    {
     "name": "stdout",
     "output_type": "stream",
     "text": [
      "Bus\n",
      "180\n",
      "12\n"
     ]
    }
   ],
   "source": [
    "class Vehicle:\n",
    "    def __init__(self,name_of_vehicle,max_speed,average_of_vehicle):\n",
    "        self.name_of_vehicle=name_of_vehicle\n",
    "        self.max_speed=max_speed\n",
    "        self.average_of_vehicle=average_of_vehicle\n",
    "a1=Vehicle(\"Bus\",180,12)\n",
    "print(a1.name_of_vehicle)\n",
    "print(a1.max_speed)\n",
    "print(a1.average_of_vehicle)\n"
   ]
  },
  {
   "cell_type": "code",
   "execution_count": 36,
   "id": "ad97b8a2-3c08-4a30-8d05-7e431676d519",
   "metadata": {},
   "outputs": [
    {
     "name": "stdout",
     "output_type": "stream",
     "text": [
      "The seating capacity of a Alpha is 50 passengers\n"
     ]
    }
   ],
   "source": [
    "class Vehicle:\n",
    "    def __init__(self,name_of_vehicle,max_speed,average_of_vehicle):\n",
    "        self.name_of_vehicle=name_of_vehicle\n",
    "        self.max_speed=max_speed\n",
    "        self.average_of_vehicle=average_of_vehicle\n",
    "\n",
    "    def seating_capacity(self,capacity):\n",
    "        return f\"The seating capacity of a {self.name_of_vehicle} is {capacity} passengers\"\n",
    "class Bus(Vehicle):\n",
    "    def seating_capacity(self,capacity=50):\n",
    "        return super().seating_capacity(capacity=50)\n",
    "a1=Bus(\"Alpha\",180,12)\n",
    "print(a1.seating_capacity())"
   ]
  },
  {
   "cell_type": "markdown",
   "id": "946a1654-f984-48aa-b5d4-a634dd6b3856",
   "metadata": {},
   "source": [
    "### In Multiple inheritance, class can be derived from more than one parent class."
   ]
  },
  {
   "cell_type": "code",
   "execution_count": 37,
   "id": "6e36b6da-af36-408a-9237-9132c31a1b09",
   "metadata": {},
   "outputs": [
    {
     "name": "stdout",
     "output_type": "stream",
     "text": [
      "30\n",
      "300\n",
      "3\n"
     ]
    }
   ],
   "source": [
    "class A:\n",
    "    x,y=10,20\n",
    "    def m1(self):\n",
    "        print(self.x+self.y)\n",
    "class B:\n",
    "    a,b=100,200\n",
    "    def m2(self):\n",
    "        print(self.a+self.b)\n",
    "class C(A,B):\n",
    "    i,j=1,2\n",
    "    def m3(self):\n",
    "        print(self.i+self.j)\n",
    "c=C()\n",
    "c.m1()\n",
    "c.m2()\n",
    "c.m3()"
   ]
  },
  {
   "cell_type": "markdown",
   "id": "47b1dcc0-6148-4d79-a95d-1cbc19784644",
   "metadata": {},
   "source": [
    "### Getters are the methods which help access the private attributes or get the value of the private attributes.Setters are the methods which help change or set the value of private attributes."
   ]
  },
  {
   "cell_type": "code",
   "execution_count": 42,
   "id": "cfa26ff7-0ec9-4685-8af3-b268eb14340f",
   "metadata": {},
   "outputs": [
    {
     "name": "stdout",
     "output_type": "stream",
     "text": [
      "0\n",
      "2023\n"
     ]
    }
   ],
   "source": [
    "class year_graduated:\n",
    "    def __init__(self,year=0):\n",
    "        self.year=year\n",
    "    def get_year(self):\n",
    "        return self.year\n",
    "    def set_year(self,a):\n",
    "        self.year=a\n",
    "grad_obj=year_graduated()\n",
    "print(grad_obj.get_year())\n",
    "grad_obj.set_year(2023)\n",
    "print(grad_obj.year)"
   ]
  },
  {
   "cell_type": "markdown",
   "id": "09fb1671-bd10-4214-bc03-a061ade44691",
   "metadata": {},
   "source": [
    "### Method overriding is an ability of any oop language that allows a subclass or childclass to provide a specific implementation of a method that is already provided by one of its super-classes or parent classes."
   ]
  },
  {
   "cell_type": "code",
   "execution_count": 43,
   "id": "f62d33bc-3e30-4b25-ab6d-203f09acfcfd",
   "metadata": {},
   "outputs": [
    {
     "name": "stdout",
     "output_type": "stream",
     "text": [
      "A\n",
      "B\n"
     ]
    }
   ],
   "source": [
    "class A:\n",
    "    def __init__(self):\n",
    "        self.value=\"A\"\n",
    "    def show(self):\n",
    "        print(self.value)\n",
    "class B(A):\n",
    "    def __init__(self):\n",
    "        self.value=\"B\"\n",
    "    def show(self):\n",
    "        print(self.value)\n",
    "a=A()\n",
    "b=B()\n",
    "a.show()\n",
    "b.show()"
   ]
  },
  {
   "cell_type": "code",
   "execution_count": null,
   "id": "02c9d694-23ec-4b24-bcea-1fad0ed2d70e",
   "metadata": {},
   "outputs": [],
   "source": []
  }
 ],
 "metadata": {
  "kernelspec": {
   "display_name": "Python 3 (ipykernel)",
   "language": "python",
   "name": "python3"
  },
  "language_info": {
   "codemirror_mode": {
    "name": "ipython",
    "version": 3
   },
   "file_extension": ".py",
   "mimetype": "text/x-python",
   "name": "python",
   "nbconvert_exporter": "python",
   "pygments_lexer": "ipython3",
   "version": "3.10.8"
  }
 },
 "nbformat": 4,
 "nbformat_minor": 5
}
