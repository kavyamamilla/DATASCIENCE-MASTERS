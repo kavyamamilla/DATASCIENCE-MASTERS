{
 "cells": [
  {
   "cell_type": "code",
   "execution_count": 1,
   "id": "3d682f63-f186-44be-85e6-2558b1530006",
   "metadata": {},
   "outputs": [],
   "source": [
    "import scipy.stats as stats\n",
    "\n",
    "def variance_ratio_test(x, y):\n",
    "    # Calculate the variances of each array\n",
    "    var_x = x.var(ddof=1)\n",
    "    var_y = y.var(ddof=1)\n",
    "    \n",
    "    # Calculate the F-value\n",
    "    f = var_x / var_y\n",
    "    \n",
    "    # Calculate the degrees of freedom\n",
    "    df_x = len(x) - 1\n",
    "    df_y = len(y) - 1\n",
    "    \n",
    "    # Calculate the p-value using the F-distribution\n",
    "    p = 1 - stats.f.cdf(f, df_x, df_y)\n",
    "    \n",
    "    return f, p\n"
   ]
  },
  {
   "cell_type": "code",
   "execution_count": 2,
   "id": "2ff75cf0-d2b9-4a85-96ed-53fe43bc6a6e",
   "metadata": {},
   "outputs": [
    {
     "name": "stdout",
     "output_type": "stream",
     "text": [
      "F-value: 0.25\n",
      "p-value: 0.896\n"
     ]
    }
   ],
   "source": [
    "import numpy as np\n",
    "\n",
    "x = np.array([1, 2, 3, 4, 5])\n",
    "y = np.array([2, 4, 6, 8, 10])\n",
    "\n",
    "f, p = variance_ratio_test(x, y)\n",
    "\n",
    "print(\"F-value:\", f)\n",
    "print(\"p-value:\", p)\n"
   ]
  },
  {
   "cell_type": "code",
   "execution_count": 3,
   "id": "dc1da53e-140c-436b-adb2-11a23544f3b1",
   "metadata": {},
   "outputs": [],
   "source": [
    "from scipy.stats import f\n",
    "\n",
    "def critical_f(alpha, dfn, dfd):\n",
    "    return f.ppf(1 - alpha / 2, dfn, dfd)"
   ]
  },
  {
   "cell_type": "code",
   "execution_count": 4,
   "id": "8fc85fc4-b511-40f7-b861-61f1e26e9a1b",
   "metadata": {},
   "outputs": [
    {
     "data": {
      "text/plain": [
       "38.506329113924025"
      ]
     },
     "execution_count": 4,
     "metadata": {},
     "output_type": "execute_result"
    }
   ],
   "source": [
    "critical_f(0.05,1,2)"
   ]
  },
  {
   "cell_type": "code",
   "execution_count": 5,
   "id": "a2f35248-2438-45af-9a4b-78a9b4bd64d0",
   "metadata": {},
   "outputs": [
    {
     "name": "stdout",
     "output_type": "stream",
     "text": [
      "F-value: 0.7222372045945328\n",
      "Degrees of freedom (numerator, denominator): 19 24\n",
      "p-value: 1.526921109524387\n"
     ]
    }
   ],
   "source": [
    "import numpy as np\n",
    "from scipy.stats import f\n",
    "\n",
    "# set random seed for reproducibility\n",
    "np.random.seed(123)\n",
    "\n",
    "# generate random samples from two normal distributions with known variances\n",
    "n1, n2 = 20, 25\n",
    "mean1, mean2 = 0, 0\n",
    "var1, var2 = 1, 2\n",
    "sample1 = np.random.normal(mean1, np.sqrt(var1), n1)\n",
    "sample2 = np.random.normal(mean2, np.sqrt(var2), n2)\n",
    "\n",
    "# calculate the F-value and p-value for the F-test\n",
    "f_value = np.var(sample1, ddof=1) / np.var(sample2, ddof=1)\n",
    "dfn = n1 - 1\n",
    "dfd = n2 - 1\n",
    "p_value = 2 * (1 - f.cdf(f_value, dfn, dfd))\n",
    "\n",
    "# print the results\n",
    "print(\"F-value:\", f_value)\n",
    "print(\"Degrees of freedom (numerator, denominator):\", dfn, dfd)\n",
    "print(\"p-value:\", p_value)\n"
   ]
  },
  {
   "cell_type": "code",
   "execution_count": 6,
   "id": "75ea7021-4fee-4deb-ad17-f58b0386948f",
   "metadata": {},
   "outputs": [
    {
     "name": "stdout",
     "output_type": "stream",
     "text": [
      "F-statistic:  0.6666666666666666\n",
      "p-value:  1.4876102012642005\n"
     ]
    }
   ],
   "source": [
    "import scipy.stats as stats\n",
    "\n",
    "# Sample variances\n",
    "s1_sq = 10\n",
    "s2_sq = 15\n",
    "\n",
    "# Sample sizes\n",
    "n1 = 12\n",
    "n2 = 12\n",
    "\n",
    "# Calculate the F-statistic\n",
    "F = s1_sq / s2_sq\n",
    "\n",
    "# Calculate the p-value\n",
    "p = 2 * (1 - stats.f.cdf(F, n1-1, n2-1))\n",
    "\n",
    "# Print the results\n",
    "print(\"F-statistic: \", F)\n",
    "print(\"p-value: \", p)\n"
   ]
  },
  {
   "cell_type": "markdown",
   "id": "baae4258-8347-4f38-b717-a85e5a3218ac",
   "metadata": {},
   "source": [
    "### We can use an F-test to determine if the claim that the variance is 0.005 is justified. The null hypothesis is that the population variance is equal to 0.005, while the alternative hypothesis is that it is greater than 0.005.\n",
    "\n",
    "Let's first calculate the F-statistic:\n",
    "\n",
    "F = (sample variance) / (population variance) = 0.006 / 0.005 = 1.2"
   ]
  },
  {
   "cell_type": "code",
   "execution_count": 7,
   "id": "64809a5e-f216-4b7a-bb4b-0fa15c29ab3d",
   "metadata": {},
   "outputs": [
    {
     "name": "stdout",
     "output_type": "stream",
     "text": [
      "Critical F-value: 2.659072104348157\n"
     ]
    }
   ],
   "source": [
    "from scipy.stats import f\n",
    "\n",
    "alpha = 0.01\n",
    "dfn = 24\n",
    "dfd = 24\n",
    "critical_f = f.ppf(1-alpha, dfn, dfd)\n",
    "print(\"Critical F-value:\", critical_f)\n"
   ]
  },
  {
   "cell_type": "code",
   "execution_count": 8,
   "id": "c8905572-6a29-4eb3-aed0-054ca2c77702",
   "metadata": {},
   "outputs": [],
   "source": [
    "from math import gamma\n",
    "\n",
    "def f_distribution_mean_var(df_numerator, df_denominator):\n",
    "    mean = df_denominator / (df_denominator - 2)\n",
    "    variance = (2 * (df_denominator ** 2) * (df_numerator + df_denominator - 2)) / (df_numerator * (df_denominator - 2) ** 2 * (df_denominator - 4))\n",
    "    return mean, variance\n"
   ]
  },
  {
   "cell_type": "code",
   "execution_count": 9,
   "id": "51cc7932-b2aa-48e2-9e88-2ea1adf6baaa",
   "metadata": {},
   "outputs": [
    {
     "data": {
      "text/plain": [
       "(1.2857142857142858, 1.586938775510204)"
      ]
     },
     "execution_count": 9,
     "metadata": {},
     "output_type": "execute_result"
    }
   ],
   "source": [
    "f_distribution_mean_var(5,9)"
   ]
  },
  {
   "cell_type": "markdown",
   "id": "f58cbd1b-01d5-4d3c-bb34-6e73925b11d8",
   "metadata": {},
   "source": [
    "### To conduct an F-test for comparing two variances, we need to calculate the F-value using the ratio of sample variances.\n",
    "\n",
    "The null hypothesis is that the two population variances are equal, and the alternative hypothesis is that they are not equal.\n",
    "\n",
    "We can calculate the F-value as follows:\n",
    "\n",
    "F = s1^2 / s2^2\n",
    "\n",
    "where s1^2 is the sample variance of the first sample and s2^2 is the sample variance of the second sample.\n",
    "\n",
    "The test statistic follows an F-distribution with degrees of freedom (df1, df2) = (n1 - 1, n2 - 1), where n1 and n2 are the sample sizes.\n",
    "\n",
    "Using the given information, we have:\n",
    "\n",
    "s1^2 = 25\n",
    "\n",
    "s2^2 = 20\n",
    "\n",
    "n1 = 10\n",
    "\n",
    "n2 = 15\n",
    "\n",
    "Thus, the F-value is:\n",
    "\n",
    "F = s1^2 / s2^2 = 25 / 20 = 1.25\n",
    "\n",
    "The degrees of freedom are:\n",
    "\n",
    "df1 = n1 - 1 = 9\n",
    "\n",
    "df2 = n2 - 1 = 14\n",
    "\n"
   ]
  },
  {
   "cell_type": "code",
   "execution_count": 16,
   "id": "a46ff1b0-f6c1-4ab1-afd8-c809df009a34",
   "metadata": {},
   "outputs": [
    {
     "name": "stdout",
     "output_type": "stream",
     "text": [
      "Fail to reject null hypothesis: The variances are not significantly different.\n"
     ]
    }
   ],
   "source": [
    "import scipy.stats as stats\n",
    "\n",
    "p_value = 1 - stats.f.cdf(F, 9, 14)\n",
    "alpha = 0.10\n",
    "crit_val = stats.f.ppf(alpha/2, 9, 14), stats.f.ppf(1-alpha/2, 9, 14)\n",
    "p_value = 1 - stats.f.cdf(1.25, 9, 14)\n",
    "\n",
    "if 1.25 < crit_val[0] or 1.25 > crit_val[1]:\n",
    "    print(\"Reject null hypothesis: The variances are significantly different.\")\n",
    "else:\n",
    "    print(\"Fail to reject null hypothesis: The variances are not significantly different.\")\n"
   ]
  },
  {
   "cell_type": "markdown",
   "id": "1d35f702-e3cf-4868-b72d-25e9c0c19c75",
   "metadata": {},
   "source": [
    "### To conduct an F-test to determine if the variances of two populations are significantly different, we can use the following formula:\n",
    "\n",
    "F = s1^2 / s2^2\n",
    "\n",
    "where s1^2 and s2^2 are the sample variances of the two populations.\n",
    "\n",
    "Let's first calculate the sample variances for the two restaurants:\n",
    "\n",
    "s1^2 = ((24-25.7)^2 + (25-25.7)^2 + (28-25.7)^2 + (23-25.7)^2 + (22-25.7)^2 + (20-25.7)^2 + (27-25.7)^2) / 6 = 9.49\n",
    "\n",
    "s2^2 = ((31-32.8)^2 + (33-32.8)^2 + (35-32.8)^2 + (30-32.8)^2 + (32-32.8)^2 + (36-32.8)^2) / 5 = 6.80\n",
    "\n",
    "Next, we can calculate the F-statistic:\n",
    "\n",
    "F = s1^2 / s2^2 = 9.49 / 6.80 = 1.39\n",
    "\n",
    "To determine if this F-value is significant, we need to compare it to the critical F-value at the 5% significance level. Using an F-distribution table with 6 and 5 degrees of freedom (6 for Restaurant A and 5 for Restaurant B), the critical F-value is 5.14.\n",
    "\n",
    "Since our calculated F-value (1.39) is less than the critical F-value (5.14), we fail to reject the null hypothesis that the variances of the two populations are equal. Therefore, we can conclude that there is not enough evidence to suggest that the waiting times at the two restaurants have significantly different variances."
   ]
  },
  {
   "cell_type": "markdown",
   "id": "a70630b9-f25d-44e6-ac5a-c2a62287f9ea",
   "metadata": {},
   "source": [
    "Sample variance of Group A: s1^2 = 30.67\n",
    "\n",
    "Sample variance of Group B: s2^2 = 7.6\n",
    "\n",
    "F-statistic: F = s1^2 / s2^2 = 30.67 / 7.6 = 4.04\n",
    "\n",
    "Degrees of freedom: df1 = 5, df2 = 5\n",
    "\n",
    "Critical F-value at 0.01 significance level and df1 = 5, df2 = 5: 10.13\n",
    "\n",
    "Since the calculated F-statistic (4.04) is less than the critical F-value (10.13), we fail to reject the null hypothesis that the variances are equal. Therefore, we can conclude that there is not enough evidence to suggest that the variances of the two groups are significantly different at the 1% significance level."
   ]
  },
  {
   "cell_type": "code",
   "execution_count": null,
   "id": "0862dc8e-b1c6-4f73-8874-790ea4740d5f",
   "metadata": {},
   "outputs": [],
   "source": []
  }
 ],
 "metadata": {
  "kernelspec": {
   "display_name": "Python 3 (ipykernel)",
   "language": "python",
   "name": "python3"
  },
  "language_info": {
   "codemirror_mode": {
    "name": "ipython",
    "version": 3
   },
   "file_extension": ".py",
   "mimetype": "text/x-python",
   "name": "python",
   "nbconvert_exporter": "python",
   "pygments_lexer": "ipython3",
   "version": "3.10.8"
  }
 },
 "nbformat": 4,
 "nbformat_minor": 5
}
