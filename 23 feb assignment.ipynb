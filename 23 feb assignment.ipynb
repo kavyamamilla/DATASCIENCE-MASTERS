{
 "cells": [
  {
   "cell_type": "code",
   "execution_count": 2,
   "id": "bbb030a2-b5f4-4e7d-b1a5-e2e44e9e80ab",
   "metadata": {},
   "outputs": [],
   "source": [
    "import pandas as pd"
   ]
  },
  {
   "cell_type": "code",
   "execution_count": 3,
   "id": "9b7fd9bb-c915-4f91-ab1b-ea59274948f4",
   "metadata": {},
   "outputs": [],
   "source": [
    "import numpy as np"
   ]
  },
  {
   "cell_type": "code",
   "execution_count": 4,
   "id": "3ed76560-2fbb-4a7e-a7f6-967b36013293",
   "metadata": {},
   "outputs": [
    {
     "name": "stdout",
     "output_type": "stream",
     "text": [
      "0     4\n",
      "1     8\n",
      "2    15\n",
      "3    16\n",
      "4    23\n",
      "5    42\n",
      "dtype: int64\n"
     ]
    }
   ],
   "source": [
    "data=np.array([4,8,15,16,23,42])\n",
    "ser=pd.Series(data)\n",
    "print(ser)"
   ]
  },
  {
   "cell_type": "code",
   "execution_count": 5,
   "id": "da96381a-30f6-4dd7-b3c6-2a4ac0fc4829",
   "metadata": {},
   "outputs": [
    {
     "name": "stdout",
     "output_type": "stream",
     "text": [
      "0     1\n",
      "1     2\n",
      "2     3\n",
      "3     4\n",
      "4     5\n",
      "5     6\n",
      "6     7\n",
      "7     8\n",
      "8     9\n",
      "9    10\n",
      "dtype: int64\n"
     ]
    }
   ],
   "source": [
    "list=[1,2,3,4,5,6,7,8,9,10]\n",
    "df=pd.Series(list)\n",
    "print(df)"
   ]
  },
  {
   "cell_type": "code",
   "execution_count": 14,
   "id": "bd7d72e9-bcf7-4a62-82a4-e1259b8f2a45",
   "metadata": {},
   "outputs": [
    {
     "name": "stdout",
     "output_type": "stream",
     "text": [
      "        0   1       2\n",
      "0   Alice  25  Female\n",
      "1     Bob  30    Male\n",
      "2  Claire  27  Female\n"
     ]
    }
   ],
   "source": [
    "data={'Name':[\"Alice\",\"Bob\",\"Claire\"]\n",
    "Age=pd.Series([25,30,27])\n",
    "Gender=pd.Series([\"Female\",\"Male\",\"Female\"])\n",
    "df=pd.(['Name'],['Age'],['Gender'])\n",
    "print(df)"
   ]
  },
  {
   "cell_type": "markdown",
   "id": "92b6881d-6f70-4e62-88c3-c9f5fc4005e6",
   "metadata": {},
   "source": [
    "### Pandas dataframe is a two-dimensional structure with columns and rows whose size can be changed.Pandas series data structure is a one-dimensional labelled array.It is the primary building block for a dataframe."
   ]
  },
  {
   "cell_type": "markdown",
   "id": "e5f695d0-1edd-4bd9-8f19-9c776bbdd1ed",
   "metadata": {},
   "source": [
    "### read_csv : We can read data in pandas dataframe as read_csv.Two most used data read formats are csv and excel.pd.read_csv(),pd.read_excel()."
   ]
  },
  {
   "cell_type": "markdown",
   "id": "da2a32bf-221c-4f7c-a925-884319e39a2b",
   "metadata": {},
   "source": [
    "### head() : It returns first five rows in a dataframe.To see the dataframe we can use it."
   ]
  },
  {
   "cell_type": "markdown",
   "id": "69d53aa5-503e-4ecb-85d7-69cc3aa9bb8e",
   "metadata": {},
   "source": [
    "### tail() : It returns last five rows in a dataframe.To see the dataframe we can use it."
   ]
  },
  {
   "cell_type": "markdown",
   "id": "f6d3d93b-d5bd-4f31-9fc5-93093514b590",
   "metadata": {},
   "source": [
    "### shape() : It gives total number of rows and total number of columns."
   ]
  },
  {
   "cell_type": "markdown",
   "id": "9855db2e-902b-49e2-848e-015e43b25a0e",
   "metadata": {},
   "source": [
    "### size() : It returns the number of rows times number of columns in the dataframe."
   ]
  },
  {
   "cell_type": "markdown",
   "id": "f5961fc7-4ecb-4007-b782-0dc5fe827176",
   "metadata": {},
   "source": [
    "### info() : From this we can get different information such as rows from RangeIndex(),Data columns and then datatype of each column."
   ]
  },
  {
   "cell_type": "markdown",
   "id": "4a410398-e4d9-4ef9-999d-5084e408d17a",
   "metadata": {},
   "source": [
    "### describe() : It will give count,mean,standard deviation and also 5 number summary."
   ]
  },
  {
   "cell_type": "markdown",
   "id": "7a544557-f8fa-4433-9b0c-4535e64aca8a",
   "metadata": {},
   "source": [
    "### Series is immutable.Data frame and panel are mutable."
   ]
  },
  {
   "cell_type": "code",
   "execution_count": 11,
   "id": "afc1324c-e2c0-46f4-a44d-d3eb296305ad",
   "metadata": {},
   "outputs": [
    {
     "name": "stdout",
     "output_type": "stream",
     "text": [
      "        0   1       2\n",
      "0   Alice  25  female\n",
      "1     Bob  30    male\n",
      "2  Claire  27  female\n"
     ]
    }
   ],
   "source": [
    "name=pd.Series([\"Alice\",\"Bob\",\"Claire\"])\n",
    "age=pd.Series([25,30,27])\n",
    "gender=pd.Series([\"female\",\"male\",\"female\"])\n",
    "df=pd.concat([name,age,gender],axis=1)\n",
    "print(df)"
   ]
  },
  {
   "cell_type": "code",
   "execution_count": null,
   "id": "3200fc12-e0fa-4e2b-bbdc-be2656bef807",
   "metadata": {},
   "outputs": [],
   "source": []
  }
 ],
 "metadata": {
  "kernelspec": {
   "display_name": "Python 3 (ipykernel)",
   "language": "python",
   "name": "python3"
  },
  "language_info": {
   "codemirror_mode": {
    "name": "ipython",
    "version": 3
   },
   "file_extension": ".py",
   "mimetype": "text/x-python",
   "name": "python",
   "nbconvert_exporter": "python",
   "pygments_lexer": "ipython3",
   "version": "3.10.8"
  }
 },
 "nbformat": 4,
 "nbformat_minor": 5
}
