{
 "cells": [
  {
   "cell_type": "code",
   "execution_count": 3,
   "id": "1a2a49f2-e2a5-4f73-a2b2-7eb570a9d2c4",
   "metadata": {},
   "outputs": [
    {
     "name": "stdin",
     "output_type": "stream",
     "text": [
      " 95\n"
     ]
    },
    {
     "name": "stdout",
     "output_type": "stream",
     "text": [
      "A\n"
     ]
    }
   ],
   "source": [
    "n=int(input())\n",
    "if(n>90):\n",
    "    print(\"A\")\n",
    "elif(n>80 and n<=90):\n",
    "    print(\"B\")\n",
    "elif(n>=60 and n<=80):\n",
    "    print(\"C\")\n",
    "else:\n",
    "    print(\"D\")"
   ]
  },
  {
   "cell_type": "code",
   "execution_count": 1,
   "id": "aef7d186-6ff6-4d2c-9495-f9237a21f9eb",
   "metadata": {},
   "outputs": [
    {
     "name": "stdin",
     "output_type": "stream",
     "text": [
      " 100000\n"
     ]
    },
    {
     "name": "stdout",
     "output_type": "stream",
     "text": [
      "10000.0\n"
     ]
    }
   ],
   "source": [
    "n=int(input())\n",
    "if(n>100000):\n",
    "    print(n*0.15)\n",
    "elif(n>50000 and n<=100000):\n",
    "    print(n*0.1)\n",
    "else:\n",
    "    print(n*0.05)"
   ]
  },
  {
   "cell_type": "code",
   "execution_count": 6,
   "id": "f1e2a712-4753-4f6e-ad1b-a5cbabc96f13",
   "metadata": {},
   "outputs": [
    {
     "name": "stdin",
     "output_type": "stream",
     "text": [
      " Delhi\n"
     ]
    },
    {
     "name": "stdout",
     "output_type": "stream",
     "text": [
      "Red Fort\n"
     ]
    }
   ],
   "source": [
    "n=str(input())\n",
    "if(n==\"Delhi\"):\n",
    "    print(\"Red Fort\")\n",
    "elif(n==\"Agra\"):\n",
    "    print(\"Taj Mahal\")\n",
    "else:\n",
    "    print(\"Jal Mahal\")"
   ]
  },
  {
   "cell_type": "code",
   "execution_count": 1,
   "id": "41dfd6d3-12fb-4b14-a1a2-395368cb5b1a",
   "metadata": {},
   "outputs": [
    {
     "name": "stdin",
     "output_type": "stream",
     "text": [
      " 99\n"
     ]
    },
    {
     "name": "stdout",
     "output_type": "stream",
     "text": [
      "3\n"
     ]
    }
   ],
   "source": [
    "n=int(input())\n",
    "count=0\n",
    "while n>10:\n",
    "    n/=3\n",
    "    count+=1\n",
    "print(count)"
   ]
  },
  {
   "cell_type": "markdown",
   "id": "624cd88b-1b8a-4e3f-a448-c694bda0aa40",
   "metadata": {},
   "source": [
    "### While loop is used when we are not sure about number of iterations.Above example is used for while loop.While loop checks the condition first and then executed the program."
   ]
  },
  {
   "cell_type": "code",
   "execution_count": 1,
   "id": "fa9c5b3f-b36a-42ad-bee8-8f560f4f22eb",
   "metadata": {},
   "outputs": [
    {
     "name": "stdin",
     "output_type": "stream",
     "text": [
      "Enter the number of rows:  4\n"
     ]
    },
    {
     "name": "stdout",
     "output_type": "stream",
     "text": [
      "   *\n",
      "  ***\n",
      " *****\n",
      "*******\n"
     ]
    }
   ],
   "source": [
    "num_rows = int(input(\"Enter the number of rows: \"))\n",
    "row = 0 #row intialize\n",
    "while(row < num_rows):\n",
    "    row += 1 #Rows count increase\n",
    "    s = num_rows - row #Spaces\n",
    "\n",
    "    sc = 0 #Space counter intialize\n",
    "    while(sc < s):\n",
    "        print(\" \", end='')\n",
    "        sc += 1\n",
    "\n",
    "    stars = 2*row-1 #Number of stars\n",
    "    while(stars > 0):\n",
    "        print(\"*\", end='')\n",
    "        stars -= 1\n",
    "    print()"
   ]
  },
  {
   "cell_type": "code",
   "execution_count": 3,
   "id": "57e7fc7f-bca8-4d99-a6ec-9a3353b1753b",
   "metadata": {},
   "outputs": [
    {
     "name": "stdin",
     "output_type": "stream",
     "text": [
      " 10\n"
     ]
    },
    {
     "name": "stdout",
     "output_type": "stream",
     "text": [
      "9\n",
      "8\n",
      "7\n",
      "6\n",
      "5\n",
      "4\n",
      "3\n",
      "2\n",
      "1\n"
     ]
    }
   ],
   "source": [
    "n=int(input())\n",
    "while(n<11 and n>1):\n",
    "    n-=1\n",
    "    print(n)\n",
    "    "
   ]
  },
  {
   "cell_type": "code",
   "execution_count": null,
   "id": "b8120a93-f2de-4593-a8bb-b0c482c4447c",
   "metadata": {},
   "outputs": [],
   "source": []
  }
 ],
 "metadata": {
  "kernelspec": {
   "display_name": "Python 3 (ipykernel)",
   "language": "python",
   "name": "python3"
  },
  "language_info": {
   "codemirror_mode": {
    "name": "ipython",
    "version": 3
   },
   "file_extension": ".py",
   "mimetype": "text/x-python",
   "name": "python",
   "nbconvert_exporter": "python",
   "pygments_lexer": "ipython3",
   "version": "3.10.8"
  }
 },
 "nbformat": 4,
 "nbformat_minor": 5
}
