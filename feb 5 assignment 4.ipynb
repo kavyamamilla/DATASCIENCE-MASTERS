{
 "cells": [
  {
   "cell_type": "markdown",
   "id": "a5390974-a32e-4c38-b35b-4d06fe6ca79a",
   "metadata": {},
   "source": [
    "### Class is an object constructor,or a \"blueprint\" for creating objects.Classes are created by keyword class.Attributes are the variables that belong to a class.Attributes are always public and can be accessed using the dot(.) operator."
   ]
  },
  {
   "cell_type": "markdown",
   "id": "0ec2de45-b39e-4b23-aee8-5e1bcc8803b4",
   "metadata": {},
   "source": [
    "### An object is an instance of a class.Object consists of state,behaviour,identity.\n",
    "State : Represented by the attributes of an object.It also reflects the properties of an object.\n",
    "Behaviour : Representeed by methods of an object.It also reflects the response of an object to other objects.\n",
    "Identity : It gives a unique name to an object and enables one object to interact with other objects."
   ]
  },
  {
   "cell_type": "markdown",
   "id": "5b155d16-beef-4c14-bd57-8fa0a4ce4e1e",
   "metadata": {},
   "source": [
    "### __init__() method : It assign values to object properties.All classes have a function called __init__() which is always executed when the class is being initiated"
   ]
  },
  {
   "cell_type": "code",
   "execution_count": 1,
   "id": "3a79f85b-add5-4a41-aac8-22fcf7b8ab93",
   "metadata": {},
   "outputs": [
    {
     "name": "stdout",
     "output_type": "stream",
     "text": [
      "M\n",
      "21\n"
     ]
    }
   ],
   "source": [
    "class Person:\n",
    "    def __init__(self,name,age):\n",
    "        self.name=name\n",
    "        self.age=age\n",
    "p1=Person(\"M\",21)\n",
    "print(p1.name)\n",
    "print(p1.age)"
   ]
  },
  {
   "cell_type": "markdown",
   "id": "fd8c0620-858e-43d0-80c8-de3288129d2d",
   "metadata": {},
   "source": [
    "### self parameter is reference to the current instance of the class,and is used to access variables that belongs to the class.It does not have to be named self,we can call it whatever we like,but it has to be the first parameter of any function in the class."
   ]
  },
  {
   "cell_type": "markdown",
   "id": "7a0603f7-4163-4048-9766-d954a8dccb4e",
   "metadata": {},
   "source": [
    "### Four pillars of oops are inheritance,polymorphism,encapsulation,abstraction."
   ]
  },
  {
   "cell_type": "markdown",
   "id": "98448209-a86b-4c77-86e8-ebe57ce1b843",
   "metadata": {},
   "source": [
    "### Inheritance is defined as the mechanism of inheriting the properties of base class to the child class."
   ]
  },
  {
   "cell_type": "markdown",
   "id": "726a3282-5d7a-4ddc-9832-ba8809805123",
   "metadata": {},
   "source": [
    "### Single inheritance enables a derived class to inherit properties from a single parent class."
   ]
  },
  {
   "cell_type": "code",
   "execution_count": 2,
   "id": "96122a47-c90a-48e2-8d3d-786b8cf32bcd",
   "metadata": {},
   "outputs": [
    {
     "name": "stdout",
     "output_type": "stream",
     "text": [
      "This is classA\n",
      "This is classB\n"
     ]
    }
   ],
   "source": [
    "class A:\n",
    "    def func1(self):\n",
    "        print(\"This is classA\")\n",
    "class B(A):\n",
    "    def func2(self):\n",
    "        print(\"This is classB\")\n",
    "obj=B()\n",
    "obj.func1()\n",
    "obj.func2()"
   ]
  },
  {
   "cell_type": "markdown",
   "id": "eab1a3d2-391b-44fa-860b-f277f94d6df5",
   "metadata": {},
   "source": [
    "### In Multiple inheritance, class can be derived from more than one parent class."
   ]
  },
  {
   "cell_type": "code",
   "execution_count": 5,
   "id": "d7ca1ba6-6ad2-45e4-a483-8b509cab1433",
   "metadata": {},
   "outputs": [
    {
     "name": "stdout",
     "output_type": "stream",
     "text": [
      "K\n",
      "A\n"
     ]
    }
   ],
   "source": [
    "class A:\n",
    "    mothername=\"\"\n",
    "    def mother(self):\n",
    "        print(self.mothername)\n",
    "class B:\n",
    "    fathername=\"\"\n",
    "    def father(self):\n",
    "        print(self.fathername)\n",
    "class C(A,B):\n",
    "    def parents(self):\n",
    "        print(self.mothername)\n",
    "        print(self.fathername)\n",
    "s1=C()\n",
    "s1.fathername=\"A\"\n",
    "s1.mothername=\"K\"\n",
    "s1.parents()"
   ]
  },
  {
   "cell_type": "markdown",
   "id": "01938eb1-80b1-4031-b4eb-c48487402411",
   "metadata": {},
   "source": [
    "### In Multilevel inheritance,features of parent class and the derived class are further inherited into the new derived class."
   ]
  },
  {
   "cell_type": "code",
   "execution_count": 1,
   "id": "b069f364-1b97-4cc4-ab15-84e1e85d9034",
   "metadata": {},
   "outputs": [
    {
     "name": "stdout",
     "output_type": "stream",
     "text": [
      "30\n",
      "300\n",
      "30\n",
      "300\n",
      "3\n"
     ]
    }
   ],
   "source": [
    "class A:\n",
    "    x,y=10,20\n",
    "    def m1(self):\n",
    "        print(self.x+self.y)\n",
    "class B(A):\n",
    "    a,b=100,200\n",
    "    def m2(self):\n",
    "        print(self.a+self.b)\n",
    "class C(B):\n",
    "    i,j=1,2\n",
    "    def m3(self):\n",
    "        print(self.i+self.j)\n",
    "b=B()\n",
    "b.m1()\n",
    "b.m2()\n",
    "c=C()\n",
    "c.m1()\n",
    "c.m2()\n",
    "c.m3()"
   ]
  },
  {
   "cell_type": "markdown",
   "id": "bb000e13-3e5d-42df-b225-6a3799f8e785",
   "metadata": {},
   "source": [
    "### In Hierarchial inheritance more than one derived class are created from a single parent."
   ]
  },
  {
   "cell_type": "code",
   "execution_count": 2,
   "id": "b8c7c7a0-a4bf-4e72-94f5-64f4b81e1b26",
   "metadata": {},
   "outputs": [
    {
     "name": "stdout",
     "output_type": "stream",
     "text": [
      "30\n",
      "300\n",
      "30\n",
      "3\n"
     ]
    }
   ],
   "source": [
    "class A:\n",
    "    x,y=10,20\n",
    "    def m1(self):\n",
    "        print(self.x+self.y)\n",
    "class B(A):\n",
    "    a,b=100,200\n",
    "    def m2(self):\n",
    "        print(self.a+self.b)\n",
    "class C(A):\n",
    "    i,j=1,2\n",
    "    def m3(self):\n",
    "        print(self.i+self.j)\n",
    "b=B()\n",
    "b.m1()\n",
    "b.m2()\n",
    "c=C()\n",
    "c.m1()\n",
    "c.m3()"
   ]
  },
  {
   "cell_type": "markdown",
   "id": "2af1343e-5ce2-45c6-961c-7fc6f7aa232f",
   "metadata": {},
   "source": [
    "### Hybrid inheritance consists of multiple types of inheritance."
   ]
  },
  {
   "cell_type": "code",
   "execution_count": null,
   "id": "bf17c532-c4ba-4236-a54a-d2babb837b81",
   "metadata": {},
   "outputs": [],
   "source": [
    "class A:\n",
    "    def m1(self):\n",
    "        print(\"classA\")\n",
    "class B(A):\n",
    "    def m2(self):\n",
    "        print(\"classB\")\n",
    "class C(A):\n",
    "    def m3(self):\n",
    "        print(\"classC\")\n",
    "class D("
   ]
  }
 ],
 "metadata": {
  "kernelspec": {
   "display_name": "Python 3 (ipykernel)",
   "language": "python",
   "name": "python3"
  },
  "language_info": {
   "codemirror_mode": {
    "name": "ipython",
    "version": 3
   },
   "file_extension": ".py",
   "mimetype": "text/x-python",
   "name": "python",
   "nbconvert_exporter": "python",
   "pygments_lexer": "ipython3",
   "version": "3.10.8"
  }
 },
 "nbformat": 4,
 "nbformat_minor": 5
}
