{
 "cells": [
  {
   "cell_type": "markdown",
   "id": "dbe7a50c-845a-467c-af10-72c5f7953886",
   "metadata": {},
   "source": [
    "### APIs are used in web applications to connect user-facing front ends with critical back-end functionality and data. APIs are used to deliver material by streaming services such as Spotify and Netflix. APIs are used by automakers such as Tesla to provide software upgrades."
   ]
  },
  {
   "cell_type": "markdown",
   "id": "91a5b3b9-e45a-4ba8-886b-e19149fe5e6d",
   "metadata": {},
   "source": [
    "### Advantages of API\n",
    "Increased Visibility and Traffic\n",
    "First, it allows you to share your data and functionality with a broader audience, increasing traffic and visibility for your website or app.\n",
    "\n",
    "Seamless Integration\n",
    "It makes it easy to integrate with other applications and services, saving you time and money.\n",
    "\n",
    "Increased Efficiency\n",
    "It allows you to access data and functionality without navigating multiple menus or screens. This can speed up the development process and make your app or website more user-friendly.\n",
    "\n",
    "Easier Maintenance\n",
    "It reduces the amount of work needed on the back-end, making maintenance and updates more effortless and less time-consuming.\n",
    "\n",
    "Reduced Costs\n",
    "It allows developers to reuse code and functionality in multiple applications, saving time and money.\n",
    "\n",
    "Improved Customer Experience\n",
    "It makes it easier for users to access your data and functionality across multiple devices or platforms, improving the user experience and increasing customer satisfaction."
   ]
  },
  {
   "cell_type": "markdown",
   "id": "27b221d7-98e7-4b69-adcf-471edf4f4c70",
   "metadata": {},
   "source": [
    "### Disadvantages of API \n",
    "\n",
    "Increased Complexity\n",
    "First, they can be complex and challenging to use, making them challenging for novice developers.\n",
    "\n",
    "Limited Functionality\n",
    "They may not have all the functionality you need, requiring additional development work.\n",
    "\n",
    "Dependency on Third Party Services\n",
    "If it depends on a third-party service, your application will also be unavailable.\n",
    "\n",
    "Security and Privacy Risks\n",
    "They can pose security and privacy risks if they’re not implemented correctly. Therefore, it’s essential to carefully consider these risks before using them in your application."
   ]
  },
  {
   "cell_type": "markdown",
   "id": "578e9ac3-7b37-4af4-8c0e-3a8a1ec68bc8",
   "metadata": {},
   "source": [
    "### Web API is an API over the web which can be accessed using HTTP protocol. It is a concept and not a technology."
   ]
  },
  {
   "cell_type": "markdown",
   "id": "92c8b693-ce49-4303-86e0-5b7853062deb",
   "metadata": {},
   "source": [
    "### API is used to communicate between two machines on a network.Web API is used as an interface between two different applications for communicating with each other."
   ]
  },
  {
   "cell_type": "markdown",
   "id": "43bd0f0a-8a01-4bd5-8f4b-5db782181517",
   "metadata": {},
   "source": [
    "### API uses HTML requests that can be compressed, but XML data cannot be compressed.Web API can be compressed."
   ]
  },
  {
   "cell_type": "markdown",
   "id": "9823444e-291f-4fb5-9298-5798180a020c",
   "metadata": {},
   "source": [
    "### All Web Services are APIs.All APIs are not web services."
   ]
  },
  {
   "cell_type": "markdown",
   "id": "b950c1e7-3518-4de6-b31f-837c98c16003",
   "metadata": {},
   "source": [
    "### API does not have a complete set of specifications, and sometimes it cannot perform all the functions that can be executed by the WEB API.Web API is a complete set of rules and specifications that follow to facilitate the interaction."
   ]
  },
  {
   "cell_type": "markdown",
   "id": "305efad2-931a-475c-ad5b-f33a58160a04",
   "metadata": {},
   "source": [
    "### SOAP\n",
    "It stands for Simple Object Access Protocol.\n",
    "\n",
    "It is a standardized protocol for pre-defined rules to follow.\n",
    "\n",
    "It is functional-driven, means that data here is available as services, eg, getUser.\n",
    "\n",
    "It requires more bandwidth and computing power.\n",
    "\n",
    "It works on HTTP, SMP, UDP, etc. So it is recommended.\n",
    "\n",
    "SOAP cannot use REST because SOAP is a protocol and REST has an architectural style.\n",
    "\n",
    "It has WS-security (Enterprise-level security) with SSL support. It also has built-in ACID(Atomicity, Consistency, Integrity, Durability) compliance which is a good feature for transactions and that’s why SOAP is used while exchanging sensitive information."
   ]
  },
  {
   "cell_type": "markdown",
   "id": "a1ba196c-9202-4cab-964a-7a21e963783b",
   "metadata": {},
   "source": [
    "### REST\n",
    "\n",
    "It stands for REpresentational State Transfer.\n",
    "\n",
    "It has an architectural style with loose guidelines.\n",
    "\n",
    "It is stateful, i.e. no server-side sessions occur.\n",
    "\n",
    "It is data-driven, meaning that data is available as resources.\n",
    "\n",
    "It supports HTTPS and SSL (Secure Sockets Layer)\n",
    "\n",
    "It supports various formats like HTML, XML and JSON.\n",
    "\n",
    "REST exposes methods through URIs, there are no technical details."
   ]
  },
  {
   "cell_type": "markdown",
   "id": "eb7889bc-b65c-4348-a618-beed47343a50",
   "metadata": {},
   "source": [
    "### Slow: SOAP uses XML format that must be parsed to be read. It defines many standards that must be followed while developing the SOAP applications. So it is slow and consumes more bandwidth and resource."
   ]
  },
  {
   "cell_type": "markdown",
   "id": "3f1c7cbc-9a22-4a16-a874-bd98b2079a8e",
   "metadata": {},
   "source": [
    "### Representational State Transfer (REST) is an architectural style that defines a set of constraints to be used for creating web services. REST API is a way of accessing web services in a simple and flexible way without having any processing.REST technology is generally preferred to the more robust Simple Object Access Protocol (SOAP) technology because REST uses less bandwidth, simple and flexible making it more suitable for internet usage. It’s used to fetch or give some information from a web service. All communication done via REST API uses only HTTP request. "
   ]
  },
  {
   "cell_type": "markdown",
   "id": "fde51f01-f181-4ae6-b174-7751092aaa96",
   "metadata": {},
   "source": [
    "### SOAP stands for Simple Object Access Protocol is a network platform used in a web service to exchange or communicate data between two different machines on a network. It uses the XML format of data to transfer messages over the HTTP protocol. In Web services, SOAP allows the user request to interact with other programming languages. In this way, it provides a way to communicate between applications running on different platforms (Operating system), with programming languages and technologies used in web service.\n",
    "\n"
   ]
  }
 ],
 "metadata": {
  "kernelspec": {
   "display_name": "Python 3 (ipykernel)",
   "language": "python",
   "name": "python3"
  },
  "language_info": {
   "codemirror_mode": {
    "name": "ipython",
    "version": 3
   },
   "file_extension": ".py",
   "mimetype": "text/x-python",
   "name": "python",
   "nbconvert_exporter": "python",
   "pygments_lexer": "ipython3",
   "version": "3.10.8"
  }
 },
 "nbformat": 4,
 "nbformat_minor": 5
}
