{
 "cells": [
  {
   "cell_type": "markdown",
   "id": "55429a4f-36e4-4212-ae2e-af4f1f15e946",
   "metadata": {},
   "source": [
    "### Statistics is the science of collecting,organizing and analyzing the data."
   ]
  },
  {
   "cell_type": "markdown",
   "id": "05515a8a-c56e-4fbb-9c08-0ed35ab893dc",
   "metadata": {},
   "source": [
    "### Inferential Statistics : It consists of using data you have measured to form conclusion."
   ]
  },
  {
   "cell_type": "markdown",
   "id": "91f687e4-3957-465f-a550-90a8a6795ac4",
   "metadata": {},
   "source": [
    "### Descriptive Statistics : It consists of organizing and summarizing the data."
   ]
  },
  {
   "cell_type": "markdown",
   "id": "a1a6a705-b67e-495d-bbce-780c684d670f",
   "metadata": {},
   "source": [
    "### Suppose the scores of 100 students belonging to a specific country are available.The performance of these students needs to be examined."
   ]
  },
  {
   "cell_type": "markdown",
   "id": "2aa57834-65e3-4b1b-82dd-09a4540285e5",
   "metadata": {},
   "source": [
    "### Using descriptive statistics, the spread of the marks can be obtained thus,giving a clear idea regarding the performance of each student."
   ]
  },
  {
   "cell_type": "markdown",
   "id": "00470665-cefd-4594-ac41-74e159da414c",
   "metadata": {},
   "source": [
    "### Now suppose the scores of the students of an entire country need to be examined.Using a sample of , say 100 students,inferential statistics is used."
   ]
  },
  {
   "cell_type": "markdown",
   "id": "ccabcf7b-87b0-4944-8a23-ccd4f439c29c",
   "metadata": {},
   "source": [
    "### Qualitative : Grading in exam,color of mangoes"
   ]
  },
  {
   "cell_type": "markdown",
   "id": "6a6a25e3-ea34-4be9-8844-0c5f8079c384",
   "metadata": {},
   "source": [
    "### Quantitative : Number of mangoes expected by a farm,height data of a class"
   ]
  },
  {
   "cell_type": "markdown",
   "id": "26786e6a-e2b4-4bdb-bcbd-c4acf9db870d",
   "metadata": {},
   "source": [
    "### Levels of measurement : Nominal level,ordinal level,interval level, ratio level"
   ]
  },
  {
   "cell_type": "markdown",
   "id": "f1009a43-5c74-4789-b7df-50cc6d3b7b65",
   "metadata": {},
   "source": [
    "### Nominal : Qualitative/categorical,order does not matter.Examples : Gender,color,label"
   ]
  },
  {
   "cell_type": "markdown",
   "id": "9e142993-d5f8-4cad-be9b-8a00ff4e4187",
   "metadata": {},
   "source": [
    "### Ordinal : Ranking and order matters,difference cannot be measured.Examples : Qualification,marks"
   ]
  },
  {
   "cell_type": "markdown",
   "id": "a4e1c959-a514-4f40-8cbe-cebe9a448182",
   "metadata": {},
   "source": [
    "### Interval : Rank and order matters,difference can be measured(excluding ratio),cannot have \"0\" starting value.Examples : Temperature "
   ]
  },
  {
   "cell_type": "markdown",
   "id": "294fba22-11bf-4603-9f7b-c4cac3912290",
   "metadata": {},
   "source": [
    "### Ratio : Rank and order matters,differences and ratio are measurable,it does have a starting value.Examples : IQ measurement"
   ]
  },
  {
   "cell_type": "markdown",
   "id": "271065ee-8d9c-4e46-a183-1c9e55d501fd",
   "metadata": {},
   "source": [
    "### A level of measurement represents how much information is being provided by the outcome measure.It determines the type of statistical analysis that can be conducted and therefore,the type of conclusions that can be drawn from the research."
   ]
  },
  {
   "cell_type": "markdown",
   "id": "cfb18b8e-5122-4521-90aa-c953caccea91",
   "metadata": {},
   "source": [
    "### How much information about the variable do you get? Ratio - A Great amount ,Interval - A Good amount , Ordinal - Some , Nominal - A little"
   ]
  },
  {
   "cell_type": "markdown",
   "id": "03e819a9-e8ea-4dec-82f4-69aecb918317",
   "metadata": {},
   "source": [
    "### Nominal data is classified without a natural order or rank,whereas ordinal data has predetermined or natural order."
   ]
  },
  {
   "cell_type": "markdown",
   "id": "2a41238c-dd63-4555-ab18-36502f1ab2b6",
   "metadata": {},
   "source": [
    "###  Descriptive Statistics gives information about raw data regarding its description or features.Inferential statistics draw inferences about population by using data extracted from population.We use descriptive to describe a situation,while we use inferential to explain the probability of occurence of an event.Descriptive helps to organize,analyze and present data in a meaningful manner.Inferential helps to compare dta,make hypothesis and predictions.We use charts,graphs,tables for descriptive ,while use probability methods for inferential statistics.Types of inferential statistics are regression analysis,hypothesis tests,confidence intervals.Types of descriptive analysis are frequency distribution,central tendency,variability or dispersion."
   ]
  },
  {
   "cell_type": "markdown",
   "id": "1ba1b36b-c419-4217-927f-87c41877d290",
   "metadata": {},
   "source": [
    "### Examples : Descriptive statistics- What is the average height of students in a class? Inferential statistics- Is average height of students in a class is similar to what you expect in entire college?"
   ]
  },
  {
   "cell_type": "markdown",
   "id": "e68173ff-0dc9-4ef1-93e7-ca04117a3b96",
   "metadata": {},
   "source": [
    "### Measures of central tendency are summary statistics that represent the center point or typical value of a dataset."
   ]
  },
  {
   "cell_type": "markdown",
   "id": "d2afa3f5-900a-41b6-9fb1-19f918a3c2f8",
   "metadata": {},
   "source": [
    "### Central tendency measures - Mean,median,mode.Variability measures - Variance,standard deviation,range,Interquartile range"
   ]
  },
  {
   "cell_type": "markdown",
   "id": "01a6520a-b92e-4042-9de0-3422c685aea9",
   "metadata": {},
   "source": [
    "### Mean - Sum of all measurements divided by the number of observations."
   ]
  },
  {
   "cell_type": "markdown",
   "id": "75ba498e-a88b-42ee-8e00-8fbf9e993ba8",
   "metadata": {},
   "source": [
    "### Mode - The most frequent value.It shows most popular option and is the highest bar in histogram."
   ]
  },
  {
   "cell_type": "markdown",
   "id": "5290a548-cd5f-43fe-8798-be137dd6d220",
   "metadata": {},
   "source": [
    "### Median - Numbers are arranged in either ascending or descending order,middle number is taken i.e., if two numbers is present at the middle, their mean is taken.It seperates higher half from the lower half."
   ]
  },
  {
   "cell_type": "markdown",
   "id": "9ef5afa5-0f7c-4453-bb93-616ed523d9fe",
   "metadata": {},
   "source": [
    "### Variability allow us to summarise the data set with a single value."
   ]
  },
  {
   "cell_type": "markdown",
   "id": "a57e90f0-7ebc-4e7a-8c1a-cfd916243967",
   "metadata": {},
   "source": [
    "### Variance - It describes how far the numbers lie from the mean.It is the square of standard deviation."
   ]
  },
  {
   "cell_type": "markdown",
   "id": "b2746900-2789-4201-a939-6be34db4b170",
   "metadata": {},
   "source": [
    "### Standard deviation - It is oonly used for the data that is normally distributed.It indicates how much a set of vaue is spread around the average.It is the square root of variance."
   ]
  },
  {
   "cell_type": "markdown",
   "id": "d1d94b56-abb4-4eb1-993e-4e277af1a610",
   "metadata": {},
   "source": [
    "### Range - It is the length of the smallest interval which contains all the data and is calculated by subtracting the smallest observation from the greatest and provides an indication of statistical dispersion."
   ]
  },
  {
   "cell_type": "markdown",
   "id": "f4971382-8def-4ef5-a419-10f736ff1aa8",
   "metadata": {},
   "source": [
    "### Interquartile range - It is also known a"
   ]
  }
 ],
 "metadata": {
  "kernelspec": {
   "display_name": "Python 3 (ipykernel)",
   "language": "python",
   "name": "python3"
  },
  "language_info": {
   "codemirror_mode": {
    "name": "ipython",
    "version": 3
   },
   "file_extension": ".py",
   "mimetype": "text/x-python",
   "name": "python",
   "nbconvert_exporter": "python",
   "pygments_lexer": "ipython3",
   "version": "3.10.8"
  }
 },
 "nbformat": 4,
 "nbformat_minor": 5
}
