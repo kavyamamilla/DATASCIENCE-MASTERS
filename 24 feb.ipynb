{
  "nbformat": 4,
  "nbformat_minor": 0,
  "metadata": {
    "colab": {
      "provenance": []
    },
    "kernelspec": {
      "name": "python3",
      "display_name": "Python 3"
    },
    "language_info": {
      "name": "python"
    }
  },
  "cells": [
    {
      "cell_type": "markdown",
      "source": [
        "1. read_csv() - Used to read data from a CSV file and create a DataFrame."
      ],
      "metadata": {
        "id": "vnlgj8Y5FWKH"
      }
    },
    {
      "cell_type": "code",
      "source": [
        "import pandas as pd\n",
        "\n",
        "# Read a CSV file into a DataFrame\n",
        "data = pd.read_csv('data.csv')\n",
        "\n",
        "# Display the first few rows of the DataFrame\n",
        "print(data.head())\n"
      ],
      "metadata": {
        "id": "YGuAE3gBFZMS"
      },
      "execution_count": null,
      "outputs": []
    },
    {
      "cell_type": "markdown",
      "source": [
        "info() - Provides information about the DataFrame, including data types,non-null values, and memory usage."
      ],
      "metadata": {
        "id": "eoI-yMqFFbV1"
      }
    },
    {
      "cell_type": "code",
      "source": [
        "# Display information about the DataFrame\n",
        "print(data.info())\n"
      ],
      "metadata": {
        "id": "YzAKNRDzFfdZ"
      },
      "execution_count": null,
      "outputs": []
    },
    {
      "cell_type": "markdown",
      "source": [
        "describe() - Generates summary statistics of numerical columns in the DataFrame."
      ],
      "metadata": {
        "id": "-y660d5YFiNV"
      }
    },
    {
      "cell_type": "code",
      "source": [
        "# Generate summary statistics of numerical columns\n",
        "print(data.describe())\n"
      ],
      "metadata": {
        "id": "iEVoqdFgFlYg"
      },
      "execution_count": null,
      "outputs": []
    },
    {
      "cell_type": "markdown",
      "source": [
        "groupby() - Groups the data based on a column and allows performing aggregation operations."
      ],
      "metadata": {
        "id": "AEws1W70F603"
      }
    },
    {
      "cell_type": "code",
      "source": [
        "# Group data by 'Category' and calculate the mean of 'Sales'\n",
        "grouped_data = data.groupby('Category')['Sales'].mean()\n",
        "\n",
        "# Display the grouped data\n",
        "print(grouped_data)\n"
      ],
      "metadata": {
        "id": "ENcHeZ34F9mt"
      },
      "execution_count": null,
      "outputs": []
    },
    {
      "cell_type": "markdown",
      "source": [
        "fillna() - Fills missing values in the DataFrame with a specified value or using a specific method."
      ],
      "metadata": {
        "id": "tbGbZkBtF_i9"
      }
    },
    {
      "cell_type": "code",
      "source": [
        "# Fill missing values in 'Age' column with the mean age\n",
        "data['Age'].fillna(data['Age'].mean(), inplace=True)\n",
        "\n",
        "# Display the DataFrame with filled values\n",
        "print(data.head())\n"
      ],
      "metadata": {
        "id": "_XVN8RjwGB8l"
      },
      "execution_count": null,
      "outputs": []
    },
    {
      "cell_type": "markdown",
      "source": [
        "2."
      ],
      "metadata": {
        "id": "WmGkzabeGkb0"
      }
    },
    {
      "cell_type": "code",
      "source": [
        "import pandas as pd\n",
        "\n",
        "def reindex_with_custom_step(df):\n",
        "    # Reset the index and assign the new index using a custom function\n",
        "    df.reset_index(drop=True, inplace=True)\n",
        "    df.index = (df.index * 2) + 1\n",
        "\n",
        "    return df\n",
        "\n",
        "# Example DataFrame\n",
        "data = {'A': [10, 20, 30, 40],\n",
        "        'B': [50, 60, 70, 80],\n",
        "        'C': [90, 100, 110, 120]}\n",
        "df = pd.DataFrame(data)\n",
        "\n",
        "# Re-index the DataFrame\n",
        "new_df = reindex_with_custom_step(df)\n",
        "\n",
        "# Display the new DataFrame\n",
        "print(new_df)\n"
      ],
      "metadata": {
        "id": "pez1ajMFGUff"
      },
      "execution_count": null,
      "outputs": []
    },
    {
      "cell_type": "code",
      "source": [
        "    A   B    C\n",
        "1  10  50   90\n",
        "3  20  60  100\n",
        "5  30  70  110\n",
        "7  40  80  120\n"
      ],
      "metadata": {
        "id": "zXtR8iHpGVWh"
      },
      "execution_count": null,
      "outputs": []
    },
    {
      "cell_type": "markdown",
      "source": [
        "3."
      ],
      "metadata": {
        "id": "Faxlm1amGmbE"
      }
    },
    {
      "cell_type": "code",
      "source": [
        "import pandas as pd\n",
        "\n",
        "def calculate_sum_of_first_three_values(df):\n",
        "    # Extract the 'Values' column and calculate the sum of the first three values\n",
        "    first_three_values_sum = df['Values'].head(3).sum()\n",
        "\n",
        "    # Print the sum to the console\n",
        "    print(\"Sum of the first three values:\", first_three_values_sum)\n",
        "\n",
        "# Example DataFrame\n",
        "data = {'Values': [10, 20, 30, 40, 50]}\n",
        "df = pd.DataFrame(data)\n",
        "\n",
        "# Call the function to calculate and print the sum\n",
        "calculate_sum_of_first_three_values(df)\n"
      ],
      "metadata": {
        "id": "TZG7n-wjGf_z"
      },
      "execution_count": null,
      "outputs": []
    },
    {
      "cell_type": "code",
      "source": [
        "Sum of the first three values: 60\n"
      ],
      "metadata": {
        "id": "eDPNJbg1Gg6V"
      },
      "execution_count": null,
      "outputs": []
    },
    {
      "cell_type": "markdown",
      "source": [
        "4."
      ],
      "metadata": {
        "id": "cArlMdYtGoNU"
      }
    },
    {
      "cell_type": "code",
      "source": [
        "import pandas as pd\n",
        "\n",
        "def count_words(text):\n",
        "    # Split the text into words and return the count\n",
        "    return len(text.split())\n",
        "\n",
        "def add_word_count_column(df):\n",
        "    # Apply the 'count_words' function to each row of the 'Text' column\n",
        "    df['Word_Count'] = df['Text'].apply(count_words)\n",
        "    return df\n",
        "\n",
        "# Example DataFrame\n",
        "data = {'Text': [\"Hello world\", \"Python programming is fun\", \"Data science\"]}\n",
        "df = pd.DataFrame(data)\n",
        "\n",
        "# Call the function to add the 'Word_Count' column\n",
        "df_with_word_count = add_word_count_column(df)\n",
        "\n",
        "# Display the DataFrame with the new column\n",
        "print(df_with_word_count)\n"
      ],
      "metadata": {
        "id": "MjGLIOK7GxWH"
      },
      "execution_count": null,
      "outputs": []
    },
    {
      "cell_type": "code",
      "source": [
        "                        Text  Word_Count\n",
        "0                Hello world           2\n",
        "1  Python programming is fun           4\n",
        "2               Data science           2\n"
      ],
      "metadata": {
        "id": "oTRiclT1GyIL"
      },
      "execution_count": null,
      "outputs": []
    },
    {
      "cell_type": "markdown",
      "source": [
        "5. Both DataFrame.size and DataFrame.shape are attributes of a Pandas DataFrame that provide information about the structure of the DataFrame, but they convey different aspects:\n",
        "\n",
        "DataFrame.size:\n",
        "DataFrame.size returns the total number of elements (cells) in the DataFrame.\n",
        "It is calculated by multiplying the number of rows by the number of columns.\n",
        "The returned value represents the total size of the DataFrame in terms of individual elements.\n",
        "It gives you the overall count of cells in the DataFrame, including both filled and empty cells.\n",
        "The value is an integer."
      ],
      "metadata": {
        "id": "lqMaX-rlG0nX"
      }
    },
    {
      "cell_type": "code",
      "source": [
        "import pandas as pd\n",
        "\n",
        "data = {'A': [10, 20, 30],\n",
        "        'B': [40, 50, 60]}\n",
        "df = pd.DataFrame(data)\n",
        "\n",
        "print(\"DataFrame size:\", df.size)  # Output: 6 (3 rows * 2 columns)\n"
      ],
      "metadata": {
        "id": "cUSXIf7UHAJB"
      },
      "execution_count": null,
      "outputs": []
    },
    {
      "cell_type": "markdown",
      "source": [
        "DataFrame.shape:\n",
        "DataFrame.shape returns a tuple containing the number of rows and the number of columns in the DataFrame.\n",
        "The returned value provides the dimensions of the DataFrame as (number_of_rows, number_of_columns).\n",
        "It gives you the structure of the DataFrame in terms of rows and columns.\n",
        "The values in the tuple are integers."
      ],
      "metadata": {
        "id": "9G64yLPeHB7v"
      }
    },
    {
      "cell_type": "code",
      "source": [
        "import pandas as pd\n",
        "\n",
        "data = {'A': [10, 20, 30],\n",
        "        'B': [40, 50, 60]}\n",
        "df = pd.DataFrame(data)\n",
        "\n",
        "print(\"DataFrame shape:\", df.shape)  # Output: (3, 2) (3 rows, 2 columns)\n"
      ],
      "metadata": {
        "id": "B2c-3JMmHFSj"
      },
      "execution_count": null,
      "outputs": []
    },
    {
      "cell_type": "markdown",
      "source": [
        "6."
      ],
      "metadata": {
        "id": "e9jxOdIEIkAu"
      }
    },
    {
      "cell_type": "code",
      "source": [
        "import pandas as pd\n",
        "\n",
        "# Read data from an Excel file and create a DataFrame\n",
        "data_frame = pd.read_excel('file_name.xlsx')\n"
      ],
      "metadata": {
        "id": "RsG06U-jIvOw"
      },
      "execution_count": null,
      "outputs": []
    },
    {
      "cell_type": "markdown",
      "source": [
        "In the above code, replace 'file_name.xlsx' with the actual path to your Excel file.\n",
        "\n",
        "You can also specify additional parameters to customize the behavior of the read_excel() function, such as the sheet name, specific columns to read, header row, etc. For example:"
      ],
      "metadata": {
        "id": "URG-nEdNIzK5"
      }
    },
    {
      "cell_type": "code",
      "source": [
        "import pandas as pd\n",
        "\n",
        "# Read specific sheet and skip the first row as header\n",
        "data_frame = pd.read_excel('file_name.xlsx', sheet_name='Sheet1', skiprows=1)\n"
      ],
      "metadata": {
        "id": "CnZfocgcIwdf"
      },
      "execution_count": null,
      "outputs": []
    },
    {
      "cell_type": "markdown",
      "source": [
        "7."
      ],
      "metadata": {
        "id": "HByxenCGI4OU"
      }
    },
    {
      "cell_type": "code",
      "source": [
        "import pandas as pd\n",
        "\n",
        "def extract_username(email):\n",
        "    # Find the index of '@' symbol\n",
        "    at_index = email.find('@')\n",
        "\n",
        "    # Extract the username using slicing\n",
        "    username = email[:at_index]\n",
        "    return username\n",
        "\n",
        "def add_username_column(df):\n",
        "    # Apply the 'extract_username' function to each row of the 'Email' column\n",
        "    df['Username'] = df['Email'].apply(extract_username)\n",
        "    return df\n",
        "\n",
        "# Example DataFrame\n",
        "data = {'Email': ['john.doe@example.com', 'jane.smith@example.com', 'alice.wonderland@example.com']}\n",
        "df = pd.DataFrame(data)\n",
        "\n",
        "# Call the function to add the 'Username' column\n",
        "df_with_username = add_username_column(df)\n",
        "\n",
        "# Display the DataFrame with the new column\n",
        "print(df_with_username)\n"
      ],
      "metadata": {
        "id": "v5jcfESzJKVs"
      },
      "execution_count": null,
      "outputs": []
    },
    {
      "cell_type": "code",
      "source": [
        "                      Email      Username\n",
        "0      john.doe@example.com      john.doe\n",
        "1    jane.smith@example.com    jane.smith\n",
        "2  alice.wonderland@example.com  alice.wonderland\n"
      ],
      "metadata": {
        "id": "fkCdtC4FJLvy"
      },
      "execution_count": null,
      "outputs": []
    },
    {
      "cell_type": "markdown",
      "source": [
        "8."
      ],
      "metadata": {
        "id": "SLT1v95XJOJR"
      }
    },
    {
      "cell_type": "code",
      "source": [
        "import pandas as pd\n",
        "\n",
        "def select_rows(df):\n",
        "    selected_rows = df[(df['A'] > 5) & (df['B'] < 10)]\n",
        "    return selected_rows\n",
        "\n",
        "# Example DataFrame\n",
        "data = {'A': [3, 8, 6, 2, 9],\n",
        "        'B': [5, 2, 9, 3, 1],\n",
        "        'C': [1, 7, 4, 5, 2]}\n",
        "df = pd.DataFrame(data)\n",
        "\n",
        "# Call the function to select rows based on conditions\n",
        "selected_df = select_rows(df)\n",
        "\n",
        "# Display the selected DataFrame\n",
        "print(selected_df)\n"
      ],
      "metadata": {
        "id": "lOyLx1ijJnQ0"
      },
      "execution_count": null,
      "outputs": []
    },
    {
      "cell_type": "code",
      "source": [
        "   A  B  C\n",
        "1  8  2  7\n",
        "4  9  1  2\n"
      ],
      "metadata": {
        "id": "6mW9GmUDJoBF"
      },
      "execution_count": null,
      "outputs": []
    },
    {
      "cell_type": "markdown",
      "source": [
        "In this example, the select_rows function uses boolean indexing to select rows from the DataFrame df where the value in column 'A' is greater than 5 and the value in column 'B' is less than 10. The resulting DataFrame selected_df contains only the rows that satisfy the specified conditions"
      ],
      "metadata": {
        "id": "xw7JeB_1JvO5"
      }
    },
    {
      "cell_type": "markdown",
      "source": [
        "9."
      ],
      "metadata": {
        "id": "eNM4Um-MLErC"
      }
    },
    {
      "cell_type": "code",
      "source": [
        "import pandas as pd\n",
        "\n",
        "def calculate_stats(df):\n",
        "    # Calculate mean, median, and standard deviation of 'Values' column\n",
        "    mean_value = df['Values'].mean()\n",
        "    median_value = df['Values'].median()\n",
        "    std_deviation = df['Values'].std()\n",
        "\n",
        "    return mean_value, median_value, std_deviation\n",
        "\n",
        "# Example DataFrame\n",
        "data = {'Values': [10, 20, 30, 40, 50]}\n",
        "df = pd.DataFrame(data)\n",
        "\n",
        "# Call the function to calculate statistics\n",
        "mean, median, std = calculate_stats(df)\n",
        "\n",
        "# Display the calculated statistics\n",
        "print(\"Mean:\", mean)\n",
        "print(\"Median:\", median)\n",
        "print(\"Standard Deviation:\", std)\n"
      ],
      "metadata": {
        "id": "QcJ8BDcDLKu1"
      },
      "execution_count": null,
      "outputs": []
    },
    {
      "cell_type": "code",
      "source": [
        "Mean: 30.0\n",
        "Median: 30.0\n",
        "Standard Deviation: 15.811388300841896\n"
      ],
      "metadata": {
        "id": "zKEKnR6CLLfa"
      },
      "execution_count": null,
      "outputs": []
    },
    {
      "cell_type": "markdown",
      "source": [
        "10."
      ],
      "metadata": {
        "id": "F_5HNoKWLN4G"
      }
    },
    {
      "cell_type": "code",
      "source": [
        "import pandas as pd\n",
        "\n",
        "def calculate_moving_average(df):\n",
        "    # Calculate the moving average with a window of size 7\n",
        "    df['MovingAverage'] = df['Sales'].rolling(window=7, min_periods=1).mean()\n",
        "    return df\n",
        "\n",
        "# Example DataFrame\n",
        "data = {'Date': ['2023-08-01', '2023-08-02', '2023-08-03', '2023-08-04', '2023-08-05', '2023-08-06', '2023-08-07'],\n",
        "        'Sales': [100, 150, 200, 180, 220, 250, 210]}\n",
        "df = pd.DataFrame(data)\n",
        "\n",
        "# Convert 'Date' column to datetime\n",
        "df['Date'] = pd.to_datetime(df['Date'])\n",
        "\n",
        "# Sort DataFrame by date\n",
        "df.sort_values(by='Date', inplace=True)\n",
        "\n",
        "# Call the function to calculate moving average\n",
        "df_with_moving_avg = calculate_moving_average(df)\n",
        "\n",
        "# Display the DataFrame with the new column\n",
        "print(df_with_moving_avg)\n"
      ],
      "metadata": {
        "id": "DJi0kjFuLbVY"
      },
      "execution_count": null,
      "outputs": []
    },
    {
      "cell_type": "code",
      "source": [
        "        Date  Sales  MovingAverage\n",
        "0 2023-08-01    100     100.000000\n",
        "1 2023-08-02    150     125.000000\n",
        "2 2023-08-03    200     150.000000\n",
        "3 2023-08-04    180     157.500000\n",
        "4 2023-08-05    220     170.000000\n",
        "5 2023-08-06    250     192.666667\n",
        "6 2023-08-07    210     197.142857\n"
      ],
      "metadata": {
        "id": "9P2oLQ_ALb9z"
      },
      "execution_count": null,
      "outputs": []
    },
    {
      "cell_type": "markdown",
      "source": [
        "11."
      ],
      "metadata": {
        "id": "w8iqA0MNLd-f"
      }
    },
    {
      "cell_type": "code",
      "source": [
        "import pandas as pd\n",
        "\n",
        "def add_weekday_column(df):\n",
        "    # Extract weekday names and create 'Weekday' column\n",
        "    df['Weekday'] = df['Date'].dt.strftime('%A')\n",
        "    return df\n",
        "\n",
        "# Example DataFrame\n",
        "data = {'Date': ['2023-01-01', '2023-01-02', '2023-01-03', '2023-01-04', '2023-01-05']}\n",
        "df = pd.DataFrame(data)\n",
        "\n",
        "# Convert 'Date' column to datetime\n",
        "df['Date'] = pd.to_datetime(df['Date'])\n",
        "\n",
        "# Call the function to add the 'Weekday' column\n",
        "df_with_weekday = add_weekday_column(df)\n",
        "\n",
        "# Display the DataFrame with the new column\n",
        "print(df_with_weekday)\n"
      ],
      "metadata": {
        "id": "oXEs9AbLMRsS"
      },
      "execution_count": null,
      "outputs": []
    },
    {
      "cell_type": "code",
      "source": [
        "        Date    Weekday\n",
        "0 2023-01-01     Sunday\n",
        "1 2023-01-02     Monday\n",
        "2 2023-01-03    Tuesday\n",
        "3 2023-01-04  Wednesday\n",
        "4 2023-01-05   Thursday\n"
      ],
      "metadata": {
        "id": "FEQshAcXMSg7"
      },
      "execution_count": null,
      "outputs": []
    },
    {
      "cell_type": "markdown",
      "source": [
        "12."
      ],
      "metadata": {
        "id": "HdNNTNzHMU0F"
      }
    },
    {
      "cell_type": "code",
      "source": [
        "import pandas as pd\n",
        "\n",
        "def select_date_range(df, start_date, end_date):\n",
        "    # Convert start_date and end_date to datetime objects\n",
        "    start_date = pd.to_datetime(start_date)\n",
        "    end_date = pd.to_datetime(end_date)\n",
        "\n",
        "    # Use boolean indexing to select rows within the date range\n",
        "    selected_rows = df[(df['Date'] >= start_date) & (df['Date'] <= end_date)]\n",
        "    return selected_rows\n",
        "\n",
        "# Example DataFrame\n",
        "data = {'Date': ['2023-01-01', '2023-01-15', '2023-02-01', '2023-01-10', '2023-01-25']}\n",
        "df = pd.DataFrame(data)\n",
        "\n",
        "# Convert 'Date' column to datetime\n",
        "df['Date'] = pd.to_datetime(df['Date'])\n",
        "\n",
        "# Call the function to select rows within the date range\n",
        "selected_df = select_date_range(df, '2023-01-01', '2023-01-31')\n",
        "\n",
        "# Display the selected DataFrame\n",
        "print(selected_df)\n"
      ],
      "metadata": {
        "id": "5OcYOrUIMgQV"
      },
      "execution_count": null,
      "outputs": []
    },
    {
      "cell_type": "code",
      "source": [
        "        Date\n",
        "0 2023-01-01\n",
        "1 2023-01-15\n",
        "3 2023-01-10\n",
        "4 2023-01-25\n"
      ],
      "metadata": {
        "id": "dteOCZ8xMg5_"
      },
      "execution_count": null,
      "outputs": []
    },
    {
      "cell_type": "markdown",
      "source": [
        "13.\n",
        "To use the basic functions of Pandas, you need to import the Pandas library itself. The most common way to import the Pandas library is using the following import statement:"
      ],
      "metadata": {
        "id": "1yx21qERMjUU"
      }
    },
    {
      "cell_type": "code",
      "source": [
        "import pandas as pd\n"
      ],
      "metadata": {
        "id": "JjGPvoE0MkSa"
      },
      "execution_count": null,
      "outputs": []
    },
    {
      "cell_type": "markdown",
      "source": [
        "The as pd part allows we to use the Pandas functions and classes using the shorthand prefix pd. This is a widely adopted convention in the data science community.\n",
        "\n",
        "After importing Pandas, we can use its functions and classes to create, manipulate, and analyze data in tabular form using DataFrames and Series."
      ],
      "metadata": {
        "id": "6_byUz29Mqyo"
      }
    }
  ]
}