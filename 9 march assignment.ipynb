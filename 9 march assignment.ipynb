{
 "cells": [
  {
   "cell_type": "markdown",
   "id": "d3069980-79ca-4d0b-9799-17c0fb5dd507",
   "metadata": {},
   "source": [
    "### A Probability Mass Function (PMF) is a function that gives the probability of a discrete random variable taking on a specific value. It is defined as:\n",
    "\n",
    "PMF(x) = P(X = x)"
   ]
  },
  {
   "cell_type": "markdown",
   "id": "8468df99-7966-4664-a01f-e97acfcbda34",
   "metadata": {},
   "source": [
    "### where X is the random variable and x is a specific value that X can take on. The PMF can be graphed as a bar plot, with the height of each bar representing the probability of the corresponding value. The sum of all the probabilities in the PMF is always equal to 1.Example : flip of a fair coin."
   ]
  },
  {
   "cell_type": "markdown",
   "id": "93e639ab-7192-43b0-ad34-431819f41e50",
   "metadata": {},
   "source": [
    "### A Probability Density Function (PDF) is a function that describes the relative likelihood of a continuous random variable taking on a specific value. It is defined as the derivative of the cumulative distribution function (CDF), which gives the probability of the random variable being less than or equal to a specific value:\n",
    "\n",
    "PDF(x) = d/dx[CDF(x)]"
   ]
  },
  {
   "cell_type": "markdown",
   "id": "d6423493-cae2-44b6-ab18-d475aa86a2dc",
   "metadata": {},
   "source": [
    "### The PDF can be graphed as a continuous curve, and the area under the curve represents the probability of the random variable falling within a certain interval. The total area under the curve is always equal to 1.\n",
    "\n",
    "For example, consider the height of adult males. "
   ]
  },
  {
   "cell_type": "markdown",
   "id": "f0b90f1d-dec2-48ca-94b1-0b250257dbc8",
   "metadata": {},
   "source": [
    "### A Cumulative Density Function (CDF) is a function that gives the probability that a random variable takes on a value less than or equal to a specific value. In other words, it is a function that describes the cumulative probability distribution of a random variable.\n",
    "\n",
    "The CDF is defined as:\n",
    "\n",
    "CDF(x) = P(X ≤ x)"
   ]
  },
  {
   "cell_type": "markdown",
   "id": "789a5b17-7214-46bf-9f35-b16c97bd8c13",
   "metadata": {},
   "source": [
    "### where X is the random variable and x is a specific value that X can take on. The CDF can be graphed as a continuous curve, and the value of the CDF at a specific point x represents the probability that X is less than or equal to x.\n",
    "\n",
    "For example, consider the height of adult males."
   ]
  },
  {
   "cell_type": "markdown",
   "id": "11e110f4-3fef-4179-913b-f49093c2b9ad",
   "metadata": {},
   "source": [
    "### The normal distribution is one of the most important probability distributions in statistics and is widely used in various fields. Its importance stems from the fact that many natural phenomena exhibit a normal distribution, making it a useful model for studying these phenomena.\n",
    "\n",
    "The importance of the normal distribution can be explained as follows:\n",
    "\n",
    "It is a very useful model: The normal distribution provides a simple, yet powerful, way to model many real-world phenomena. It is easy to understand, and its properties are well understood.\n",
    "\n",
    "It allows for statistical inference: Because the normal distribution is so well understood, it allows for statistical inference. This means that we can use the properties of the normal distribution to make predictions about future events or to test hypotheses about a population.\n",
    "\n",
    "Heights and weights of people: The heights and weights of people in a population tend to follow a normal distribution.\n",
    "\n",
    "IQ scores: IQ scores are often modeled using a normal distribution.\n",
    "\n",
    "Exam scores: The scores on an exam can often be modeled using a normal distribution.\n",
    "\n",
    "Blood pressure: Blood pressure measurements in a population can often be modeled using a normal distribution.\n",
    "\n",
    "Stock prices: The daily returns on stock prices can often be modeled using a normal distribution."
   ]
  },
  {
   "cell_type": "markdown",
   "id": "61c32a1e-cda4-48b8-ad94-ba6577e1fcf0",
   "metadata": {},
   "source": [
    "### Bernoulli distribution is a discrete probability distribution that describes the probability of a binary outcome (i.e., success or failure) in a single trial of an experiment. It is named after the Swiss mathematician Jacob Bernoulli. The distribution is characterized by a single parameter, p, which represents the probability of success.\n",
    "\n",
    "An example of a Bernoulli distribution is the outcome of a coin toss, where success is defined as getting heads and failure is defined as getting tails. If p is the probability of getting heads, then the Bernoulli distribution can be expressed as:\n",
    "\n",
    "P(X=1) = p (success)\n",
    "P(X=0) = 1-p (failure)\n",
    "\n",
    "The difference between Bernoulli distribution and Binomial distribution is that Bernoulli distribution describes the probability of a binary outcome in a single trial, while binomial distribution describes the probability of a binary outcome in a fixed number of independent trials. The binomial distribution is the sum of n independent and identically distributed Bernoulli trials, where n is the number of trials."
   ]
  },
  {
   "cell_type": "code",
   "execution_count": 3,
   "id": "c5636007-3789-47d7-9b3a-cb7bb664acc8",
   "metadata": {},
   "outputs": [],
   "source": [
    "μ= 50\n",
    "σ= 10\n",
    "x= 60"
   ]
  },
  {
   "cell_type": "code",
   "execution_count": 4,
   "id": "da7c1e84-2eec-48a0-975a-0e5fbc1716bf",
   "metadata": {},
   "outputs": [],
   "source": [
    "z = (x - μ) / σ"
   ]
  },
  {
   "cell_type": "code",
   "execution_count": 5,
   "id": "c7af34f7-1c4f-4cb9-b9f6-5568693e4b30",
   "metadata": {},
   "outputs": [
    {
     "name": "stdout",
     "output_type": "stream",
     "text": [
      "1.0\n"
     ]
    }
   ],
   "source": [
    "print(z)"
   ]
  },
  {
   "cell_type": "markdown",
   "id": "6a46e4a2-e19a-44da-8235-09bf7aaffa88",
   "metadata": {},
   "source": [
    "##\n",
    "Now, we need to find the area under the standard normal distribution curve to the right of z = 1. We can use a standard normal distribution table or a calculator to find this probability.\n",
    "\n",
    "Using a standard normal distribution table, we can find the probability that z is greater than 1 to be approximately 0.1587.\n",
    "\n",
    "Therefore, the probability of a randomly selected observation being greater than 60 is approximately 0.1587 or 15.87%."
   ]
  },
  {
   "cell_type": "markdown",
   "id": "9a121002-7914-453f-b12f-7bb71ded5150",
   "metadata": {},
   "source": [
    "### Uniform distribution is a continuous probability distribution where all possible outcomes have an equal probability of occurring. It is often used to model situations where each possible outcome has an equal chance of happening.\n",
    "\n",
    "For example, consider a game where a player rolls a fair six-sided die. The probability of getting any one of the six outcomes (1, 2, 3, 4, 5, or 6) is 1/6. This is an example of a discrete uniform distribution.\n",
    "Now, let's consider an example of a continuous uniform distribution. Suppose a construction company pours a concrete floor in a large warehouse. The thickness of the floor should be between 4 and 6 inches. However, it is possible that due to the nature of the construction process, the thickness of the concrete floor may vary slightly. We assume that the thickness of the floor is uniformly distributed between 4 and 6 inches. This means that any value of thickness between 4 and 6 inches has an equal chance of occurring.\n",
    "\n",
    "In this example, the probability density function (PDF) of the uniform distribution is:\n",
    "\n",
    "f(x) = 1/(b-a) = 1/(6-4) = 1/2 for 4 <= x <= 6\n",
    "\n",
    "where a = 4 is the lower bound of the distribution, b = 6 is the upper bound of the distribution, and x is the thickness of the concrete floor. The probability of the thickness of the floor being between 4.5 and 5.5 inches is:\n",
    "\n",
    "P(4.5 <= x <= 5.5) = (5.5-4.5)/(6-4) = 0.5\n",
    "\n",
    "Therefore, the probability of the thickness of the concrete floor being between 4.5 and 5.5 inches is 0.5 or 50%."
   ]
  },
  {
   "cell_type": "markdown",
   "id": "647f9010-00fc-4bb9-96a1-dfe8852fdcbd",
   "metadata": {},
   "source": [
    "### The z-score, also known as the standard score, is a dimensionless measure that indicates how many standard deviations a data point is from the mean of a population. It is used to standardize data from different normal distributions and allows us to compare observations from different datasets.\n",
    "\n",
    "The formula for calculating the z-score of a data point x with mean μ and standard deviation σ is:\n",
    "\n",
    "z = (x - μ) / σ\n",
    "\n",
    "The z-score can be positive or negative, depending on whether the data point is above or below the mean, respectively. A z-score of 0 indicates that the data point is at the mean of the population.\n",
    "\n",
    "The importance of the z-score lies in its ability to help us standardize data from different normal distributions, allowing us to compare observations from different datasets on a common scale. It also helps us to identify outliers, which are data points that are significantly different from the rest of the data."
   ]
  },
  {
   "cell_type": "markdown",
   "id": "612f41f4-4493-40e1-b1c0-453c8d9aff31",
   "metadata": {},
   "source": [
    "### Central Limit Theorem (CLT) is a fundamental concept in probability theory that states that the sum or average of a large number of independent and identically distributed (iid) random variables will tend towards a normal distribution, regardless of the underlying distribution.\n",
    "\n",
    "The significance of the Central Limit Theorem is that it allows us to make inferences about the population based on a sample of data. Specifically, it allows us to estimate the population mean and standard deviation, even if the population distribution is not known. This is important in statistics, as it enables us to use sample statistics to make inferences about population parameters, which is often more practical and feasible than trying to measure the entire population."
   ]
  },
  {
   "cell_type": "markdown",
   "id": "67876f6e-e9f5-4766-949b-bc361a923a91",
   "metadata": {},
   "source": [
    "#\n",
    "The sample size must be sufficiently large. There is no fixed rule for the minimum sample size, but a common rule of thumb is that the sample size should be at least 30. For smaller sample sizes, the Central Limit Theorem may not apply.\n",
    "\n",
    "The samples must be independent and identically distributed (iid). This means that each observation in the sample is drawn from the same underlying population, and the samples are not influenced by each other.\n",
    "\n",
    "The population from which the sample is drawn must have a finite mean and a finite variance. If the population has an infinite mean or an infinite variance, the Central Limit Theorem may not apply.\n",
    "\n",
    "The samples must be drawn from a population that is not heavily skewed or has extreme outliers. In practice, moderate skewness and outliers may not significantly affect the application of the Central Limit Theorem, but extreme cases may require special attention."
   ]
  },
  {
   "cell_type": "code",
   "execution_count": null,
   "id": "415ee855-0370-45b0-88be-b9efd21d54d4",
   "metadata": {},
   "outputs": [],
   "source": []
  }
 ],
 "metadata": {
  "kernelspec": {
   "display_name": "Python 3 (ipykernel)",
   "language": "python",
   "name": "python3"
  },
  "language_info": {
   "codemirror_mode": {
    "name": "ipython",
    "version": 3
   },
   "file_extension": ".py",
   "mimetype": "text/x-python",
   "name": "python",
   "nbconvert_exporter": "python",
   "pygments_lexer": "ipython3",
   "version": "3.10.8"
  }
 },
 "nbformat": 4,
 "nbformat_minor": 5
}
