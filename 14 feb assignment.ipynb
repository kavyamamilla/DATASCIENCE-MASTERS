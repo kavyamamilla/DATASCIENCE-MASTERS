{
 "cells": [
  {
   "cell_type": "markdown",
   "id": "f1affa61-54b3-40ed-9382-25050f36e4e2",
   "metadata": {},
   "source": [
    "### Multithreading is a threading technique in Python programming to run multiple threads concurrently by rapidly switching between threads with a CPU help (called context switching)."
   ]
  },
  {
   "cell_type": "markdown",
   "id": "d32ff55b-9ba3-4cf5-a382-3a23a2efedf1",
   "metadata": {},
   "source": [
    "### activeCount , currentThread , enumerate are the modules in threading."
   ]
  },
  {
   "cell_type": "markdown",
   "id": "c9d4c980-9cdd-427b-84b0-2ac24a099a20",
   "metadata": {},
   "source": [
    "### threading module in python provides us classes and methods to create and start threads in python for implementing multithreading."
   ]
  },
  {
   "cell_type": "markdown",
   "id": "ea746ddb-be92-4bef-8a4b-e34a0ccb5c1f",
   "metadata": {},
   "source": [
    "### threading.activeCount() − Returns the number of thread objects that are active."
   ]
  },
  {
   "cell_type": "markdown",
   "id": "3187d3e1-2bf0-4e0d-b3ba-569c15d84cad",
   "metadata": {},
   "source": [
    "### threading.current_thread() - This function will return the current Thread object, corresponding to the caller's thread of control(which is in the control of caller currently). If the caller's thread of control was not created through the threading module(for example the main thread), then a dummy thread object with limited functionality is returned."
   ]
  },
  {
   "cell_type": "markdown",
   "id": "417b6c03-5d92-4eb6-810b-c190741bbad3",
   "metadata": {},
   "source": [
    "### threading.enumerate()\n",
    "This method returns a list of all Thread objects currently alive. The list includes daemonic threads(when the program quits, all the daemon threads associated with it are killed automatically), dummy thread objects created by the current thread, and the main thread.\n",
    "Terminated threads and threads that have not yet been started are not present in this list."
   ]
  },
  {
   "cell_type": "markdown",
   "id": "f3a7d08c-99fb-40ed-ab2f-05bf0bfc6895",
   "metadata": {},
   "source": [
    "### run()  − The run() method is the entry point for a thread.    start()  − The start() method starts a thread by calling the run method.   join([time])  − The join() waits for threads to terminate.   isAlive()  − The isAlive() method checks whether a thread is still executing."
   ]
  },
  {
   "cell_type": "code",
   "execution_count": 7,
   "id": "e2c0cd19-70d7-419f-a938-d26470c4fa1c",
   "metadata": {},
   "outputs": [
    {
     "name": "stdout",
     "output_type": "stream",
     "text": [
      "square root of the given number\n",
      " Square is :  16\n",
      " Square is :  25\n",
      " Square is :  36\n",
      " Square is :  49\n",
      " Square is :  4\n",
      "cube of the given number\n",
      " Cube is :  64\n",
      " Cube is :  125\n",
      " Cube is :  216\n",
      " Cube is :  343\n",
      " Cube is :  8\n",
      "square root of the given number\n",
      " Square is :  16\n",
      " Square is :  25\n",
      " Square is :  36\n",
      " Square is :  49\n",
      " Square is :  4\n",
      "cube of the given number\n",
      " Cube is :  64\n",
      " Cube is :  125\n",
      " Cube is :  216\n",
      " Cube is :  343\n",
      " Cube is :  8\n"
     ]
    }
   ],
   "source": [
    "import threading  \n",
    "from threading import *  \n",
    "def cal_sqre(num):  \n",
    "    print(\"square root of the given number\")  \n",
    "    for n in num:   \n",
    "        print(' Square is : ', n * n)  \n",
    "def cal_cube(num): \n",
    "    print(\"cube of the given number\")  \n",
    "    for n in num:   \n",
    "        print(\" Cube is : \", n * n *n)  \n",
    "ar = [4, 5, 6, 7, 2]   \n",
    "cal_sqre(arr)\n",
    "cal_cube(arr) \n",
    "th1 = threading.Thread(target=cal_sqre, args=(ar, ))  \n",
    "th2 = threading.Thread(target=cal_cube, args=(ar, ))  \n",
    "th1.start()  \n",
    "th2.start()  \n",
    "th1.join()  \n",
    "th2.join()  "
   ]
  },
  {
   "cell_type": "markdown",
   "id": "743f8119-8b57-42d3-9cea-cf570447dadd",
   "metadata": {},
   "source": [
    "### Advantages - Responsiveness , Resource Sharing , Economy , Scalability , Better communication , Utilization of multiprocessor architecture , Minimized system resource usage."
   ]
  },
  {
   "cell_type": "markdown",
   "id": "f7c1a007-2c22-429a-bf36-a193b19bf211",
   "metadata": {},
   "source": [
    "### Disadvantages - It needs more careful synchronization.It can consume a large space of stocks of blocked threads.It needs support for thread or process.If a parent process has several threads for proper process functioning, the child processes should also be multithreaded because they may be required.It imposes context switching overhead."
   ]
  },
  {
   "cell_type": "markdown",
   "id": "0f98edad-ae26-4949-a143-f72f166a9b36",
   "metadata": {},
   "source": [
    "### A race condition occurs when two threads use the same variable at a given time. Dea"
   ]
  }
 ],
 "metadata": {
  "kernelspec": {
   "display_name": "Python 3 (ipykernel)",
   "language": "python",
   "name": "python3"
  },
  "language_info": {
   "codemirror_mode": {
    "name": "ipython",
    "version": 3
   },
   "file_extension": ".py",
   "mimetype": "text/x-python",
   "name": "python",
   "nbconvert_exporter": "python",
   "pygments_lexer": "ipython3",
   "version": "3.10.8"
  }
 },
 "nbformat": 4,
 "nbformat_minor": 5
}
