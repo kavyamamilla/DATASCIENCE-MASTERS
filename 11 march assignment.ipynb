{
 "cells": [
  {
   "cell_type": "markdown",
   "id": "769df643-5e63-4366-b64a-74fb90e9f501",
   "metadata": {},
   "source": [
    "### A t-test and a z-test are both statistical tests used to determine whether there is a significant difference between two sets of data. However, they differ in their assumptions about the population standard deviation and the sample size."
   ]
  },
  {
   "cell_type": "markdown",
   "id": "4c769e99-01ec-41ff-aa29-38ab334a41cb",
   "metadata": {},
   "source": [
    "### A t-test is used when the population standard deviation is unknown and must be estimated from the sample. It is also used when the sample size is small (less than 30). On the other hand, a z-test is used when the population standard deviation is known, or when the sample size is large (greater than 30)."
   ]
  },
  {
   "cell_type": "markdown",
   "id": "024cd5b3-2c32-4dbc-a0d4-d3a99877ddbb",
   "metadata": {},
   "source": [
    "### An example scenario where you might use a t-test is when you want to compare the mean weight of two groups of people, where the population standard deviation is unknown. For instance, you could compare the mean weight of a group of men and women to see if there is a significant difference in their weights."
   ]
  },
  {
   "cell_type": "markdown",
   "id": "a34c5015-df57-42ba-9f1d-6b1561f9b452",
   "metadata": {},
   "source": [
    "### On the other hand, an example scenario where you might use a z-test is when you want to compare the mean height of two groups of people, where the population standard deviation is known. For instance, you could compare the mean height of a group of people in the US to the mean height of a group of people in another country to see if there is a significant difference in their heights."
   ]
  },
  {
   "cell_type": "markdown",
   "id": "58075a18-6f6c-4e2b-a5a0-e8aedcb33eaa",
   "metadata": {},
   "source": [
    "### In a one-tailed test, the alternative hypothesis specifies the direction of the effect. That is, it predicts that the sample data will fall in one tail of the distribution. A one-tailed test is used when the researcher has a specific directional hypothesis."
   ]
  },
  {
   "cell_type": "markdown",
   "id": "44ea6891-8ff0-42bc-9cf1-bbcf1966d651",
   "metadata": {},
   "source": [
    "### In a two-tailed test, the alternative hypothesis predicts a difference between the sample mean and the hypothesized value, but does not specify the direction of the difference. A two-tailed test is used when the researcher has a non-directional hypothesis."
   ]
  },
  {
   "cell_type": "markdown",
   "id": "9143c771-f02a-4f5c-917d-32c20f2561f4",
   "metadata": {},
   "source": [
    "### Type 1 error (alpha error) occurs when we reject the null hypothesis when it is actually true. In other words, we conclude that there is a significant effect when there is not. The probability of making a Type 1 error is denoted by the significance level (alpha) and is typically set at 0.05 or 0.01."
   ]
  },
  {
   "cell_type": "markdown",
   "id": "4acfc10b-919a-40ad-b3cb-3fcd2629e10c",
   "metadata": {},
   "source": [
    "### Type 2 error (beta error) occurs when we fail to reject the null hypothesis when it is actually false. In other words, we fail to conclude that there is a significant effect when there is. The probability of making a Type 2 error is denoted by the power of the test (1 - beta) and is typically set at 0.8 or 0.9."
   ]
  },
  {
   "cell_type": "markdown",
   "id": "ad1cf4e2-3997-40a6-be18-80868b4a6418",
   "metadata": {},
   "source": [
    "### Bayes's theorem is a mathematical formula that describes the probability of an event based on prior knowledge of conditions that might be related to the event. \n",
    "P(A|B) = P(B|A) * P(A) / P(B)"
   ]
  },
  {
   "cell_type": "markdown",
   "id": "a2588e92-5c16-4f1f-bb0f-259f23f758f1",
   "metadata": {},
   "source": [
    "Suppose we have a new medical test to diagnose a rare disease that affects 1 in 10,000 people. The test has a false positive rate of 1% and a false negative rate of 5%. That is, the test will correctly identify 95% of people who have the disease, but will incorrectly identify 1% of people who don't have the disease as having it.\n",
    "\n",
    "Now suppose we have a patient who tests positive for the disease. What is the probability that the patient actually has the disease?\n",
    "\n",
    "Using Bayes's theorem, we can calculate this probability as follows:\n",
    "\n",
    "P(Disease|Positive) = P(Positive|Disease) * P(Disease) / P(Positive)\n",
    "\n",
    "where:\n",
    "\n",
    "P(Disease|Positive) is the probability that the patient has the disease given a positive test result\n",
    "P(Positive|Disease) is the probability of a positive test result given that the patient has the disease, which is 0.95\n",
    "P(Disease) is the prior probability of the patient having the disease, which is 0.0001\n",
    "P(Positive) is the probability of a positive test result, which can be calculated as follows:\n",
    "P(Positive) = P(Positive|Disease) * P(Disease) + P(Positive|No Disease) * P(No Disease)\n",
    "= 0.95 * 0.0001 + 0.01 * 0.9999\n",
    "= 0.0104\n",
    "\n",
    "Substituting the values into the formula, we get:\n",
    "\n",
    "P(Disease|Positive) = 0.95 * 0.0001 / 0.0104\n",
    "≈ 0.009\n",
    "\n",
    "Therefore, the probability that the patient actually has the disease given a positive test result is only about 0.9%. This is much lower than the intuitive estimate of 95%, which is the probability of a positive test result given that the patient has the disease."
   ]
  },
  {
   "cell_type": "markdown",
   "id": "1fcbfaa5-be50-45e8-ba01-2c75223645d4",
   "metadata": {},
   "source": [
    "### A confidence interval is a range of values that is likely to contain the true value of a population parameter with a certain degree of confidence. It is a statistical measure that provides a range of plausible values for the parameter of interest based on the sample data. The level of confidence is expressed as a percentage and is often set to 90%, 95%, or 99%.\n",
    "CI = X̄ ± z*(σ/√n)"
   ]
  },
  {
   "cell_type": "markdown",
   "id": "0d9623e5-62ea-4129-b3c3-f844dfe596f9",
   "metadata": {},
   "source": [
    "For example, suppose we want to estimate the average weight of apples in a certain orchard. We take a random sample of 50 apples and measure their weights. The sample mean weight is 150 grams, and the sample standard deviation is 10 grams. We want to calculate a 95% confidence interval for the population mean weight.\n",
    "\n",
    "First, we need to find the z-score that corresponds to a 95% confidence level. From the standard normal distribution, the z-score is 1.96.\n",
    "\n",
    "Next, we plug in the values into the formula:\n",
    "\n",
    "CI = 150 ± 1.96*(10/√50)\n",
    "= 150 ± 2.83\n",
    "\n",
    "Therefore, the 95% confidence interval for the population mean weight of apples is (147.17, 152.83) grams. This means that we are 95% confident that the true population mean weight of apples lies within this interval."
   ]
  },
  {
   "cell_type": "markdown",
   "id": "1da90171-fb54-4019-809a-a38bcbdc9742",
   "metadata": {},
   "source": [
    "### Bayes theorem example\n",
    "Suppose that a certain disease affects 1% of the population. A test for the disease has a sensitivity of 95% (meaning it correctly identifies 95% of people with the disease) and a specificity of 90% (meaning it correctly identifies 90% of people without the disease). If a person tests positive for the disease, what is the probability that they actually have the disease?\n",
    "\n",
    "Solution:\n",
    "Let's define the following events\n",
    "\n",
    "D: the event that the person has the disease\n",
    "D̅: the event that the person does not have the disease\n",
    "T+: the event that the person tests positive for the disease\n",
    "T-: the event that the person tests negative for the disease\n",
    "We are given P(D) = 0.01, P(T+|D) = 0.95, and P(T-|D̅) = 0.90. We want to find P(D|T+), the probability that the person has the disease given that they test positive for it.\n",
    "\n",
    "Using Bayes' Theorem, we have:\n",
    "\n",
    "P(D|T+) = P(T+|D) * P(D) / P(T+)\n",
    "\n",
    "We can calculate P(T+) using the law of total probability:\n",
    "\n",
    "P(T+) = P(T+|D) * P(D) + P(T+|D̅) * P(D̅)\n",
    "= 0.95 * 0.01 + 0.10 * 0.99\n",
    "= 0.1085\n",
    "\n",
    "Now we can substitute the values into the formula:\n",
    "\n",
    "P(D|T+) = P(T+|D) * P(D) / P(T+)\n",
    "= 0.95 * 0.01 / 0.1085\n",
    "= 0.0876\n",
    "\n",
    "Therefore, the probability that the person actually has the disease given that they test positive for it is approximately 8.76%."
   ]
  },
  {
   "cell_type": "markdown",
   "id": "69cc45e1-7707-40b6-86f5-28d52ad5edfd",
   "metadata": {},
   "source": [
    "###\n",
    "To calculate the 95% confidence interval, we need to use the formula:\n",
    "\n",
    "CI = X̄ ± z*(σ/√n)\n",
    "\n",
    "where X̄ is the sample mean, σ is the population standard deviation, n is the sample size, and z is the z-score that corresponds to the desired level of confidence (95% in this case).\n",
    "\n",
    "Since the population standard deviation is not given, we can use the sample standard deviation as an estimate. The sample size is also not given, but we can assume it is large enough for the central limit theorem to apply (usually a sample size of 30 or more is sufficient).\n",
    "\n",
    "Let's use a z-score of 1.96, which corresponds to a 95% confidence level. Plugging in the values, we have:\n",
    "\n",
    "CI = 50 ± 1.96*(5/√n)\n",
    "\n",
    "To find the margin of error, we need to solve for the range of the interval:\n",
    "\n",
    "1.96*(5/√n) = 0.98*(5/√n)\n",
    "\n",
    "The margin of error is 0.98*(5/√n), which means the confidence interval is:\n",
    "\n",
    "CI = (50 - 0.98*(5/√n), 50 + 0.98*(5/√n))\n",
    "\n",
    "Interpreting the results, we can say that we are 95% confident that the true population mean falls within this interval. This means that if we were to repeat the sampling process many times and calculate a 95% confidence interval each time, we would expect that about 95% of those intervals would contain the true population mean."
   ]
  },
  {
   "cell_type": "markdown",
   "id": "94d50230-9a52-4d01-a3c8-ffc3ec7e9a82",
   "metadata": {},
   "source": [
    "### The margin of error in a confidence interval is the range of values above and below the sample estimate that is likely to contain the true population parameter with a certain level of confidence. It is the product of the critical value, the standard deviation or standard error, and a factor related to sample size.\n",
    "\n",
    "In general, larger sample sizes tend to result in smaller margins of error. This is because larger samples provide more information about the population, which reduces the uncertainty in the estimate of the population parameter.\n",
    "\n",
    "For example, suppose we want to estimate the average height of all college students in a particular state. If we take a random sample of 10 students, our estimate might have a margin of error of ±3 inches with 95% confidence. However, if we increase the sample size to 100 students, our estimate might have a margin of error of ±1 inch with the same level of confidence. This is because a larger sample provides more information about the population and reduces the uncertainty in our estimate."
   ]
  },
  {
   "cell_type": "markdown",
   "id": "bec95032-e62e-44c5-b19f-2e75d2a1fb1b",
   "metadata": {},
   "source": [
    "### The z-score measures the distance between a data point and the population mean in terms of the number of standard deviations. It can be calculated using the formula:\n",
    "\n",
    "z = (X - μ) / σ\n",
    "\n",
    "where X is the data point, μ is the population mean, and σ is the population standard deviation.\n",
    "\n",
    "Plugging in the values, we have:\n",
    "\n",
    "z = (75 - 70) / 5\n",
    "\n",
    "z = 1\n",
    "\n",
    "Interpreting the results, we can say that the data point of 75 is one standard deviation above the population mean of 70. This means that the data point is relatively far from the mean and is somewhat unusual compared to the rest of the population. The z-score also tells us how many standard deviations away from the mean the data point is, which can be useful for comparing data points from different populations or distributions."
   ]
  },
  {
   "cell_type": "markdown",
   "id": "8e768fe5-b5d7-4447-970f-cd83386fbb5a",
   "metadata": {},
   "source": [
    "### To conduct a hypothesis test for this scenario, we need to follow the following steps:\n",
    "\n",
    "Step 1: State the null and alternative hypotheses.\n",
    "\n",
    "The null hypothesis (H0) is that the weight loss drug is not significantly effective, and the alternative hypothesis (Ha) is that the weight loss drug is significantly effective.\n",
    "\n",
    "H0: μ = 0 (the true population mean weight loss is zero)\n",
    "Ha: μ ≠ 0 (the true population mean weight loss is not zero)\n",
    "\n",
    "Step 2: Set the level of significance.\n",
    "\n",
    "We are given that we want to test at a 95% confidence level, which corresponds to a level of significance (alpha) of 0.05.\n",
    "\n",
    "Step 3: Calculate the test statistic.\n",
    "\n",
    "Since the sample size is less than 30 and the population standard deviation is unknown, we will use a t-test. The test statistic is calculated as follows:\n",
    "\n",
    "t = (X̄ - μ) / (s / √n)\n",
    "\n",
    "where X̄ is the sample mean, μ is the hypothesized population mean under the null hypothesis (0 in this case), s is the sample standard deviation, and n is the sample size.\n",
    "\n",
    "Plugging in the values, we have:\n",
    "\n",
    "t = (6 - 0) / (2.5 / √50)\n",
    "\n",
    "t = 13.42\n",
    "\n",
    "Step 4: Determine the critical value and p-value.\n",
    "\n",
    "Since we are conducting a two-tailed test at a 95% confidence level with 49 degrees of freedom (df = n - 1), the critical t-value is ±2.009.\n",
    "\n",
    "The p-value can be calculated using a t-distribution table or a calculator. For a two-tailed test with 49 degrees of freedom and a t-value of 13.42, the p-value is very close to 0.\n",
    "\n",
    "Step 5: Make a decision and interpret the results.\n",
    "\n",
    "The test statistic (t = 13.42) is much greater than the critical t-value (±2.009) and the p-value is very small (less than 0.05). Therefore, we reject the null hypothesis and conclude that the weight loss drug is significantly effective at a 95% confidence level. This means that the observed sample mean weight loss of 6 pounds is unlikely to have occurred by chance, and that the weight loss drug is likely to produce a statistically significant weight loss in the population."
   ]
  },
  {
   "cell_type": "markdown",
   "id": "3b4f507f-7950-4b92-b9bc-871f7e5db7b5",
   "metadata": {},
   "source": [
    "### To calculate the 95% confidence interval for the true proportion of people who are satisfied with their job, we can use the following formula:\n",
    "\n",
    "CI = p ± z*(√(p*(1-p))/n)\n",
    "\n",
    "where CI is the confidence interval, p is the sample proportion, z is the critical z-value for the desired confidence level (1.96 for 95% confidence level), and n is the sample size.\n",
    "\n",
    "Plugging in the values, we have:\n",
    "\n",
    "CI = 0.65 ± 1.96*(√(0.65*(1-0.65))/500)\n",
    "\n",
    "CI = 0.65 ± 0.042\n",
    "\n",
    "The 95% confidence interval for the true proportion of people who are satisfied with their job is (0.608, 0.692). This means that we can be 95% confident that the true proportion of people who are satisfied with their job falls between 60.8% and 69.2%."
   ]
  },
  {
   "cell_type": "markdown",
   "id": "69236e1e-4981-4854-8ce2-47f21a37ff03",
   "metadata": {},
   "source": [
    "### The test statistic for a two-sample t-test is calculated as:\n",
    "\n",
    "t = (x1 - x2) / sqrt((s1^2/n1) + (s2^2/n2))\n",
    "\n",
    "where x1 and x2 are the sample means, s1 and s2 are the sample standard deviations, and n1 and n2 are the sample sizes.\n",
    "\n",
    "Plugging in the values, we have:\n",
    "\n",
    "t = (85 - 82) / sqrt((6^2/1) + (5^2/1))\n",
    "\n",
    "t = 3 / sqrt(61)\n",
    "\n",
    "t = 0.387\n",
    "\n",
    "The degrees of freedom for the two-sample t-test is calculated as:\n",
    "\n",
    "df = (s1^2/n1 + s2^2/n2)^2 / ((s1^2/n1)^2 / (n1-1) + (s2^2/n2)^2 / (n2-1))\n",
    "\n",
    "Plugging in the values, we have:\n",
    "\n",
    "df = (6^2/1 + 5^2/1)^2 / ((6^2/1)^2 / (1-1) + (5^2/1)^2 / (1-1))\n",
    "\n",
    "df = 1\n",
    "\n",
    "Using a t-table with 1 degree of freedom and a significance level of 0.01, the critical t-value is 6.314.\n",
    "\n",
    "Since the calculated t-value (0.387) is less than the critical t-value (6.314), we fail to reject the null hypothesis. This means that we do not have enough evidence to conclude that there is a significant difference between the two teaching methods at a significance level of 0.01."
   ]
  },
  {
   "cell_type": "markdown",
   "id": "c9f9c080-95f2-4107-bdbd-e8786976e911",
   "metadata": {},
   "source": [
    "### To calculate the 90% confidence interval for the true population mean, we can use the following formula:\n",
    "\n",
    "CI = X̄ ± Zα/2 * σ/√n\n",
    "\n",
    "where X̄ is the sample mean, σ is the population standard deviation, n is the sample size, Zα/2 is the critical value of the standard normal distribution corresponding to the desired confidence level (in this case, 90% confidence interval), and CI is the confidence interval.\n",
    "\n",
    "First, we need to find the value of Zα/2 using a standard normal distribution table or calculator. For a 90% confidence interval, the value of Zα/2 is 1.645.\n",
    "\n",
    "Plugging in the values, we have:\n",
    "\n",
    "CI = 65 ± 1.645 * 8 / √50\n",
    "\n",
    "CI = 65 ± 2.325\n",
    "\n",
    "The 90% confidence interval for the true population mean is (62.675, 67.325).\n",
    "\n",
    "Interpretation: We are 90% confident that the true population mean lies between 62.675 and 67.325 based on the sample mean of 65 and a sample size of 50."
   ]
  },
  {
   "cell_type": "code",
   "execution_count": null,
   "id": "a2b091f9-e4c6-41fa-87ef-95ffca8f6941",
   "metadata": {},
   "outputs": [],
   "source": []
  }
 ],
 "metadata": {
  "kernelspec": {
   "display_name": "Python 3 (ipykernel)",
   "language": "python",
   "name": "python3"
  },
  "language_info": {
   "codemirror_mode": {
    "name": "ipython",
    "version": 3
   },
   "file_extension": ".py",
   "mimetype": "text/x-python",
   "name": "python",
   "nbconvert_exporter": "python",
   "pygments_lexer": "ipython3",
   "version": "3.10.8"
  }
 },
 "nbformat": 4,
 "nbformat_minor": 5
}
