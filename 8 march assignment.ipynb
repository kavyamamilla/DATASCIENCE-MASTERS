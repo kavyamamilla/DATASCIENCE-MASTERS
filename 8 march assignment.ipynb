{
 "cells": [
  {
   "cell_type": "markdown",
   "id": "059c65fc-0047-45d8-87c0-3d95f5b6ebf5",
   "metadata": {},
   "source": [
    "### A function is said to be a probability density function if it represents a continuous probability distribution."
   ]
  },
  {
   "cell_type": "markdown",
   "id": "b3232083-90db-4712-bb6f-5bd7ef5fa2dd",
   "metadata": {},
   "source": [
    "### Types of probability distributions : Normal/Gaussian distribution , Bernoulli distribution , Uniform distribution , Log Normal distribution , Poisson distribution , Power Law distribution , Binomial distribution."
   ]
  },
  {
   "cell_type": "code",
   "execution_count": 3,
   "id": "1b48f0ef-43d6-4a5f-aa0f-62d1ead37cc9",
   "metadata": {},
   "outputs": [
    {
     "name": "stdout",
     "output_type": "stream",
     "text": [
      "[-5. -4. -3. -2. -1.  0.  1.  2.  3.  4.  5.]\n",
      "0.0804410163156249\n"
     ]
    }
   ],
   "source": [
    "from scipy.stats import norm\n",
    "import numpy as np \n",
    "data_start = -5\n",
    "data_end = 5\n",
    "data_points = 11\n",
    "data = np.linspace(data_start, data_end, data_points)\n",
    "print(data)\n",
    "mean = np.mean(data)\n",
    "std = np.std(data)\n",
    "probability_pdf = norm.pdf(3, loc=mean, scale=std)\n",
    "print(probability_pdf)"
   ]
  },
  {
   "cell_type": "markdown",
   "id": "4655ca64-d77d-4e0b-ab2d-df4a1a00acd1",
   "metadata": {},
   "source": [
    "### Binomial distribution is the discrete probability distribution that gives only two possible results in an experiment, either Success or Failure."
   ]
  },
  {
   "cell_type": "markdown",
   "id": "d7f25e83-b003-4d0e-97c0-ff7428541196",
   "metadata": {},
   "source": [
    "### The binomial distribution describes the behavior of a count variable X if the following conditions apply: 1: The number of observations n is fixed.  2: Each observation is independent.  3: Each observation represents one of two outcomes (\"success\" or \"failure\").  4: The probability of \"success\" p is the same for each outcome."
   ]
  },
  {
   "cell_type": "markdown",
   "id": "73e8bd08-0012-427b-a718-e6f9b860d823",
   "metadata": {},
   "source": [
    "### Binomial distribution examples : Getting exactly 2 heads and while playing games."
   ]
  },
  {
   "cell_type": "code",
   "execution_count": 11,
   "id": "0f6787a6-e3d3-4cc8-90c7-5570efb31029",
   "metadata": {},
   "outputs": [
    {
     "name": "stdout",
     "output_type": "stream",
     "text": [
      "[4 5 3 3 2 3 3 6 3 6 3 3 3 2 2 5 3 5 2 4 6 4 2 2 2 2 1 2 5 3 4 1 1 3 2 6 1\n",
      " 4 2 5 4 3 3 2 2 4 5 3 7 2 4 4 2 4 3 5 4 5 6 4 2 6 3 4 5 5 2 3 2 6 4 1 3 3\n",
      " 1 3 3 3 4 3 4 1 3 2 4 5 3 2 3 3 3 3 4 5 4 4 3 3 0 5 4 2 2 4 4 1 3 2 4 3 4\n",
      " 4 3 2 2 4 2 5 2 3 2 5 5 3 4 4 3 4 2 4 3 2 1 2 3 5 3 4 3 3 4 3 2 5 4 5 4 4\n",
      " 3 4 5 3 4 5 3 2 3 4 5 4 6 3 3 0 2 4 2 2 3 3 2 5 5 1 3 2 1 2 5 4 2 4 5 3 4\n",
      " 3 3 4 4 5 3 3 6 5 3 6 3 3 5 3 2 1 4 1 3 4 3 4 4 3 3 4 4 3 4 3 2 5 6 5 2 2\n",
      " 1 2 4 2 3 3 2 5 5 3 3 4 2 5 7 6 3 4 2 5 2 1 5 3 3 2 4 3 3 3 3 2 1 5 2 1 3\n",
      " 2 3 5 6 5 2 2 7 7 2 1 3 5 4 3 3 3 3 3 5 2 1 2 4 7 2 1 1 2 3 2 2 5 1 4 1 2\n",
      " 2 1 4 4 1 4 4 2 4 5 4 3 4 4 6 5 4 3 5 6 4 2 2 4 5 3 3 2 4 5 2 5 5 6 4 3 2\n",
      " 1 3 1 3 2 3 0 6 3 2 3 5 7 2 5 4 3 5 5 2 3 3 3 3 4 1 4 4 1 3 3 6 2 3 3 3 3\n",
      " 2 5 1 5 4 4 4 3 5 4 4 0 1 2 3 3 2 5 2 4 1 4 2 6 3 2 0 0 3 3 1 2 5 5 3 3 3\n",
      " 3 2 2 6 3 4 3 3 5 4 4 4 3 5 3 3 4 2 3 4 1 6 4 3 4 3 3 0 3 3 4 3 3 4 6 5 3\n",
      " 3 3 3 0 4 4 5 5 3 4 6 2 2 3 4 4 2 3 5 3 3 3 1 3 3 3 2 2 3 1 3 4 3 4 3 3 5\n",
      " 4 0 1 0 3 3 3 2 2 2 2 5 5 5 2 4 4 5 4 2 5 1 4 2 3 4 4 3 3 2 3 3 5 6 4 4 3\n",
      " 5 2 4 3 3 1 4 5 3 4 0 1 5 4 2 5 2 0 3 4 5 2 2 4 2 2 3 3 3 1 2 0 5 4 3 0 5\n",
      " 2 4 6 1 5 2 3 3 7 3 3 2 1 4 6 4 4 3 0 2 5 2 3 4 4 6 4 5 5 3 3 3 1 5 4 4 2\n",
      " 4 5 1 4 5 4 4 2 4 3 4 3 3 4 2 4 2 3 4 5 1 4 3 4 6 3 3 3 5 3 3 5 3 2 2 2 5\n",
      " 4 5 4 4 4 5 3 2 1 2 4 4 2 6 1 2 5 1 2 2 3 1 4 2 4 5 4 5 3 4 2 7 3 2 3 4 5\n",
      " 2 6 3 4 3 1 1 4 2 4 7 2 4 1 1 2 4 3 5 3 2 1 2 4 5 2 2 4 4 4 2 2 2 3 1 3 3\n",
      " 2 2 1 4 4 2 2 3 3 4 2 2 3 4 4 3 3 7 3 1 1 4 0 4 3 2 3 3 5 4 4 5 2 0 6 3 4\n",
      " 1 3 3 3 6 4 3 3 4 4 2 5 3 4 4 4 3 3 4 1 1 2 3 1 4 2 6 2 4 1 2 6 4 0 4 2 5\n",
      " 4 1 5 3 2 2 3 4 3 2 3 4 3 4 3 2 3 3 4 4 2 3 3 2 4 4 5 5 1 2 2 2 6 4 2 4 4\n",
      " 4 1 4 4 3 4 5 4 1 6 1 6 2 1 3 2 2 2 4 3 4 4 4 5 4 4 2 5 4 4 2 2 3 3 4 2 2\n",
      " 4 3 4 1 3 3 4 2 4 5 2 3 2 3 3 5 3 3 1 5 5 2 2 1 2 3 1 0 4 4 4 2 4 3 4 5 5\n",
      " 2 3 2 4 7 3 2 3 4 2 3 2 2 2 3 6 2 1 3 4 3 1 3 2 3 5 3 4 5 2 4 1 3 5 3 3 4\n",
      " 1 3 4 1 6 4 2 3 4 5 2 2 3 3 6 2 6 1 3 2 3 3 3 4 2 1 5 2 3 3 3 5 4 6 2 1 5\n",
      " 5 2 3 3 4 3 4 4 2 1 3 1 3 3 2 3 4 6 3 3 3 1 4 5 3 4 3 2 2 3 5 3 3 1 2 1 4\n",
      " 1]\n"
     ]
    }
   ],
   "source": [
    "import numpy as np\n",
    "x = np.random.binomial(8,.4,1000)\n",
    "print(x)"
   ]
  },
  {
   "cell_type": "code",
   "execution_count": 1,
   "id": "1351eabc-30fd-4463-ad61-7d3e8b0bcd2a",
   "metadata": {},
   "outputs": [
    {
     "name": "stdout",
     "output_type": "stream",
     "text": [
      "0.32084719886213414\n"
     ]
    }
   ],
   "source": [
    "from scipy.stats import poisson\n",
    "\n",
    "def poisson_cdf(mean, x):\n",
    "    return poisson.cdf(x, mu=mean)\n",
    "cdf = poisson_cdf(3.5, 2)\n",
    "print(cdf)\n"
   ]
  },
  {
   "cell_type": "markdown",
   "id": "305516eb-ff6e-46c5-be14-d1f5d1dfc8c7",
   "metadata": {},
   "source": [
    "### The Binomial distribution is used to model the number of successes in a fixed number of independent trials, where each trial has only two possible outcomes (success or failure) and the probability of success is constant across all trials. Examples of Binomial distributions include the number of heads in a fixed number of coin flips or the number of defective parts in a batch of a fixed size."
   ]
  },
  {
   "cell_type": "markdown",
   "id": "a0f42576-51c7-4150-9e9a-c5caa81918d3",
   "metadata": {},
   "source": [
    "### Poisson distribution is used to model the number of occurrences of a rare event in a fixed time or space interval, where the events occur independently of each other and at a constant rate. Examples of Poisson distributions include the number of customer arrivals in a fixed time period or the number of accidents on a particular stretch of road in a fixed time period."
   ]
  },
  {
   "cell_type": "markdown",
   "id": "c3fe324f-0c6a-4b82-be59-200be7f901cf",
   "metadata": {},
   "source": [
    "### Shape of their probability mass functions (PMFs). The Binomial PMF is discrete and has a symmetric, bell-shaped distribution, while the Poisson PMF is also discrete but has a skewed, unimodal distribution."
   ]
  },
  {
   "cell_type": "markdown",
   "id": "a1ee3c22-1639-4670-bcec-ce1255ccf8ea",
   "metadata": {},
   "source": [
    "### Binomial and Poisson distributions are used to model count data, the Binomial distribution is used for events with two possible outcomes and a fixed number of trials, while the Poisson distribution is used for rare events that occur independently and at a constant rate over a fixed time or space interval."
   ]
  },
  {
   "cell_type": "code",
   "execution_count": 2,
   "id": "06efa9e2-0498-4263-9880-de9d57e7b735",
   "metadata": {},
   "outputs": [
    {
     "name": "stdout",
     "output_type": "stream",
     "text": [
      "Sample mean: 5.042\n",
      "Sample variance: 4.9562360000000005\n"
     ]
    }
   ],
   "source": [
    "import numpy as np\n",
    "mean = 5\n",
    "sample = np.random.poisson(mean, 1000)\n",
    "sample_mean = np.mean(sample)\n",
    "sample_var = np.var(sample)\n",
    "print(\"Sample mean:\", sample_mean)\n",
    "print(\"Sample variance:\", sample_var)"
   ]
  },
  {
   "cell_type": "markdown",
   "id": "ac25a89c-e2b0-455e-a0a1-03e0208cde7d",
   "metadata": {},
   "source": [
    "### In both the Binomial distribution and Poisson distribution, the mean and variance are related, but the nature of the relationship is different.\n"
   ]
  },
  {
   "cell_type": "markdown",
   "id": "7c718cbf-73ec-4aa9-87ce-4c25c9011691",
   "metadata": {},
   "source": [
    "### In the Binomial distribution, which models the number of successes in a fixed number of independent trials, where each trial has only two possible outcomes (success or failure) and the probability of success is constant across all trials, the mean and variance are related as follows:\n",
    "\n",
    "Mean = n * p, where n is the number of trials and p is the probability of success in each trial.\n",
    "Variance = n * p * (1 - p)."
   ]
  },
  {
   "cell_type": "markdown",
   "id": "0b561dfd-0e80-4420-b57b-6e68c88244d4",
   "metadata": {},
   "source": [
    "### So the variance of a Binomial distribution depends on both the number of trials and the probability of success. As the probability of success approaches 0 or 1, the variance approaches 0. When the probability of success is 0.5, the variance is maximized."
   ]
  },
  {
   "cell_type": "markdown",
   "id": "5f66ea2d-8616-434c-ba7d-a25dc2a069c1",
   "metadata": {},
   "source": [
    "### In the Poisson distribution, which models the number of occurrences of a rare event in a fixed time or space interval, where the events occur independently of each other and at a constant rate, the mean and variance are related as follows:\n",
    "\n",
    "Mean = variance = lambda, where lambda is the rate parameter of the distribution.\n",
    "So the mean and variance of a Poisson distribution are equal and depend only on the rate parameter lambda. As lambda increases, both the mean and variance increase proportionally."
   ]
  },
  {
   "cell_type": "markdown",
   "id": "5a2afcce-0afd-4e5b-b220-0341d0604d47",
   "metadata": {},
   "source": [
    "### n the Binomial distribution, the variance depends on both the number of trials and the probability of success, while in the Poisson distribution, the mean and variance are equal and depend only on the rate parameter."
   ]
  },
  {
   "cell_type": "markdown",
   "id": "d40e15b6-ecf4-4ea2-b4e2-884a9c1bb594",
   "metadata": {},
   "source": [
    "### In a normal distribution, the least frequent data appears at the two tails of the distribution, which are located at the extreme ends of the distribution, farthest away from the mean. The normal distribution is a symmetric bell-shaped distribution, so the mean is located at the center of the distribution and divides the area under the curve into two equal parts."
   ]
  },
  {
   "cell_type": "markdown",
   "id": "d54fb94e-9e1b-44a3-9a3b-23c630629ddd",
   "metadata": {},
   "source": [
    "### The tails of the normal distribution represent the low-probability events, which occur far away from the mean. Specifically, the left tail represents the events with values less than the mean minus a certain number of standard deviations (usually two or three), while the right tail represents the events with values greater than the mean plus a certain number of standard deviations (also usually two or three)."
   ]
  },
  {
   "cell_type": "code",
   "execution_count": null,
   "id": "e727f837-e4b5-4787-8e08-6967078b61cb",
   "metadata": {},
   "outputs": [],
   "source": [
    "### "
   ]
  }
 ],
 "metadata": {
  "kernelspec": {
   "display_name": "Python 3 (ipykernel)",
   "language": "python",
   "name": "python3"
  },
  "language_info": {
   "codemirror_mode": {
    "name": "ipython",
    "version": 3
   },
   "file_extension": ".py",
   "mimetype": "text/x-python",
   "name": "python",
   "nbconvert_exporter": "python",
   "pygments_lexer": "ipython3",
   "version": "3.10.8"
  }
 },
 "nbformat": 4,
 "nbformat_minor": 5
}
