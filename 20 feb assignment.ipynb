{
 "cells": [
  {
   "cell_type": "markdown",
   "id": "06fb9cb0-2d74-4594-b72a-3a9c4c9665ce",
   "metadata": {},
   "source": [
    "### To handle Requests in flask we are having a route decorator. In that, there is a methods attribute that indicates what type of request a particular function is accepting. If we keep its value empty then it by default accepts a GET request. "
   ]
  },
  {
   "cell_type": "markdown",
   "id": "1f4ddf63-c401-4ea8-8b13-6382909583a0",
   "metadata": {},
   "source": [
    "### GET: This method is used to retrieve data from the server. e.g In an eCommerce application, there is a search button to search for an item. after entering a keyword if we noticed, the keyword you searched for gets displayed in the URL. This request is used when the data is not sensitive."
   ]
  },
  {
   "cell_type": "markdown",
   "id": "82e9f9e1-d115-4fd8-8b51-b51b56a64f6b",
   "metadata": {},
   "source": [
    "### POST: This method makes enables users to send data over to the server. e.g In any authentication-enabled application, the registration and login form is the best example for the post method. Whenever we enter Information and submit the data get transferred over to the POST request. And if we noticed, unlike get request there is no information will be ever displayed in the URL."
   ]
  },
  {
   "cell_type": "markdown",
   "id": "3035a3ed-7251-4262-9acb-36786bbb8072",
   "metadata": {},
   "source": [
    "### To access the incoming data in Flask, you have to use the request object. The request object holds all incoming data from the request, which includes the mimetype, referrer, IP address, raw data, HTTP method, and headers, among other things."
   ]
  },
  {
   "cell_type": "markdown",
   "id": "ac894ae2-6f6b-4d34-943f-892472b09059",
   "metadata": {},
   "source": [
    "### Flask class has a redirect() function. When called, it returns a response object and redirects the user to another target location with specified status code. location parameter is the URL where response should be redirected."
   ]
  },
  {
   "cell_type": "markdown",
   "id": "9671a13b-52c4-413b-8c7d-db1a5e6d5eec",
   "metadata": {},
   "source": [
    "### Templates are files that contain static data as well as placeholders for dynamic data. A template is rendered with specific data to produce a final document. Flask uses the Jinja template library to render templates. "
   ]
  },
  {
   "cell_type": "markdown",
   "id": "ebfe0066-b47f-460a-889c-b700728d6c79",
   "metadata": {},
   "source": [
    "### render_template is a Flask function from the flask. templating package. render_template is used to generate output from a template file based on the Jinja2 engine that is found in the application's templates folder. Note that render_template is typically imported directly from the flask package instead of from flask."
   ]
  },
  {
   "cell_type": "code",
   "execution_count": 1,
   "id": "73fdfe53-2f85-44ff-af8a-a0b4fe9998ac",
   "metadata": {},
   "outputs": [
    {
     "name": "stdout",
     "output_type": "stream",
     "text": [
      "Requirement already satisfied: Flask in /opt/conda/lib/python3.10/site-packages (2.2.3)\n",
      "Requirement already satisfied: itsdangerous>=2.0 in /opt/conda/lib/python3.10/site-packages (from Flask) (2.1.2)\n",
      "Requirement already satisfied: Jinja2>=3.0 in /opt/conda/lib/python3.10/site-packages (from Flask) (3.1.2)\n",
      "Requirement already satisfied: Werkzeug>=2.2.2 in /opt/conda/lib/python3.10/site-packages (from Flask) (2.2.3)\n",
      "Requirement already satisfied: click>=8.0 in /opt/conda/lib/python3.10/site-packages (from Flask) (8.1.3)\n",
      "Requirement already satisfied: MarkupSafe>=2.0 in /opt/conda/lib/python3.10/site-packages (from Jinja2>=3.0->Flask) (2.1.1)\n",
      "Note: you may need to restart the kernel to use updated packages.\n"
     ]
    }
   ],
   "source": [
    "pip install Flask"
   ]
  },
  {
   "cell_type": "code",
   "execution_count": 2,
   "id": "75a3c1bf-061b-43a7-a5d2-b5ce4675ab23",
   "metadata": {},
   "outputs": [
    {
     "name": "stdout",
     "output_type": "stream",
     "text": [
      "Collecting Flask-RESTful\n",
      "  Downloading Flask_RESTful-0.3.9-py2.py3-none-any.whl (25 kB)\n",
      "Requirement already satisfied: Flask>=0.8 in /opt/conda/lib/python3.10/site-packages (from Flask-RESTful) (2.2.3)\n",
      "Requirement already satisfied: pytz in /opt/conda/lib/python3.10/site-packages (from Flask-RESTful) (2022.6)\n",
      "Requirement already satisfied: six>=1.3.0 in /opt/conda/lib/python3.10/site-packages (from Flask-RESTful) (1.16.0)\n",
      "Collecting aniso8601>=0.82\n",
      "  Downloading aniso8601-9.0.1-py2.py3-none-any.whl (52 kB)\n",
      "\u001b[2K     \u001b[90m━━━━━━━━━━━━━━━━━━━━━━━━━━━━━━━━━━━━━━━━\u001b[0m \u001b[32m52.8/52.8 kB\u001b[0m \u001b[31m8.7 MB/s\u001b[0m eta \u001b[36m0:00:00\u001b[0m\n",
      "\u001b[?25hRequirement already satisfied: Werkzeug>=2.2.2 in /opt/conda/lib/python3.10/site-packages (from Flask>=0.8->Flask-RESTful) (2.2.3)\n",
      "Requirement already satisfied: Jinja2>=3.0 in /opt/conda/lib/python3.10/site-packages (from Flask>=0.8->Flask-RESTful) (3.1.2)\n",
      "Requirement already satisfied: itsdangerous>=2.0 in /opt/conda/lib/python3.10/site-packages (from Flask>=0.8->Flask-RESTful) (2.1.2)\n",
      "Requirement already satisfied: click>=8.0 in /opt/conda/lib/python3.10/site-packages (from Flask>=0.8->Flask-RESTful) (8.1.3)\n",
      "Requirement already satisfied: MarkupSafe>=2.0 in /opt/conda/lib/python3.10/site-packages (from Jinja2>=3.0->Flask>=0.8->Flask-RESTful) (2.1.1)\n",
      "Installing collected packages: aniso8601, Flask-RESTful\n",
      "Successfully installed Flask-RESTful-0.3.9 aniso8601-9.0.1\n",
      "Note: you may need to restart the kernel to use updated packages.\n"
     ]
    }
   ],
   "source": [
    "pip install Flask-RESTful"
   ]
  },
  {
   "cell_type": "code",
   "execution_count": null,
   "id": "7d79961a-69df-4579-8c6c-80129553e291",
   "metadata": {},
   "outputs": [],
   "source": []
  }
 ],
 "metadata": {
  "kernelspec": {
   "display_name": "Python 3 (ipykernel)",
   "language": "python",
   "name": "python3"
  },
  "language_info": {
   "codemirror_mode": {
    "name": "ipython",
    "version": 3
   },
   "file_extension": ".py",
   "mimetype": "text/x-python",
   "name": "python",
   "nbconvert_exporter": "python",
   "pygments_lexer": "ipython3",
   "version": "3.10.8"
  }
 },
 "nbformat": 4,
 "nbformat_minor": 5
}
