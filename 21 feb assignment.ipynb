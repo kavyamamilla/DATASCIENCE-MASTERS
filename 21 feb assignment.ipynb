{
 "cells": [
  {
   "cell_type": "markdown",
   "id": "d88522b5-4f90-4aac-9e40-0e176220b6c0",
   "metadata": {},
   "source": [
    "### Web scraping refers to the extraction of data from a website. This information is collected and then exported into a format that is more useful for the user.The uses of Web Scraping for business as well as personal requirements are endless. Each business or individual has their own specific need for gathering data."
   ]
  },
  {
   "cell_type": "markdown",
   "id": "1ef1897a-c48d-48bb-8709-f2ae8ece5a67",
   "metadata": {},
   "source": [
    "### Price Comparison & Competition Monitoring.E-Commerce. Data Analysis"
   ]
  },
  {
   "cell_type": "markdown",
   "id": "9abf7591-1317-447c-8074-631d08d82cb5",
   "metadata": {},
   "source": [
    "### HTML Parsing.DOM Parsing.Google Sheets.HTTP programming.Vertical aggregation."
   ]
  },
  {
   "cell_type": "markdown",
   "id": "60b5ead5-fbea-44c7-837e-66503be1510f",
   "metadata": {},
   "source": [
    "### Beautiful Soup is a Python package for parsing HTML and XML documents (including having malformed markup, i.e. non-closed tags, so named after tag soup). It creates a parse tree for parsed pages that can be used to extract data from HTML, which is useful for web scraping."
   ]
  },
  {
   "cell_type": "markdown",
   "id": "b907f577-e485-44e3-8847-772b99e96319",
   "metadata": {},
   "source": [
    "### Flask is a lightweight framework to build websites. We'll use this to parse our collected data and display it as HTML in a new HTML file. The requests module allows us to send http requests to the website we want to scrape."
   ]
  },
  {
   "cell_type": "markdown",
   "id": "b273b933-122a-47a3-b90b-ec071eefc793",
   "metadata": {},
   "source": [
    "### Developers have to deal with enough headaches as it is. AWS Beanstalk was created to help developers manage website infrastructure. It’s difficult for developers to switch from development to maintenance at the drop of a hat. Yet, AWS Beanstalk offers autoscaling to ensure automatic updates of new software. And, this service runs automatically.AWS Beanstalk really is a timesaver. It automates the setup, configuration, and provisioning of other AWS services such as EC2, RDS, and S3. Not to mention, the automated setup also helps to mitigate human error."
   ]
  },
  {
   "cell_type": "markdown",
   "id": "f01cacdc-b680-4918-97e5-9a703ad49d7b",
   "metadata": {},
   "source": [
    "### AWS CodePipeline is a fully managed continuous delivery service that helps users automate release pipelines for fast, reliable application and infrastructure updates. CodePipeline automates the build, test, and deploy phases of the release process every time there is a code change, based on the release model a user defines. This is to enable rapid, reliable delivery of features and updates. "
   ]
  },
  {
   "cell_type": "code",
   "execution_count": null,
   "id": "5f3e6306-794f-4c9d-8146-f887ec6d423d",
   "metadata": {},
   "outputs": [],
   "source": []
  }
 ],
 "metadata": {
  "kernelspec": {
   "display_name": "Python 3 (ipykernel)",
   "language": "python",
   "name": "python3"
  },
  "language_info": {
   "codemirror_mode": {
    "name": "ipython",
    "version": 3
   },
   "file_extension": ".py",
   "mimetype": "text/x-python",
   "name": "python",
   "nbconvert_exporter": "python",
   "pygments_lexer": "ipython3",
   "version": "3.10.8"
  }
 },
 "nbformat": 4,
 "nbformat_minor": 5
}
