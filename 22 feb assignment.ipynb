{
 "cells": [
  {
   "cell_type": "code",
   "execution_count": 9,
   "id": "46e6b389-4ea8-450a-aa95-630eddbed5f0",
   "metadata": {},
   "outputs": [],
   "source": [
    "import requests\n",
    "from bs4 import BeautifulSoup\n",
    "import csv\n",
    "url = \"https://www.youtube.com/@PW-Foundation/videos\"\n",
    "response = requests.get(url)\n",
    "soup = BeautifulSoup(response.content, \"html.parser\")"
   ]
  },
  {
   "cell_type": "code",
   "execution_count": 19,
   "id": "fa153b64-b9d1-4983-8231-e320c6cf923e",
   "metadata": {},
   "outputs": [
    {
     "name": "stdout",
     "output_type": "stream",
     "text": [
      "[]\n"
     ]
    }
   ],
   "source": [
    "video_urls = []\n",
    "for link in soup.select(\"#items > ytd-grid-video-renderer > div > div > div > a\"):\n",
    "    if len(video_urls) < 5:\n",
    "        video_url = f\"https://www.youtube.com{link['href']}\"\n",
    "        video_urls.append(video_url)\n",
    "print(video_urls)"
   ]
  },
  {
   "cell_type": "code",
   "execution_count": 17,
   "id": "df94712d-1a0e-4351-b6c8-7179a89d4a62",
   "metadata": {},
   "outputs": [
    {
     "name": "stdout",
     "output_type": "stream",
     "text": [
      "[]\n"
     ]
    }
   ],
   "source": [
    "thumbnail_urls = []\n",
    "for thumbnail in soup.select(\"#items > ytd-grid-video-renderer > div > div > ytd-thumbnail > a > yt-img-shadow > img\"):\n",
    "    if len(thumbnail_urls) < 5:\n",
    "        thumbnail_url = thumbnail['src']\n",
    "        thumbnail_urls.append(thumbnail_url)\n",
    "print(thumbnail_urls)"
   ]
  },
  {
   "cell_type": "code",
   "execution_count": 25,
   "id": "4f944e22-ff2b-4af8-9e7b-a7c21de6a6d7",
   "metadata": {},
   "outputs": [
    {
     "name": "stdout",
     "output_type": "stream",
     "text": [
      "[]\n"
     ]
    }
   ],
   "source": [
    "titles = []\n",
    "for title in soup.select(\"#items > ytd-grid-video-renderer > div > div > div > a > h3\"):\n",
    "    if len(titles) < 5:\n",
    "        title_text = title.text.strip()\n",
    "        titles.append(title_text)\n",
    "print(titles)"
   ]
  },
  {
   "cell_type": "code",
   "execution_count": 26,
   "id": "6b64ba56-e6cf-461a-8bf3-2829fa60d12f",
   "metadata": {},
   "outputs": [
    {
     "name": "stdout",
     "output_type": "stream",
     "text": [
      "[]\n"
     ]
    }
   ],
   "source": [
    "views = []\n",
    "for view in soup.select(\"#items > ytd-grid-video-renderer > div > div > div > ytd-video-meta-block > div > div > span:nth-child(1)\"):\n",
    "    if len(views) < 5:\n",
    "        view_text = view.text.strip()\n",
    "        views.append(view_text)\n",
    "print(views)"
   ]
  },
  {
   "cell_type": "code",
   "execution_count": 27,
   "id": "6e903e61-fd4a-4de8-a01b-b96c2ff4d03b",
   "metadata": {},
   "outputs": [
    {
     "name": "stdout",
     "output_type": "stream",
     "text": [
      "[]\n"
     ]
    }
   ],
   "source": [
    "times = []\n",
    "for time in soup.select(\"#items > ytd-grid-video-renderer > div > div > div > ytd-video-meta-block > div > div > span:nth-child(2)\"):\n",
    "    if len(times) < 5:\n",
    "        time_text = time.text.strip()\n",
    "        times.append(time_text)\n",
    "print(times)"
   ]
  },
  {
   "cell_type": "code",
   "execution_count": 40,
   "id": "71d10d70-089f-46f5-b57a-81a5009618f1",
   "metadata": {},
   "outputs": [],
   "source": [
    "with open('youtube_data.csv', mode='w', newline='') as file:\n",
    "    writer = csv.writer(file)\n",
    "    writer.writerow([\"Video URL\", \"Thumbnail URL\", \"Title\", \"Views\", \"Time\"])\n",
    "    for i in range(5):\n",
    "        writer.writerow([video_urls,thumbnail_urls, titles, views, times])"
   ]
  }
 ],
 "metadata": {
  "kernelspec": {
   "display_name": "Python 3 (ipykernel)",
   "language": "python",
   "name": "python3"
  },
  "language_info": {
   "codemirror_mode": {
    "name": "ipython",
    "version": 3
   },
   "file_extension": ".py",
   "mimetype": "text/x-python",
   "name": "python",
   "nbconvert_exporter": "python",
   "pygments_lexer": "ipython3",
   "version": "3.10.8"
  }
 },
 "nbformat": 4,
 "nbformat_minor": 5
}
