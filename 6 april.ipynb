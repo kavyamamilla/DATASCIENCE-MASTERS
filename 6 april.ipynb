{
  "nbformat": 4,
  "nbformat_minor": 0,
  "metadata": {
    "colab": {
      "provenance": []
    },
    "kernelspec": {
      "name": "python3",
      "display_name": "Python 3"
    },
    "language_info": {
      "name": "python"
    }
  },
  "cells": [
    {
      "cell_type": "markdown",
      "source": [
        "1. The mathematical formula for a linear Support Vector Machine (SVM) can be represented as follows:\n",
        "\n",
        "Given a set of training samples (x i,y i), where x iis the feature vector and y i is the corresponding class label (−1 or +1), the goal of a linear SVM is to find the optimal hyperplane that maximizes the margin between the two classes while minimizing the classification error. The equation of the hyperplane can be expressed as:\n",
        "w⋅x+b=0\n",
        "\n",
        "Where:\n",
        "w is the weight vector perpendicular to the hyperplane.\n",
        "x is the feature vector.\n",
        "b is the bias or intercept term.\n",
        "For a binary classification problem, the class prediction for a new sample x is determined by the sign of w⋅x+b:\n",
        "\n",
        "If w⋅x+b>0, then the sample is predicted as class +1.\n",
        "If w⋅x+b<0, then the sample is predicted as class −1.\n",
        "In mathematical terms, the decision function is given by:\n",
        "f(x)=w⋅x+b\n",
        "The SVM optimization problem aims to find the values of w and b that maximize the margin between the two classes while satisfying certain constraints. This optimization problem is often formulated as a quadratic programming problem.\n",
        "The optimization objective can be stated as:\n",
        "Maximize M subject to y i(w⋅x i+b)≥M for all training samples (x i,y i)\n",
        "\n",
        "Where:\n",
        "M is the margin between the two classes.\n",
        "The SVM seeks to minimize the L2 norm of the weight vector w while satisfying the constraint that the samples are correctly classified within the margin.\n",
        "\n",
        "In practice, linear SVMs are used when the data is believed to be linearly separable, or when the data is nearly linearly separable and a simple decision boundary is desired."
      ],
      "metadata": {
        "id": "i-fIiVMm1RyB"
      }
    },
    {
      "cell_type": "markdown",
      "source": [
        "2.\n",
        "The objective function of a linear Support Vector Machine (SVM) is to find the optimal hyperplane that maximizes the margin between the two classes while minimizing the classification error. This can be formulated as an optimization problem that involves both maximizing the margin and minimizing the norm of the weight vector.\n",
        "\n",
        "Given a set of training samples (x i,y i), where x i is the feature vector and y i is the corresponding class label (−1 or +1), the objective function of a linear SVM can be mathematically expressed as follows:\n",
        "Minimize:\n",
        "1\n",
        "​/\n",
        " ∣∣w∣∣ ^2\n",
        "2\n",
        "Subject to constraints:\n",
        "y i(w⋅x i+b)≥1 for all training samples (x i,y i)\n",
        "Where:\n",
        "w is the weight vector perpendicular to the hyperplane.\n",
        "b is the bias or intercept term.\n",
        "y i is the class label of the ith training sample (−1 or +1).\n",
        "x i is the feature vector of the ith training sample.\n",
        "The first term in the objective function,\n",
        "1\n",
        "​\n",
        " ∣∣w∣∣ ^2\n",
        "2, represents the regularization term that encourages the norm of the weight vector w to be as small as possible. This helps prevent overfitting and leads to a simpler decision boundary.\n",
        "The constraints,\n",
        "y i(w⋅x i+b)≥1, ensure that the samples are correctly classified and lie outside the margin. The margin is defined by the support vectors, which are the samples that satisfy\n",
        "y i(w⋅x i+b)=1. The SVM seeks to maximize this margin while still satisfying the classification constraints.\n",
        "\n",
        "The optimization problem is often formulated as a quadratic programming problem and can be solved using various optimization algorithms. The solution provides the optimal values of w and b that define the decision boundary of the linear SVM."
      ],
      "metadata": {
        "id": "Ybrl3IF-2bQZ"
      }
    },
    {
      "cell_type": "markdown",
      "source": [
        "3. The kernel trick is a fundamental concept in Support Vector Machines (SVMs) that allows you to implicitly transform data into a higher-dimensional feature space without actually computing the transformation explicitly. This is particularly useful when dealing with non-linearly separable data. The kernel trick enables SVMs to effectively handle complex relationships between data points without the need to compute the transformed feature vectors, which could be computationally expensive.\n",
        "\n",
        "The basic idea of the kernel trick can be summarized as follows:\n",
        "\n",
        "Linearly Inseparable Data: In some cases, data points that are not linearly separable in the original feature space can become separable in a higher-dimensional space.\n",
        "\n",
        "Mapping to Higher Dimension: The kernel trick involves applying a mathematical function, called a kernel function, to the original feature vectors. This function implicitly maps the data points into a higher-dimensional space.\n",
        "\n",
        "Inner Products in Higher Dimension: Instead of computing the actual transformed feature vectors, the kernel function computes the dot product (inner product) between the transformed feature vectors in the higher-dimensional space without explicitly calculating the vectors themselves.\n",
        "\n",
        "Kernel Functions: Various types of kernel functions can be used, such as polynomial kernels, radial basis function (RBF) kernels, sigmoid kernels, and more. Each kernel captures different types of relationships between data points.\n",
        "\n",
        "Mathematically, the prediction for a new data point\n",
        "�\n",
        "x using the kernel trick is calculated as follows:\n",
        "f(x)=∑\n",
        "i=1\n",
        "to\n",
        "N\n",
        "​\n",
        " α i y iK(x i,x)+b\n",
        "\n",
        "Where:\n",
        "N is the number of support vectors.\n",
        "x i are the support vectors.\n",
        "α i are the corresponding Lagrange multipliers.\n",
        "y i are the class labels of the support vectors.\n",
        "K(x i,x) is the kernel function that computes the dot product in the higher-dimensional space.\n",
        "The kernel trick is especially beneficial in scenarios where the data's inherent structure is non-linear, but transforming the data explicitly would be computationally expensive or even impractical. By using kernel functions, SVMs can efficiently learn complex decision boundaries while still leveraging the simplicity of working in the original feature space.\n",
        "\n",
        "Common kernel functions include linear, polynomial, and RBF kernels, among others. The choice of the kernel function and its hyperparameters can significantly impact the SVM's performance and generalization ability."
      ],
      "metadata": {
        "id": "zLN8pJI036Ge"
      }
    },
    {
      "cell_type": "markdown",
      "source": [
        "4.\n",
        "Support vectors play a crucial role in Support Vector Machines (SVMs). They are the data points that are closest to the decision boundary, known as the hyperplane, and essentially determine the position and orientation of the hyperplane. Support vectors are the \"support\" for the separation of classes and have a significant influence on the SVM's behavior and performance.\n",
        "\n",
        "Let's understand the role of support vectors with an example:\n",
        "\n",
        "Suppose you have a 2D dataset with two classes, labeled as red circles and blue squares. The goal is to find a decision boundary (hyperplane) that separates the two classes as effectively as possible. The decision boundary is defined by the weights w and bias b in the equationw⋅x+b=0, where x is the feature vector.\n",
        "\n",
        "In the example dataset, the following image illustrates the situation:"
      ],
      "metadata": {
        "id": "aXK6o49a4dSz"
      }
    },
    {
      "cell_type": "code",
      "source": [
        "  +------------------------+\n",
        "  |     + +     +         |\n",
        "  |        +   +          |\n",
        "  |          +            |\n",
        "  |         +   +         |\n",
        "  |      +       +        |\n",
        "  |                        |\n",
        "  |           +   +        |\n",
        "  |            +          |\n",
        "  |     +       + +       |\n",
        "  +------------------------+\n",
        "          Class A   Class B\n"
      ],
      "metadata": {
        "id": "J1YmsYHT4peC"
      },
      "execution_count": null,
      "outputs": []
    },
    {
      "cell_type": "markdown",
      "source": [
        "Here, the support vectors are the data points that are closest to the decision boundary or fall on the margin. In this case, some of the red circles and blue squares are the support vectors because they determine the position of the separating hyperplane.\n",
        "\n",
        "The importance of support vectors can be understood through the following points:\n",
        "\n",
        "Defining the Margin: The margin is the region between the positive and negative support vectors. The support vectors that lie on the margin are crucial for determining the width of the margin. Widening the margin can lead to better generalization.\n",
        "\n",
        "Influence on Hyperplane: The position and orientation of the hyperplane are determined by the support vectors. The support vectors closest to the hyperplane have the most influence on its orientation and position.\n",
        "\n",
        "Classification and Decision Boundary: The class of a new data point is determined based on its position relative to the hyperplane. Support vectors determine how data points of each class are classified.\n",
        "\n",
        "Robustness to Outliers: SVMs are robust to outliers because they prioritize correctly classifying the support vectors, which are the most important points for defining the decision boundary."
      ],
      "metadata": {
        "id": "3pzxUEGq4sFF"
      }
    },
    {
      "cell_type": "markdown",
      "source": [
        "5. Certainly! Let's illustrate the concepts of Hyperplane, Marginal Plane, Soft Margin, and Hard Margin in SVM using examples and graphs.\n",
        "\n",
        "Example Scenario:\n",
        "Suppose we have a simple two-dimensional dataset with two classes, labeled as red circles and blue squares. We'll use this dataset to demonstrate the different SVM concepts."
      ],
      "metadata": {
        "id": "RGIUu4Rr4vHp"
      }
    },
    {
      "cell_type": "code",
      "source": [
        "  +------------------------+\n",
        "  |    +     +            |\n",
        "  |        +     +        |\n",
        "  |           +    +      |\n",
        "  |         +   +         |\n",
        "  |       +       +       |\n",
        "  |                        |\n",
        "  |           +            |\n",
        "  |               +    +   |\n",
        "  |     +       +         |\n",
        "  +------------------------+\n",
        "         Class A   Class B\n"
      ],
      "metadata": {
        "id": "UP96DxQj445F"
      },
      "execution_count": null,
      "outputs": []
    },
    {
      "cell_type": "markdown",
      "source": [
        "Hyperplane:\n",
        "The hyperplane is the decision boundary that separates the two classes. In a two-dimensional space, the hyperplane is a line. The goal is to find the hyperplane that maximizes the margin between the classes.\n",
        "\n",
        "Marginal Plane:\n",
        "The marginal plane consists of two parallel lines that run along the borders of the margin, enclosing the support vectors. It is equidistant from the hyperplane and acts as a buffer zone. The distance between the hyperplane and the marginal plane is called the margin.\n",
        "\n",
        "Hard Margin SVM:\n",
        "In a hard margin SVM, the margin is maximized, and the hyperplane is chosen so that it perfectly separates the two classes, with no data points inside the margin. Hard margin SVMs work well when the data is linearly separable and there are no outliers.\n",
        "\n",
        "Graph illustrating Hyperplane and Marginal Plane for Hard Margin SVM:"
      ],
      "metadata": {
        "id": "fWnazwg446sA"
      }
    },
    {
      "cell_type": "code",
      "source": [
        "  +------------------------+\n",
        "  |    +     +            |\n",
        "  |        +     +        |\n",
        "  |           +    +      |\n",
        "  |        |hyperplane|   |\n",
        "  |           +    +      |\n",
        "  |       +       +       |\n",
        "  |        |marginal|     |\n",
        "  |       |  plane  |     |\n",
        "  |     +       +         |\n",
        "  +------------------------+\n",
        "         Class A   Class B\n"
      ],
      "metadata": {
        "id": "ngR6k0vq49Pw"
      },
      "execution_count": null,
      "outputs": []
    },
    {
      "cell_type": "markdown",
      "source": [
        "Soft Margin SVM:\n",
        "In a soft margin SVM, some data points are allowed to fall within the margin or even on the wrong side of the margin to accommodate possible outliers or noisy data. The SVM aims to find a balance between maximizing the margin and minimizing the number of classification errors.\n",
        "\n",
        "Graph illustrating Hyperplane and Marginal Plane for Soft Margin SVM:"
      ],
      "metadata": {
        "id": "WM77Vab04_I6"
      }
    },
    {
      "cell_type": "code",
      "source": [
        "  +------------------------+\n",
        "  |                        |\n",
        "  |    +        +          |\n",
        "  |        +    +          |\n",
        "  |       |hyperplane|     |\n",
        "  |        +    +          |\n",
        "  |    +        +          |\n",
        "  |                        |\n",
        "  |        |marginal|      |\n",
        "  |       |  plane  |      |\n",
        "  +------------------------+\n",
        "         Class A   Class B\n"
      ],
      "metadata": {
        "id": "vDtlT9Y35Cdb"
      },
      "execution_count": null,
      "outputs": []
    },
    {
      "cell_type": "markdown",
      "source": [
        "In summary, the hyperplane separates classes in an SVM. The marginal plane defines the region around the hyperplane, including the margin. A hard margin SVM enforces a strict separation, while a soft margin SVM allows for some flexibility to accommodate outliers or noise. The choice between hard and soft margin depends on the nature of the data and the desired trade-off between fitting and generalization."
      ],
      "metadata": {
        "id": "xza5vC0h5EUw"
      }
    },
    {
      "cell_type": "markdown",
      "source": [
        "6.  here's an implementation of training a linear SVM classifier using the Iris dataset from scikit-learn and comparing it with the scikit-learn implementation. This example uses the Sepal Length and Sepal Width features for simplicity:"
      ],
      "metadata": {
        "id": "X6Jq_ez45G99"
      }
    },
    {
      "cell_type": "code",
      "source": [
        "import numpy as np\n",
        "import matplotlib.pyplot as plt\n",
        "from sklearn import datasets\n",
        "from sklearn.model_selection import train_test_split\n",
        "from sklearn.preprocessing import StandardScaler\n",
        "from sklearn.svm import SVC\n",
        "from sklearn.metrics import accuracy_score\n",
        "\n",
        "# Load the Iris dataset\n",
        "iris = datasets.load_iris()\n",
        "X = iris.data[:, :2]  # We'll use only the first two features (Sepal Length and Sepal Width)\n",
        "y = iris.target\n",
        "\n",
        "# Split the dataset into a training set and a testing set\n",
        "X_train, X_test, y_train, y_test = train_test_split(X, y, test_size=0.2, random_state=42)\n",
        "\n",
        "# Preprocess the data using StandardScaler\n",
        "scaler = StandardScaler()\n",
        "X_train_scaled = scaler.fit_transform(X_train)\n",
        "X_test_scaled = scaler.transform(X_test)\n",
        "\n",
        "# Train a linear SVM classifier on the training set\n",
        "C = 1.0  # Regularization parameter\n",
        "svm_classifier = SVC(kernel='linear', C=C)\n",
        "svm_classifier.fit(X_train_scaled, y_train)\n",
        "\n",
        "# Predict the labels for the testing set\n",
        "y_pred = svm_classifier.predict(X_test_scaled)\n",
        "\n",
        "# Compute the accuracy of the model\n",
        "accuracy = accuracy_score(y_test, y_pred)\n",
        "print(\"Accuracy:\", accuracy)\n",
        "\n",
        "# Plot the decision boundaries using the first two features\n",
        "x_min, x_max = X[:, 0].min() - 1, X[:, 0].max() + 1\n",
        "y_min, y_max = X[:, 1].min() - 1, X[:, 1].max() + 1\n",
        "xx, yy = np.meshgrid(np.arange(x_min, x_max, 0.02), np.arange(y_min, y_max, 0.02))\n",
        "Z = svm_classifier.predict(np.c_[xx.ravel(), yy.ravel()])\n",
        "Z = Z.reshape(xx.shape)\n",
        "\n",
        "plt.contourf(xx, yy, Z, alpha=0.8)\n",
        "plt.scatter(X[:, 0], X[:, 1], c=y, marker='o', edgecolors='k')\n",
        "plt.xlabel('Sepal Length')\n",
        "plt.ylabel('Sepal Width')\n",
        "plt.title('Decision Boundaries of Linear SVM')\n",
        "plt.show()\n"
      ],
      "metadata": {
        "id": "ryG6ckTe5MLa"
      },
      "execution_count": null,
      "outputs": []
    },
    {
      "cell_type": "markdown",
      "source": [
        "In this example, we first load the Iris dataset, split it into a training and testing set, preprocess the data using StandardScaler, and then train a linear SVM classifier using the training data. We predict the labels for the testing set and calculate the accuracy. Finally, we plot the decision boundaries using the Sepal Length and Sepal Width features."
      ],
      "metadata": {
        "id": "u4yE-t6Q5OVk"
      }
    }
  ]
}