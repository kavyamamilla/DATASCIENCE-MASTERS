{
 "cells": [
  {
   "cell_type": "markdown",
   "id": "b9038089-81ed-48d5-b905-e13c4acc6922",
   "metadata": {},
   "source": [
    "### Multiprocessing refers to the ability of a system to support more than one processor at the same time.Multiprocessing helps in performing parallel computing. There are several processors in a system, and each of them can run multiple processes simultaneously. The system's throughput will be significantly increased as a result of this. Parallel computing is performed by multiprocessing."
   ]
  },
  {
   "cell_type": "markdown",
   "id": "5e6eaf32-5f34-48ff-9908-22736f66b893",
   "metadata": {},
   "source": [
    "### In Multiprocessing, CPUs are added for increasing computing power.\tWhile In Multithreading, many threads are created of a single process for increasing computing power."
   ]
  },
  {
   "cell_type": "markdown",
   "id": "48ca4fd0-e64c-4648-83d6-55da13bf73d2",
   "metadata": {},
   "source": [
    "### In Multiprocessing, Many processes are executed simultaneously.\tWhile in multithreading, many threads of a process are executed simultaneously."
   ]
  },
  {
   "cell_type": "markdown",
   "id": "46835967-3543-4a13-88f1-b2c815774348",
   "metadata": {},
   "source": [
    "### Multiprocessing are classified into Symmetric and Asymmetric.\tWhile Multithreading is not classified in any categories."
   ]
  },
  {
   "cell_type": "markdown",
   "id": "9f7dec29-180f-4cd7-8c5f-4d1fd6163963",
   "metadata": {},
   "source": [
    "### In Multiprocessing, Process creation is a time-consuming process.\tWhile in Multithreading, process creation is according to economical."
   ]
  },
  {
   "cell_type": "markdown",
   "id": "222e39a2-b9ec-420a-a8e9-d4cc0b6b4fdd",
   "metadata": {},
   "source": [
    "### In Multiprocessing, every process owned a separate address space.\tWhile in Multithreading, a common address space is shared by all the threads."
   ]
  },
  {
   "cell_type": "code",
   "execution_count": 1,
   "id": "1e659471-e6af-4ce4-8a19-54516bbe0d0d",
   "metadata": {},
   "outputs": [
    {
     "name": "stdout",
     "output_type": "stream",
     "text": [
      "Square: 100\n",
      "Cube: 1000\n"
     ]
    }
   ],
   "source": [
    "import multiprocessing\n",
    "  \n",
    "def print_cube(num):\n",
    "    print(\"Cube: {}\".format(num * num * num))\n",
    "  \n",
    "def print_square(num):\n",
    "    print(\"Square: {}\".format(num * num))\n",
    "if __name__ == \"__main__\":\n",
    "    p1 = multiprocessing.Process(target=print_square, args=(10, ))\n",
    "    p2 = multiprocessing.Process(target=print_cube, args=(10, ))\n",
    "    p1.start()\n",
    "    p2.start()\n",
    "    p1.join()\n",
    "    p2.join()"
   ]
  },
  {
   "cell_type": "markdown",
   "id": "58ac9726-911f-4502-a628-fea445197dbd",
   "metadata": {},
   "source": [
    "### The Pool class represents a pool of worker processes. It has methods which allows tasks to be offloaded to the worker processes in a few different ways..Python multiprocessing Pool can be used for parallel execution of a function across multiple input values, distributing the input data across processes (data parallelism). "
   ]
  },
  {
   "cell_type": "code",
   "execution_count": 3,
   "id": "d12ffa14-56fe-4dbc-baab-086521bdf79e",
   "metadata": {},
   "outputs": [],
   "source": [
    "pool = multiprocessing.Pool(processes=4)"
   ]
  },
  {
   "cell_type": "code",
   "execution_count": 4,
   "id": "cb78f6a2-72d6-4761-86f2-79bd75e65d7d",
   "metadata": {},
   "outputs": [
    {
     "name": "stdout",
     "output_type": "stream",
     "text": [
      "<multiprocessing.pool.Pool state=RUN pool_size=4>\n"
     ]
    }
   ],
   "source": [
    "print(pool)"
   ]
  },
  {
   "cell_type": "code",
   "execution_count": 5,
   "id": "2f068e33-40f0-4ea1-ba38-3ded2265d0c8",
   "metadata": {},
   "outputs": [
    {
     "name": "stdout",
     "output_type": "stream",
     "text": [
      "start process 0start process 1start process 3start process 2start process 4\n",
      "\n",
      "\n",
      "\n",
      "\n",
      "end process 0end process 1end process 3end process 2\n",
      "\n",
      "end process 4\n",
      "[0, 1, 4, 9, 16]\n",
      "\n",
      "\n"
     ]
    }
   ],
   "source": [
    "import time\n",
    "from multiprocessing import Pool\n",
    "def square(x):\n",
    "    print(f\"start process {x}\")\n",
    "    square = x * x\n",
    "    time.sleep(1)\n",
    "    print(f\"end process {x}\")\n",
    "    return square\n",
    "if __name__ == \"__main__\":\n",
    "    pool = Pool()\n",
    "    a = pool.map(square, range(0, 5))\n",
    "    print(a)"
   ]
  },
  {
   "cell_type": "code",
   "execution_count": null,
   "id": "970ea44b-8490-4637-bf14-159ebcbd3b85",
   "metadata": {},
   "outputs": [],
   "source": [
    "from multiprocessing import Pool\n",
    "def f(x):\n",
    "    return x*x\n",
    "with Pool(5) as p:\n",
    "    print(p.map(f,[1,2,3,4]))"
   ]
  }
 ],
 "metadata": {
  "kernelspec": {
   "display_name": "Python 3 (ipykernel)",
   "language": "python",
   "name": "python3"
  },
  "language_info": {
   "codemirror_mode": {
    "name": "ipython",
    "version": 3
   },
   "file_extension": ".py",
   "mimetype": "text/x-python",
   "name": "python",
   "nbconvert_exporter": "python",
   "pygments_lexer": "ipython3",
   "version": "3.10.8"
  }
 },
 "nbformat": 4,
 "nbformat_minor": 5
}
