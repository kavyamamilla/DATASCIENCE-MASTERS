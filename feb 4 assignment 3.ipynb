{
 "cells": [
  {
   "cell_type": "code",
   "execution_count": 1,
   "id": "dc8997c7-5edf-4244-9824-6826e8cbba0b",
   "metadata": {},
   "outputs": [],
   "source": [
    "def test1():\n",
    "    l=[('Sachin Tendulkar', 34357), ('Ricky Ponting', 27483), ('Jack Kallis', 25534), ('Virat Kohli', 24936)]\n",
    "    newList=sorted(l,key=lambda x: x[1])\n",
    "    print(newList)"
   ]
  },
  {
   "cell_type": "code",
   "execution_count": 2,
   "id": "4c01fbf1-4d29-4d12-9045-c7f9d965d7a2",
   "metadata": {},
   "outputs": [
    {
     "name": "stdout",
     "output_type": "stream",
     "text": [
      "[('Virat Kohli', 24936), ('Jack Kallis', 25534), ('Ricky Ponting', 27483), ('Sachin Tendulkar', 34357)]\n"
     ]
    }
   ],
   "source": [
    "test1()"
   ]
  },
  {
   "cell_type": "code",
   "execution_count": 11,
   "id": "24e4bf0a-f7e0-471b-bbbe-abe7db4495ac",
   "metadata": {},
   "outputs": [],
   "source": [
    "def test2():\n",
    "    l=[1, 2, 3, 4, 5, 6, 7, 8, 9, 10]\n",
    "    newList=list(map(lambda x : x*x , l))\n",
    "    print(newList)"
   ]
  },
  {
   "cell_type": "code",
   "execution_count": 12,
   "id": "0b69fafd-6c2e-4959-bec8-3edfe13524cf",
   "metadata": {},
   "outputs": [
    {
     "name": "stdout",
     "output_type": "stream",
     "text": [
      "[1, 4, 9, 16, 25, 36, 49, 64, 81, 100]\n"
     ]
    }
   ],
   "source": [
    "test2()"
   ]
  },
  {
   "cell_type": "code",
   "execution_count": 24,
   "id": "b4539458-dbb0-49ff-b5a9-6575c70204da",
   "metadata": {},
   "outputs": [],
   "source": [
    "def test3():\n",
    "    l= [1, 2, 3, 4, 5, 6, 7, 8, 9, 10]\n",
    "    newList=tuple(map(lambda x : str(x),l))\n",
    "    print(newList)                   "
   ]
  },
  {
   "cell_type": "code",
   "execution_count": 25,
   "id": "e03bebe2-68ff-4a76-a6f8-1e48bdf38370",
   "metadata": {},
   "outputs": [
    {
     "name": "stdout",
     "output_type": "stream",
     "text": [
      "('1', '2', '3', '4', '5', '6', '7', '8', '9', '10')\n"
     ]
    }
   ],
   "source": [
    "test3()"
   ]
  },
  {
   "cell_type": "code",
   "execution_count": 28,
   "id": "e5359e80-a8d4-47df-a13b-aaf8cb560486",
   "metadata": {},
   "outputs": [],
   "source": [
    "from functools import  reduce"
   ]
  },
  {
   "cell_type": "code",
   "execution_count": 45,
   "id": "00d73c15-3ff3-4bdf-8304-288978dac38c",
   "metadata": {},
   "outputs": [],
   "source": [
    "def test4():\n",
    "    l=list(range(1,25))\n",
    "    a=reduce(lambda x , y : x*y , l)\n",
    "    print(a)"
   ]
  },
  {
   "cell_type": "code",
   "execution_count": 46,
   "id": "0bccdd0a-e22a-4f5e-88d4-79672ebade95",
   "metadata": {},
   "outputs": [
    {
     "name": "stdout",
     "output_type": "stream",
     "text": [
      "620448401733239439360000\n"
     ]
    }
   ],
   "source": [
    "test4()"
   ]
  },
  {
   "cell_type": "code",
   "execution_count": 50,
   "id": "65c23d40-2624-4cba-a2d2-1b40d0bf1366",
   "metadata": {},
   "outputs": [],
   "source": [
    "def test5():\n",
    "    l=[2, 3, 6, 9, 27, 60, 90, 120, 55, 46]\n",
    "    a=list(filter(lambda x : ((x%2==0) & (x%3==0)) , l))\n",
    "    print(a) "
   ]
  },
  {
   "cell_type": "code",
   "execution_count": 51,
   "id": "f906e5d2-e87c-4c8d-85cb-55e9c7efe1ec",
   "metadata": {},
   "outputs": [
    {
     "name": "stdout",
     "output_type": "stream",
     "text": [
      "[6, 60, 90, 120]\n"
     ]
    }
   ],
   "source": [
    "test5()"
   ]
  },
  {
   "cell_type": "code",
   "execution_count": 52,
   "id": "15582aa9-6814-43ac-bba0-6874dcff88a3",
   "metadata": {},
   "outputs": [],
   "source": [
    "def test6():\n",
    "    l=['python', 'php', 'aba', 'radar', 'level']\n",
    "    a=list(filter(lambda x: (x==\"\".join(reversed(x))),l))\n",
    "    print(a)"
   ]
  },
  {
   "cell_type": "code",
   "execution_count": 53,
   "id": "66267189-b101-41ba-af6d-3232fa03874c",
   "metadata": {},
   "outputs": [
    {
     "name": "stdout",
     "output_type": "stream",
     "text": [
      "['php', 'aba', 'radar', 'level']\n"
     ]
    }
   ],
   "source": [
    "test6()"
   ]
  },
  {
   "cell_type": "code",
   "execution_count": null,
   "id": "7863543b-83e2-4478-bd7b-d8dc06513ef3",
   "metadata": {},
   "outputs": [],
   "source": []
  }
 ],
 "metadata": {
  "kernelspec": {
   "display_name": "Python 3 (ipykernel)",
   "language": "python",
   "name": "python3"
  },
  "language_info": {
   "codemirror_mode": {
    "name": "ipython",
    "version": 3
   },
   "file_extension": ".py",
   "mimetype": "text/x-python",
   "name": "python",
   "nbconvert_exporter": "python",
   "pygments_lexer": "ipython3",
   "version": "3.10.8"
  }
 },
 "nbformat": 4,
 "nbformat_minor": 5
}
