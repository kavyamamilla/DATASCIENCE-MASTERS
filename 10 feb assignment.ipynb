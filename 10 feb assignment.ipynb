{
 "cells": [
  {
   "cell_type": "markdown",
   "id": "deedfc78-61d7-4a17-9906-103f70ddd9d2",
   "metadata": {},
   "source": [
    "### open() method is used to open a file.In 'r' mode,the file opens in the read mode.In 'w' mode,the file opens in write mode.In the 'a' mode,the file opens in append mode.In the 'r+' mode,the file opens in the read & write mode.In 'w+' mode,the file in the read & write mode & remove existing content.In the 'a+' mode,the file opens in the read & append mode.It doesn't remove existing content & if the file doesn't exist,it creates new one."
   ]
  },
  {
   "cell_type": "code",
   "execution_count": 69,
   "id": "b0e4aaf5-b815-4a7d-8aa2-bfff85c88047",
   "metadata": {},
   "outputs": [],
   "source": [
    "f = open(\"test.txt\" ,'a' )"
   ]
  },
  {
   "cell_type": "code",
   "execution_count": 70,
   "id": "12100f6a-492e-4982-a3d6-da901ce3b559",
   "metadata": {},
   "outputs": [
    {
     "data": {
      "text/plain": [
       "'/home/jovyan/work'"
      ]
     },
     "execution_count": 70,
     "metadata": {},
     "output_type": "execute_result"
    }
   ],
   "source": [
    "pwd"
   ]
  },
  {
   "cell_type": "code",
   "execution_count": 71,
   "id": "17ce3275-1b92-42eb-ab0b-edba669583f5",
   "metadata": {},
   "outputs": [
    {
     "name": "stdout",
     "output_type": "stream",
     "text": [
      "new-workspace.jupyterlab-workspace  Untitled1.ipynb  Untitled5.ipynb\n",
      "README.md                           Untitled2.ipynb  Untitled.ipynb\n",
      "sample-code.ipynb                   Untitled3.ipynb\n",
      "test.txt                            Untitled4.ipynb\n"
     ]
    }
   ],
   "source": [
    "ls"
   ]
  },
  {
   "cell_type": "code",
   "execution_count": 72,
   "id": "493a1ebe-ffa3-46d7-9310-5b7803609eb2",
   "metadata": {},
   "outputs": [],
   "source": [
    "f=open(\"test.txt\",'w')\n",
    "f.write(\"This is my first line\\n\")\n",
    "f.write(\"This is my second line\")\n",
    "f.close()"
   ]
  },
  {
   "cell_type": "code",
   "execution_count": 73,
   "id": "e0e74532-0599-465c-a6db-4e1eae484c01",
   "metadata": {},
   "outputs": [
    {
     "name": "stdout",
     "output_type": "stream",
     "text": [
      "This is my first line\n",
      "This is my second line\n"
     ]
    }
   ],
   "source": [
    "f=open(\"test.txt\",'r')\n",
    "print(f.read())\n",
    "f.close()"
   ]
  },
  {
   "cell_type": "code",
   "execution_count": 74,
   "id": "657a0fe5-fa90-41d5-b6e6-8f482ffc0df1",
   "metadata": {},
   "outputs": [],
   "source": [
    "f=open(\"test.txt\",'a')\n",
    "f.write(\"\\nThis is my third line\")\n",
    "f.close()"
   ]
  },
  {
   "cell_type": "code",
   "execution_count": 2,
   "id": "31b7be45-3622-4a93-8f8c-7b31f5542344",
   "metadata": {},
   "outputs": [
    {
     "name": "stdout",
     "output_type": "stream",
     "text": [
      "This is my first line\n",
      "This is my second line\n",
      "This is my third line\n",
      "line\n"
     ]
    }
   ],
   "source": [
    "with open(\"test.txt\",'r+') as f:\n",
    "    print(f.read())\n",
    "    f.write(\"\\nline\")"
   ]
  },
  {
   "cell_type": "code",
   "execution_count": 12,
   "id": "0576b19e-7129-4916-a1ed-64c42670137b",
   "metadata": {},
   "outputs": [
    {
     "name": "stdout",
     "output_type": "stream",
     "text": [
      "1234\n"
     ]
    }
   ],
   "source": [
    "with open(\"test.txt\",'w+') as f:\n",
    "    f.write(\"12\")\n",
    "    f.write(\"34\")\n",
    "    f.seek(0)\n",
    "    lines=f.read()\n",
    "    print(lines)"
   ]
  },
  {
   "cell_type": "code",
   "execution_count": 14,
   "id": "1ba2f617-b581-41d3-b3f2-3f9113bb6e5a",
   "metadata": {},
   "outputs": [
    {
     "name": "stdout",
     "output_type": "stream",
     "text": [
      "\n"
     ]
    }
   ],
   "source": [
    "with open(\"test.txt\",'a+') as f:\n",
    "    f.seek(0)\n",
    "    lines=f.readlines()\n",
    "    f.write(\"\\n\"+str(len(lines)))\n",
    "    print(f.read())"
   ]
  },
  {
   "cell_type": "markdown",
   "id": "3789b4fb-433a-4284-aac7-c39895cfff28",
   "metadata": {},
   "source": [
    "### The close() method closes an open file.We should always close a file.In some cases,due to buffering,changes made to a file may not show until we close the file."
   ]
  },
  {
   "cell_type": "code",
   "execution_count": 75,
   "id": "2961dd0a-0b19-445c-a4ea-4446770497d1",
   "metadata": {},
   "outputs": [],
   "source": [
    "f=open(\"new.txt\",'a')\n",
    "f.write(\"I want to become a Data Scientist\")\n",
    "f.close()"
   ]
  },
  {
   "cell_type": "code",
   "execution_count": 79,
   "id": "202d704a-49e3-420f-88ba-896da0e195b5",
   "metadata": {},
   "outputs": [
    {
     "name": "stdout",
     "output_type": "stream",
     "text": [
      "I want to become a Data Scientist\n"
     ]
    }
   ],
   "source": [
    "f=open(\"new.txt\",'r')\n",
    "print(f.read())\n",
    "f.close()"
   ]
  },
  {
   "cell_type": "markdown",
   "id": "a8f4221e-38d8-424b-9338-09987c553416",
   "metadata": {},
   "source": [
    "### Benefits of calling open() using \"with statement\" as it reduces the number of lines of code and reduces the chances of bug.When we use \"with statement\" with open() function,an execution block started and the file object returned by open() function is assigned to file_object.When this execution block of \"with statement\" end,then the file object's close function gets called automatically,and the file will be closed gracefully."
   ]
  },
  {
   "cell_type": "markdown",
   "id": "2b581a00-257b-4887-b5dc-65f497745515",
   "metadata": {},
   "source": [
    "### write() function will write the content in the file without adding any extra characters.writelines() function writes the content of a list to a file."
   ]
  },
  {
   "cell_type": "code",
   "execution_count": 82,
   "id": "bb5d15da-72f6-4334-8540-b89adea665ec",
   "metadata": {},
   "outputs": [
    {
     "name": "stdout",
     "output_type": "stream",
     "text": [
      "This is my first line\n",
      "This is my second line\n"
     ]
    }
   ],
   "source": [
    "f=open(\"test.txt\",'w')\n",
    "f.write(\"This is my first line\\n\")\n",
    "f.write(\"This is my second line\")\n",
    "f.close()\n",
    "f=open(\"test.txt\",'r')\n",
    "print(f.read())"
   ]
  },
  {
   "cell_type": "code",
   "execution_count": 2,
   "id": "554f2da5-3f7e-46d4-bf3d-ca5123704914",
   "metadata": {},
   "outputs": [
    {
     "name": "stdout",
     "output_type": "stream",
     "text": [
      "This is my first line\n",
      "This is my second line\n",
      "This is my third lineab\n"
     ]
    }
   ],
   "source": [
    "f=open(\"test.txt\",'a')\n",
    "f.writelines([\"a\",\"b\"])\n",
    "f.close()\n",
    "f=open(\"test.txt\",'r')\n",
    "print(f.read())"
   ]
  }
 ],
 "metadata": {
  "kernelspec": {
   "display_name": "Python 3 (ipykernel)",
   "language": "python",
   "name": "python3"
  },
  "language_info": {
   "codemirror_mode": {
    "name": "ipython",
    "version": 3
   },
   "file_extension": ".py",
   "mimetype": "text/x-python",
   "name": "python",
   "nbconvert_exporter": "python",
   "pygments_lexer": "ipython3",
   "version": "3.10.8"
  }
 },
 "nbformat": 4,
 "nbformat_minor": 5
}
