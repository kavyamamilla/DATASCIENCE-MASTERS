{
 "cells": [
  {
   "cell_type": "markdown",
   "id": "84bb08fe-fee9-45b6-9754-b8d5dc741351",
   "metadata": {},
   "source": [
    "### Measures of central tendency are mean,median,mode."
   ]
  },
  {
   "cell_type": "markdown",
   "id": "5e00ce24-1fb8-4f31-bc00-757bffa19827",
   "metadata": {},
   "source": [
    "### Mean - Sum of all measurements divided by the number of observations."
   ]
  },
  {
   "cell_type": "markdown",
   "id": "3a430a4a-43b1-4c18-9b89-d2e6948f237f",
   "metadata": {},
   "source": [
    "### Mode - The most frequent value.It shows most popular option and is the highest bar in histogram."
   ]
  },
  {
   "cell_type": "markdown",
   "id": "123f2600-a4c5-482d-bfc4-61f422427be7",
   "metadata": {},
   "source": [
    "### Median - Numbers are arranged in either ascending or descending order,middle number is taken i.e., if two numbers is present at the middle, their mean is taken.It seperates higher half from the lower half."
   ]
  },
  {
   "cell_type": "code",
   "execution_count": 1,
   "id": "c0d26e02-ad5c-4e3a-94eb-9f85bba3ae97",
   "metadata": {},
   "outputs": [],
   "source": [
    "import numpy as np"
   ]
  },
  {
   "cell_type": "code",
   "execution_count": 2,
   "id": "a0ac4144-4bd3-49d9-8a7c-e83468021e68",
   "metadata": {},
   "outputs": [],
   "source": [
    "a=[178,177,176,177,178.2,178,175,179,180,175,178.9,176.2,177,172.5,178,176.5]"
   ]
  },
  {
   "cell_type": "code",
   "execution_count": 3,
   "id": "b1cde06e-ba77-40fe-ad27-4a393ef52b41",
   "metadata": {},
   "outputs": [
    {
     "data": {
      "text/plain": [
       "177.01875"
      ]
     },
     "execution_count": 3,
     "metadata": {},
     "output_type": "execute_result"
    }
   ],
   "source": [
    "np.mean(a)"
   ]
  },
  {
   "cell_type": "code",
   "execution_count": 4,
   "id": "150731d8-64fb-40fd-b3e1-0167be6a263c",
   "metadata": {},
   "outputs": [
    {
     "data": {
      "text/plain": [
       "177.0"
      ]
     },
     "execution_count": 4,
     "metadata": {},
     "output_type": "execute_result"
    }
   ],
   "source": [
    "np.median(a)"
   ]
  },
  {
   "cell_type": "code",
   "execution_count": 6,
   "id": "33accc52-6886-4700-a5ae-73498e075f87",
   "metadata": {},
   "outputs": [],
   "source": [
    "from scipy import stats"
   ]
  },
  {
   "cell_type": "code",
   "execution_count": 7,
   "id": "fe113288-e619-4a14-9a67-a99515827c82",
   "metadata": {},
   "outputs": [
    {
     "name": "stderr",
     "output_type": "stream",
     "text": [
      "/tmp/ipykernel_2342/2714317682.py:1: FutureWarning: Unlike other reduction functions (e.g. `skew`, `kurtosis`), the default behavior of `mode` typically preserves the axis it acts along. In SciPy 1.11.0, this behavior will change: the default value of `keepdims` will become False, the `axis` over which the statistic is taken will be eliminated, and the value None will no longer be accepted. Set `keepdims` to True or False to avoid this warning.\n",
      "  stats.mode(a)\n"
     ]
    },
    {
     "data": {
      "text/plain": [
       "ModeResult(mode=array([177.]), count=array([3]))"
      ]
     },
     "execution_count": 7,
     "metadata": {},
     "output_type": "execute_result"
    }
   ],
   "source": [
    "stats.mode(a)"
   ]
  },
  {
   "cell_type": "code",
   "execution_count": 8,
   "id": "71ee47dd-5b21-477f-b481-9f92a3286559",
   "metadata": {},
   "outputs": [
    {
     "data": {
      "text/plain": [
       "1.7885814036548633"
      ]
     },
     "execution_count": 8,
     "metadata": {},
     "output_type": "execute_result"
    }
   ],
   "source": [
    "np.std(a)"
   ]
  },
  {
   "cell_type": "markdown",
   "id": "6d2905e1-0959-498c-9ffe-24ea37851c1a",
   "metadata": {},
   "source": [
    "### Standard deviation - It is oonly used for the data that is normally distributed.It indicates how much a set of vaue is spread around the average.It is the square root of variance."
   ]
  },
  {
   "cell_type": "markdown",
   "id": "883d4830-6715-40e5-8880-cc8536889474",
   "metadata": {},
   "source": [
    "### Range - It is the length of the smallest interval which contains all the data and is calculated by subtracting the smallest observation from the greatest and provides an indication of statistical dispersion."
   ]
  },
  {
   "cell_type": "markdown",
   "id": "3c2e9906-91f3-4bf0-88f6-61fda2f73943",
   "metadata": {},
   "source": [
    "### Variance - It describes how far the numbers lie from the mean.It is the square of standard deviation."
   ]
  },
  {
   "cell_type": "code",
   "execution_count": 9,
   "id": "2a97862d-16e0-476b-bc61-4a198fd3eca0",
   "metadata": {},
   "outputs": [
    {
     "data": {
      "text/plain": [
       "3.199023437500001"
      ]
     },
     "execution_count": 9,
     "metadata": {},
     "output_type": "execute_result"
    }
   ],
   "source": [
    "np.var(a)"
   ]
  },
  {
   "cell_type": "markdown",
   "id": "77d289b3-36d1-4107-a3ad-0f987cea8376",
   "metadata": {},
   "source": [
    "### Venn diagram : It shows relation between two are more sets in circular representation."
   ]
  },
  {
   "cell_type": "code",
   "execution_count": 14,
   "id": "c853bfc8-e219-4b7b-b96a-1a92deba7b6d",
   "metadata": {},
   "outputs": [
    {
     "name": "stdout",
     "output_type": "stream",
     "text": [
      "[2 6]\n"
     ]
    }
   ],
   "source": [
    "A= np.array([2,3,4,5,6,7])\n",
    "B = np.array([0,2,6,8,10])\n",
    "intersection=np.intersect1d(A,B)\n",
    "print(intersection)"
   ]
  },
  {
   "cell_type": "code",
   "execution_count": 15,
   "id": "e6f0d15b-8f94-4fe3-a3cc-ffd6c0329ca6",
   "metadata": {},
   "outputs": [
    {
     "name": "stdout",
     "output_type": "stream",
     "text": [
      "[ 0  2  3  4  5  6  7  8 10]\n"
     ]
    }
   ],
   "source": [
    "A= np.array([2,3,4,5,6,7])\n",
    "B = np.array([0,2,6,8,10])\n",
    "union=np.union1d(A,B)\n",
    "print(union)"
   ]
  },
  {
   "cell_type": "markdown",
   "id": "7c23307a-bf48-4bc8-aa8e-5212f40aa423",
   "metadata": {},
   "source": [
    "### Skewness is a measurement of the distortion of symmetrical distribution or asymmetry in a data set.Pearson's first coefficient of skewness  subtracts the mode from the mean and divides the difference by the standard deviation.Pearson's second coefficient subtracts the median from the mean,multiplies the difference by three,and divides the product by the standard deviation."
   ]
  },
  {
   "cell_type": "markdown",
   "id": "177719a6-3efb-4b4c-8da6-0b7f4e38e57c",
   "metadata": {},
   "source": [
    "### If data is skewed to thr right,the mode is often less than the median,which is less tha the mean."
   ]
  },
  {
   "cell_type": "markdown",
   "id": "2e969092-496d-4583-a6f2-8d7e592c721b",
   "metadata": {},
   "source": [
    "### Correlation is a statistical measure that indicates how strongly two variables are related.Covariance is an indicator of the extent to which 2 random variables are dependent on each other. A higher number denotes higher dependency."
   ]
  },
  {
   "cell_type": "markdown",
   "id": "647cc55a-5432-45f4-b461-be387df98684",
   "metadata": {},
   "source": [
    "### The value of covariance lies in the range of -∞ and +∞.Correlation is limited to values between the range -1 and +1"
   ]
  },
  {
   "cell_type": "markdown",
   "id": "62b11f0f-a599-42e6-ac68-7dde4e072927",
   "metadata": {},
   "source": [
    "### Change in scale - Affects covariance ,does not affect the correlation"
   ]
  },
  {
   "cell_type": "markdown",
   "id": "55e2633f-85b5-4cc7-91c6-984d42fba16e",
   "metadata": {},
   "source": [
    "### Unit-free measure - No (covariance) , yes(correlation)"
   ]
  },
  {
   "cell_type": "markdown",
   "id": "a1db1b1f-fa8f-42c9-b815-74ce7242843d",
   "metadata": {},
   "source": [
    "### Correlation and Covariance both measure only the linear relationships between two variables. This means that when the correlation coefficient is zero, the covariance is also zero. Both correlation and covariance measures are also unaffected by the change in location."
   ]
  },
  {
   "cell_type": "code",
   "execution_count": 22,
   "id": "063844aa-c636-484c-982f-d46f768eb33d",
   "metadata": {},
   "outputs": [
    {
     "name": "stdout",
     "output_type": "stream",
     "text": [
      "[2, 3, 4, 5, 6, 7]\n",
      "[0, 2, 6, 8, 10, 11]\n",
      "8.1\n",
      "0.9838379207673427\n"
     ]
    }
   ],
   "source": [
    "A= [2,3,4,5,6,7]\n",
    "B = [0,2,6,8,10,11]\n",
    "print(A)\n",
    "print(B)\n",
    "c=np.cov(A,B)[0][1]\n",
    "print(c)\n",
    "d=np.corrcoef(A,B)[0,1]\n",
    "print(d)"
   ]
  },
  {
   "cell_type": "markdown",
   "id": "a4095ba2-da87-476c-b001-b0aa84b87be0",
   "metadata": {},
   "source": [
    "### Mean= summation 1 to N Xi/N"
   ]
  },
  {
   "cell_type": "code",
   "execution_count": 23,
   "id": "60ef848e-4ec8-4026-8011-ce8f20082db3",
   "metadata": {},
   "outputs": [
    {
     "data": {
      "text/plain": [
       "2.5"
      ]
     },
     "execution_count": 23,
     "metadata": {},
     "output_type": "execute_result"
    }
   ],
   "source": [
    "a=[1,2,3,4]\n",
    "np.mean(a)"
   ]
  },
  {
   "cell_type": "markdown",
   "id": "0dd04e98-3594-4b96-8cc6-aad835f5c125",
   "metadata": {},
   "source": [
    "### Mean of a = 1+2+3+4/4=2.5"
   ]
  },
  {
   "cell_type": "markdown",
   "id": "8bdb2414-55df-4832-9646-7fa4c3c3c3b3",
   "metadata": {},
   "source": [
    "### Any normal distribution has a graph that is perfectly symmetric about a vertical line through its peak. Therefore, all measures of central tendency (most commonly, the mean, median, and mode) give the same answer: the x-value of the peak."
   ]
  },
  {
   "cell_type": "markdown",
   "id": "4eced254-32d8-44fd-886b-cfccd528d5f3",
   "metadata": {},
   "source": [
    "### Covariance is an indicator of how two random variables change concerning each other. Correlation, on the other hand, measures the strength of this relationship. The correlation value is bound to the upper by +1 and the lower by -1. Thus, it is a definite range. However, the range of covariance is indefinite. It can take any positive or negative value (theoretically, the range is -∞ to +∞). You can rest assured that a correlation of .5 is greater than .3, and the first set of numbers (with a correlation of .5) are more dependent on each other than the second set (with a correlation of .3). Interpreting such a result would be tough from covariance calculations."
   ]
  },
  {
   "cell_type": "markdown",
   "id": "df531893-de2d-4828-9fe8-5bbcc669664e",
   "metadata": {},
   "source": [
    "### Outliers are numbers in a data set that are vastly larger or smaller than the other values in the set. Mean, median and mode are measures of central tendency. Mean is the only measure of central tendency that is always affected by an outlier."
   ]
  },
  {
   "cell_type": "code",
   "execution_count": 26,
   "id": "fb1c370a-1c6f-4103-8629-dc607cbf1606",
   "metadata": {},
   "outputs": [
    {
     "name": "stdout",
     "output_type": "stream",
     "text": [
      "77.0\n"
     ]
    },
    {
     "data": {
      "text/plain": [
       "87.5"
      ]
     },
     "execution_count": 26,
     "metadata": {},
     "output_type": "execute_result"
    }
   ],
   "source": [
    "a=[0, 70, 70, 80, 85, 90, 90, 90, 95, 100]\n",
    "print(np.mean(a))\n",
    "np.median(a)"
   ]
  },
  {
   "cell_type": "code",
   "execution_count": 27,
   "id": "80eced18-da48-4e40-8f03-2abc13d1ce9a",
   "metadata": {},
   "outputs": [
    {
     "name": "stderr",
     "output_type": "stream",
     "text": [
      "/tmp/ipykernel_2342/2714317682.py:1: FutureWarning: Unlike other reduction functions (e.g. `skew`, `kurtosis`), the default behavior of `mode` typically preserves the axis it acts along. In SciPy 1.11.0, this behavior will change: the default value of `keepdims` will become False, the `axis` over which the statistic is taken will be eliminated, and the value None will no longer be accepted. Set `keepdims` to True or False to avoid this warning.\n",
      "  stats.mode(a)\n"
     ]
    },
    {
     "data": {
      "text/plain": [
       "ModeResult(mode=array([90]), count=array([3]))"
      ]
     },
     "execution_count": 27,
     "metadata": {},
     "output_type": "execute_result"
    }
   ],
   "source": [
    "stats.mode(a)"
   ]
  },
  {
   "cell_type": "code",
   "execution_count": null,
   "id": "eb3430ed-6c82-4702-b487-761eb9f7b740",
   "metadata": {},
   "outputs": [],
   "source": [
    "### For the above example outlier=0 ,"
   ]
  }
 ],
 "metadata": {
  "kernelspec": {
   "display_name": "Python 3 (ipykernel)",
   "language": "python",
   "name": "python3"
  },
  "language_info": {
   "codemirror_mode": {
    "name": "ipython",
    "version": 3
   },
   "file_extension": ".py",
   "mimetype": "text/x-python",
   "name": "python",
   "nbconvert_exporter": "python",
   "pygments_lexer": "ipython3",
   "version": "3.10.8"
  }
 },
 "nbformat": 4,
 "nbformat_minor": 5
}
