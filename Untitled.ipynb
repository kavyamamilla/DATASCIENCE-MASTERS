{
 "cells": [
  {
   "cell_type": "markdown",
   "id": "0af032d0-6f3c-4bf2-86de-f3ca20691db9",
   "metadata": {},
   "source": [
    "# CHARACTERISTICS OF TUPLES"
   ]
  },
  {
   "cell_type": "markdown",
   "id": "78d76c20-277d-46ba-93b4-e3536f00f4b5",
   "metadata": {},
   "source": [
    "### Tuples are indexed"
   ]
  },
  {
   "cell_type": "code",
   "execution_count": 3,
   "id": "f2e8a672-8e63-4a29-8e90-578c00c5807f",
   "metadata": {},
   "outputs": [],
   "source": [
    "t=(1,2,3,4)"
   ]
  },
  {
   "cell_type": "code",
   "execution_count": 9,
   "id": "40b9f5e4-1dd6-4baf-8dab-b635b846e89c",
   "metadata": {},
   "outputs": [
    {
     "name": "stdout",
     "output_type": "stream",
     "text": [
      "0 = 1\n",
      "1 = 2\n",
      "2 = 3\n",
      "3 = 4\n"
     ]
    }
   ],
   "source": [
    "for i in range (len(t)):\n",
    "    print(i,\"=\",t[i])"
   ]
  },
  {
   "cell_type": "markdown",
   "id": "2bc7b82d-fa21-412f-94f1-167971bcbbaf",
   "metadata": {},
   "source": [
    "### Tuples are ordered"
   ]
  },
  {
   "cell_type": "code",
   "execution_count": 15,
   "id": "0950cafe-39ac-427c-9b8f-9ea09c73d839",
   "metadata": {},
   "outputs": [
    {
     "name": "stdout",
     "output_type": "stream",
     "text": [
      "(1, 5, 6, 4, 7, 8, 9)\n"
     ]
    }
   ],
   "source": [
    "t=(1,5,6,4,7,8,9)\n",
    "print(t)"
   ]
  },
  {
   "cell_type": "markdown",
   "id": "a242f18d-62ca-4771-aacc-c6f68b7dd8a4",
   "metadata": {},
   "source": [
    "### Tuples are immutable"
   ]
  },
  {
   "cell_type": "code",
   "execution_count": 16,
   "id": "a829c6ec-b1d7-4905-b0c7-99fb24217cc2",
   "metadata": {},
   "outputs": [
    {
     "name": "stdout",
     "output_type": "stream",
     "text": [
      "(1, 2, 3)\n"
     ]
    }
   ],
   "source": [
    "t=(1,2,3)\n",
    "print(t)"
   ]
  },
  {
   "cell_type": "code",
   "execution_count": 17,
   "id": "6fa913a8-d011-430c-b779-4182941193c1",
   "metadata": {},
   "outputs": [
    {
     "ename": "TypeError",
     "evalue": "'tuple' object does not support item assignment",
     "output_type": "error",
     "traceback": [
      "\u001b[0;31m---------------------------------------------------------------------------\u001b[0m",
      "\u001b[0;31mTypeError\u001b[0m                                 Traceback (most recent call last)",
      "Cell \u001b[0;32mIn[17], line 1\u001b[0m\n\u001b[0;32m----> 1\u001b[0m \u001b[43mt\u001b[49m\u001b[43m[\u001b[49m\u001b[38;5;241;43m0\u001b[39;49m\u001b[43m]\u001b[49m\u001b[38;5;241m=\u001b[39m\u001b[38;5;241m1\u001b[39m\n\u001b[1;32m      2\u001b[0m \u001b[38;5;28mprint\u001b[39m(t)\n",
      "\u001b[0;31mTypeError\u001b[0m: 'tuple' object does not support item assignment"
     ]
    }
   ],
   "source": [
    "t[0]=1\n",
    "print(t)"
   ]
  },
  {
   "cell_type": "markdown",
   "id": "1eb5896b-9caa-4184-9803-9c00a4a9d009",
   "metadata": {},
   "source": [
    "### Tuples allow duplicate values"
   ]
  },
  {
   "cell_type": "code",
   "execution_count": 21,
   "id": "213a968e-3f4c-4228-9be5-04106feca1f2",
   "metadata": {},
   "outputs": [
    {
     "name": "stdout",
     "output_type": "stream",
     "text": [
      "(1, 1, 2, 5, 3, 4, 1, 8)\n"
     ]
    }
   ],
   "source": [
    "t=(1,1,2,5,3,4,1,8)\n",
    "print(t)"
   ]
  },
  {
   "cell_type": "markdown",
   "id": "74b33cae-1c90-433c-924a-2a0083b48252",
   "metadata": {},
   "source": [
    "### Tuples are immutable.We can't change the value of given item."
   ]
  },
  {
   "cell_type": "markdown",
   "id": "3bce8fd1-f843-474d-a02b-a2f07cfd6908",
   "metadata": {},
   "source": [
    "# TUPLE BUILT-IN METHODS"
   ]
  },
  {
   "cell_type": "markdown",
   "id": "33269622-3abc-4e55-b3cf-dd9cc6662990",
   "metadata": {},
   "source": [
    "## count()"
   ]
  },
  {
   "cell_type": "markdown",
   "id": "d73a3da6-f028-4a87-855b-3998c358eafd",
   "metadata": {},
   "source": [
    "### Returns the number of times a specified value occurs in a tuple"
   ]
  },
  {
   "cell_type": "code",
   "execution_count": 22,
   "id": "19985d68-f921-4d41-9f93-aa83d894f40f",
   "metadata": {},
   "outputs": [
    {
     "name": "stdout",
     "output_type": "stream",
     "text": [
      "4\n"
     ]
    }
   ],
   "source": [
    "t=(1,2,1,3,1,1,4)\n",
    "print(t.count(1))"
   ]
  },
  {
   "cell_type": "markdown",
   "id": "71ec24d0-e9db-4cfa-8aef-102c3c4ec6e7",
   "metadata": {},
   "source": [
    "### index()"
   ]
  },
  {
   "cell_type": "markdown",
   "id": "cf7dc83c-4f0c-458b-8cdb-53b83862e96a",
   "metadata": {},
   "source": [
    "### Searches the tuple for a specified value and returns the position of where it was found."
   ]
  },
  {
   "cell_type": "code",
   "execution_count": 23,
   "id": "acf976af-d073-4612-8837-a66f47268006",
   "metadata": {},
   "outputs": [
    {
     "name": "stdout",
     "output_type": "stream",
     "text": [
      "1\n"
     ]
    }
   ],
   "source": [
    "t=(1,2,3,4)\n",
    "print(t.index(2))"
   ]
  },
  {
   "cell_type": "markdown",
   "id": "ad2f11d4-e127-4675-8771-d615c2419456",
   "metadata": {},
   "source": [
    "### Tuple only have two built-in methods compared to lists because in lists we can change any value but in the case of tuple we can't change.List is mutable and tuple is immutable.Hence, two methods present in tuple."
   ]
  },
  {
   "cell_type": "markdown",
   "id": "4c5d47e0-0c87-478f-9cf8-8f650c36a196",
   "metadata": {},
   "source": [
    "# SET"
   ]
  },
  {
   "cell_type": "markdown",
   "id": "784a39c0-60b3-4696-be14-eee85bd7c970",
   "metadata": {},
   "source": [
    "### Set do not allow duplicate elements"
   ]
  },
  {
   "cell_type": "code",
   "execution_count": 25,
   "id": "9a49a8f3-4b10-44a4-ad40-ecf4f363fc88",
   "metadata": {},
   "outputs": [
    {
     "name": "stdout",
     "output_type": "stream",
     "text": [
      "{1, 2, 3, 4}\n"
     ]
    }
   ],
   "source": [
    "list=[1,1,1,2,1,3,1,4,2,1,2,2,2,3,2,4,3,1,3,2,3,3,3,4,4,1,4,2,4,3,4,4]\n",
    "print(set(list))"
   ]
  },
  {
   "cell_type": "markdown",
   "id": "07d97f4d-b7b7-4c61-9883-f41a25b0d087",
   "metadata": {},
   "source": [
    "## set.union()"
   ]
  },
  {
   "cell_type": "markdown",
   "id": "6269d30f-0054-4038-a0b6-271d6de8c9bd",
   "metadata": {},
   "source": [
    "### Returns a set that contains all items from both sets,duplicates are excluded.It returns a set that contains all elements from the original set."
   ]
  },
  {
   "cell_type": "code",
   "execution_count": 27,
   "id": "fe762c9e-1a97-4876-91fc-0d212da8de97",
   "metadata": {},
   "outputs": [
    {
     "name": "stdout",
     "output_type": "stream",
     "text": [
      "{1, 2, 3, 4, 5}\n"
     ]
    }
   ],
   "source": [
    "a={1,2,3}\n",
    "b={3,4,5}\n",
    "c=a.union(b)\n",
    "print(c)"
   ]
  },
  {
   "cell_type": "markdown",
   "id": "03a37168-0f4d-461c-81e0-1498bbad4be1",
   "metadata": {},
   "source": [
    "## set.update()"
   ]
  },
  {
   "cell_type": "markdown",
   "id": "4f10925f-b674-471f-8231-6927cf77f014",
   "metadata": {},
   "source": [
    "### Original set is modified.Therefore,it returns none after performing operation.It adds all missing elements to the set on which it is called."
   ]
  },
  {
   "cell_type": "code",
   "execution_count": 28,
   "id": "e2c6f18b-19fa-4fa0-8721-e0ff76647ee8",
   "metadata": {},
   "outputs": [
    {
     "data": {
      "text/plain": [
       "{1, 2, 3, 4, 5}"
      ]
     },
     "execution_count": 28,
     "metadata": {},
     "output_type": "execute_result"
    }
   ],
   "source": [
    "s={1,2,3}\n",
    "s.update({4,5})\n",
    "s"
   ]
  },
  {
   "cell_type": "markdown",
   "id": "8feb4d9c-7d7d-473c-b726-cadfeb67185c",
   "metadata": {},
   "source": [
    "# DICTIONARY"
   ]
  },
  {
   "cell_type": "markdown",
   "id": "c57f1233-77cc-4bd0-8785-d7cdbd071c72",
   "metadata": {},
   "source": [
    "## Dictionary is a collection of key:value pairs used to store data like a map.It can be created within curly braces."
   ]
  },
  {
   "cell_type": "code",
   "execution_count": 29,
   "id": "76761d0a-a498-41c0-94d2-70782c01dc6f",
   "metadata": {},
   "outputs": [
    {
     "name": "stdout",
     "output_type": "stream",
     "text": [
      "{1: 'k', 2: 'a', 3: 'v', 4: 'y', 5: 'a'}\n"
     ]
    }
   ],
   "source": [
    "d={1:'k',2:'a',3:'v',4:'y',5:'a'}\n",
    "print(d)"
   ]
  },
  {
   "cell_type": "markdown",
   "id": "5f439880-6872-4e3a-bc2a-2237f7baa7af",
   "metadata": {},
   "source": [
    "### Dictionaries are ordered,mutable and do not allow duplicates."
   ]
  },
  {
   "cell_type": "code",
   "execution_count": 33,
   "id": "f02498c4-8111-475a-9493-85847d368336",
   "metadata": {},
   "outputs": [
    {
     "name": "stdout",
     "output_type": "stream",
     "text": [
      "meera\n"
     ]
    }
   ],
   "source": [
    "d={\"name\":\"kavya\",\"name\":\"meera\"}\n",
    "print(d[\"name\"])"
   ]
  },
  {
   "cell_type": "code",
   "execution_count": 34,
   "id": "b8f7c46f-e6ce-4527-acce-2f3c92f12a42",
   "metadata": {},
   "outputs": [
    {
     "name": "stdout",
     "output_type": "stream",
     "text": [
      "dict_keys([1, 4, 2, 5, 3])\n"
     ]
    }
   ],
   "source": [
    "d={1:1,4:5,2:3,5:2,3:6}\n",
    "print(d.keys())"
   ]
  },
  {
   "cell_type": "code",
   "execution_count": 35,
   "id": "2864bb53-74cd-4b7c-9e7b-10f7013fb926",
   "metadata": {},
   "outputs": [
    {
     "name": "stdout",
     "output_type": "stream",
     "text": [
      "dict_values([{2: 3, 44: 5, 6: 7}, 4])\n"
     ]
    }
   ],
   "source": [
    "d={1:{2:3,44:5,6:7},3:4}\n",
    "print(d.values())"
   ]
  },
  {
   "cell_type": "markdown",
   "id": "a7a6354b-69c5-40c1-8c15-d53f5ddd8654",
   "metadata": {},
   "source": [
    "## Setdefault()"
   ]
  },
  {
   "cell_type": "markdown",
   "id": "aef3bc75-ca10-4b89-be20-98cbd2426876",
   "metadata": {},
   "source": [
    "### Returns the value of a key (if the key is in dictionary) else,it inserts a key with the default value."
   ]
  },
  {
   "cell_type": "code",
   "execution_count": 38,
   "id": "caa2f70b-1ee0-410a-b063-9cdd49fea09e",
   "metadata": {},
   "outputs": [
    {
     "name": "stdout",
     "output_type": "stream",
     "text": [
      "{'language': 'English', 'subject1': 'Machine learning', 'subject2': 'Deep learning'}\n"
     ]
    }
   ],
   "source": [
    "d={'language':'English'}\n",
    "d.setdefault('language','Python')\n",
    "d.setdefault('subject1','Machine learning')\n",
    "d.setdefault('subject2','Deep learning')\n",
    "print(d)"
   ]
  },
  {
   "cell_type": "markdown",
   "id": "1dc25d65-10f0-4423-b660-b86500fca080",
   "metadata": {},
   "source": [
    "### Three view objects in dictionary are keys,values,items."
   ]
  },
  {
   "cell_type": "markdown",
   "id": "6568b2ca-c227-4643-a19a-ce5d969cbf73",
   "metadata": {},
   "source": [
    "### Built-in functions supported by dictionary view objects"
   ]
  },
  {
   "cell_type": "markdown",
   "id": "18fe1092-642c-47c2-b254-3821e1fb4ef3",
   "metadata": {
    "tags": []
   },
   "source": [
    "## len()"
   ]
  },
  {
   "cell_type": "markdown",
   "id": "16f7922e-0e9f-4b8f-8a65-b93233ed3f50",
   "metadata": {},
   "source": [
    "## iter()"
   ]
  },
  {
   "cell_type": "markdown",
   "id": "601fb02c-d85b-44e7-91e3-952664247b00",
   "metadata": {},
   "source": [
    "## reversed()"
   ]
  },
  {
   "cell_type": "markdown",
   "id": "78a06ce7-f20c-4fb0-adc1-310c2b4758ff",
   "metadata": {},
   "source": [
    "## sorted()"
   ]
  },
  {
   "cell_type": "markdown",
   "id": "b7da468b-47ba-487d-98cd-99f1e90be7a3",
   "metadata": {},
   "source": [
    "## list()"
   ]
  },
  {
   "cell_type": "code",
   "execution_count": null,
   "id": "b6e94ac2-b40f-477b-93ce-091fdeeb13c6",
   "metadata": {},
   "outputs": [],
   "source": []
  }
 ],
 "metadata": {
  "kernelspec": {
   "display_name": "Python 3 (ipykernel)",
   "language": "python",
   "name": "python3"
  },
  "language_info": {
   "codemirror_mode": {
    "name": "ipython",
    "version": 3
   },
   "file_extension": ".py",
   "mimetype": "text/x-python",
   "name": "python",
   "nbconvert_exporter": "python",
   "pygments_lexer": "ipython3",
   "version": "3.10.8"
  }
 },
 "nbformat": 4,
 "nbformat_minor": 5
}
